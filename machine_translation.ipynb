{
  "nbformat": 4,
  "nbformat_minor": 0,
  "metadata": {
    "colab": {
      "provenance": [],
      "gpuType": "T4"
    },
    "kernelspec": {
      "name": "python3",
      "display_name": "Python 3"
    },
    "language_info": {
      "name": "python"
    },
    "accelerator": "GPU",
    "widgets": {
      "application/vnd.jupyter.widget-state+json": {
        "4924e23e452748e3bac5c458945b8752": {
          "model_module": "@jupyter-widgets/controls",
          "model_name": "HBoxModel",
          "model_module_version": "1.5.0",
          "state": {
            "_dom_classes": [],
            "_model_module": "@jupyter-widgets/controls",
            "_model_module_version": "1.5.0",
            "_model_name": "HBoxModel",
            "_view_count": null,
            "_view_module": "@jupyter-widgets/controls",
            "_view_module_version": "1.5.0",
            "_view_name": "HBoxView",
            "box_style": "",
            "children": [
              "IPY_MODEL_f447f19986a74468991518012a707813",
              "IPY_MODEL_d052cb03198e4812888f34ced507b98c",
              "IPY_MODEL_20d3f2f223e24ef6a510b7e16f0576ea"
            ],
            "layout": "IPY_MODEL_7e88bd79d89e485a85bc4c9ab3fa2660"
          }
        },
        "f447f19986a74468991518012a707813": {
          "model_module": "@jupyter-widgets/controls",
          "model_name": "HTMLModel",
          "model_module_version": "1.5.0",
          "state": {
            "_dom_classes": [],
            "_model_module": "@jupyter-widgets/controls",
            "_model_module_version": "1.5.0",
            "_model_name": "HTMLModel",
            "_view_count": null,
            "_view_module": "@jupyter-widgets/controls",
            "_view_module_version": "1.5.0",
            "_view_name": "HTMLView",
            "description": "",
            "description_tooltip": null,
            "layout": "IPY_MODEL_d5853d6eb46d471da54229ce5f1b4add",
            "placeholder": "​",
            "style": "IPY_MODEL_7acad44c2b4c4fb290baeee38b62ed63",
            "value": "Map: 100%"
          }
        },
        "d052cb03198e4812888f34ced507b98c": {
          "model_module": "@jupyter-widgets/controls",
          "model_name": "FloatProgressModel",
          "model_module_version": "1.5.0",
          "state": {
            "_dom_classes": [],
            "_model_module": "@jupyter-widgets/controls",
            "_model_module_version": "1.5.0",
            "_model_name": "FloatProgressModel",
            "_view_count": null,
            "_view_module": "@jupyter-widgets/controls",
            "_view_module_version": "1.5.0",
            "_view_name": "ProgressView",
            "bar_style": "success",
            "description": "",
            "description_tooltip": null,
            "layout": "IPY_MODEL_1fa6c48a0091424b8bb18b840c96a65a",
            "max": 1659083,
            "min": 0,
            "orientation": "horizontal",
            "style": "IPY_MODEL_19a06d06bac146feb018de1f8a4bc5e4",
            "value": 1659083
          }
        },
        "20d3f2f223e24ef6a510b7e16f0576ea": {
          "model_module": "@jupyter-widgets/controls",
          "model_name": "HTMLModel",
          "model_module_version": "1.5.0",
          "state": {
            "_dom_classes": [],
            "_model_module": "@jupyter-widgets/controls",
            "_model_module_version": "1.5.0",
            "_model_name": "HTMLModel",
            "_view_count": null,
            "_view_module": "@jupyter-widgets/controls",
            "_view_module_version": "1.5.0",
            "_view_name": "HTMLView",
            "description": "",
            "description_tooltip": null,
            "layout": "IPY_MODEL_3a680916001f43c5b393357e70c5c273",
            "placeholder": "​",
            "style": "IPY_MODEL_cf1b4382f9d848afac7ce96dc2447914",
            "value": " 1659083/1659083 [06:26&lt;00:00, 4017.91 examples/s]"
          }
        },
        "7e88bd79d89e485a85bc4c9ab3fa2660": {
          "model_module": "@jupyter-widgets/base",
          "model_name": "LayoutModel",
          "model_module_version": "1.2.0",
          "state": {
            "_model_module": "@jupyter-widgets/base",
            "_model_module_version": "1.2.0",
            "_model_name": "LayoutModel",
            "_view_count": null,
            "_view_module": "@jupyter-widgets/base",
            "_view_module_version": "1.2.0",
            "_view_name": "LayoutView",
            "align_content": null,
            "align_items": null,
            "align_self": null,
            "border": null,
            "bottom": null,
            "display": null,
            "flex": null,
            "flex_flow": null,
            "grid_area": null,
            "grid_auto_columns": null,
            "grid_auto_flow": null,
            "grid_auto_rows": null,
            "grid_column": null,
            "grid_gap": null,
            "grid_row": null,
            "grid_template_areas": null,
            "grid_template_columns": null,
            "grid_template_rows": null,
            "height": null,
            "justify_content": null,
            "justify_items": null,
            "left": null,
            "margin": null,
            "max_height": null,
            "max_width": null,
            "min_height": null,
            "min_width": null,
            "object_fit": null,
            "object_position": null,
            "order": null,
            "overflow": null,
            "overflow_x": null,
            "overflow_y": null,
            "padding": null,
            "right": null,
            "top": null,
            "visibility": null,
            "width": null
          }
        },
        "d5853d6eb46d471da54229ce5f1b4add": {
          "model_module": "@jupyter-widgets/base",
          "model_name": "LayoutModel",
          "model_module_version": "1.2.0",
          "state": {
            "_model_module": "@jupyter-widgets/base",
            "_model_module_version": "1.2.0",
            "_model_name": "LayoutModel",
            "_view_count": null,
            "_view_module": "@jupyter-widgets/base",
            "_view_module_version": "1.2.0",
            "_view_name": "LayoutView",
            "align_content": null,
            "align_items": null,
            "align_self": null,
            "border": null,
            "bottom": null,
            "display": null,
            "flex": null,
            "flex_flow": null,
            "grid_area": null,
            "grid_auto_columns": null,
            "grid_auto_flow": null,
            "grid_auto_rows": null,
            "grid_column": null,
            "grid_gap": null,
            "grid_row": null,
            "grid_template_areas": null,
            "grid_template_columns": null,
            "grid_template_rows": null,
            "height": null,
            "justify_content": null,
            "justify_items": null,
            "left": null,
            "margin": null,
            "max_height": null,
            "max_width": null,
            "min_height": null,
            "min_width": null,
            "object_fit": null,
            "object_position": null,
            "order": null,
            "overflow": null,
            "overflow_x": null,
            "overflow_y": null,
            "padding": null,
            "right": null,
            "top": null,
            "visibility": null,
            "width": null
          }
        },
        "7acad44c2b4c4fb290baeee38b62ed63": {
          "model_module": "@jupyter-widgets/controls",
          "model_name": "DescriptionStyleModel",
          "model_module_version": "1.5.0",
          "state": {
            "_model_module": "@jupyter-widgets/controls",
            "_model_module_version": "1.5.0",
            "_model_name": "DescriptionStyleModel",
            "_view_count": null,
            "_view_module": "@jupyter-widgets/base",
            "_view_module_version": "1.2.0",
            "_view_name": "StyleView",
            "description_width": ""
          }
        },
        "1fa6c48a0091424b8bb18b840c96a65a": {
          "model_module": "@jupyter-widgets/base",
          "model_name": "LayoutModel",
          "model_module_version": "1.2.0",
          "state": {
            "_model_module": "@jupyter-widgets/base",
            "_model_module_version": "1.2.0",
            "_model_name": "LayoutModel",
            "_view_count": null,
            "_view_module": "@jupyter-widgets/base",
            "_view_module_version": "1.2.0",
            "_view_name": "LayoutView",
            "align_content": null,
            "align_items": null,
            "align_self": null,
            "border": null,
            "bottom": null,
            "display": null,
            "flex": null,
            "flex_flow": null,
            "grid_area": null,
            "grid_auto_columns": null,
            "grid_auto_flow": null,
            "grid_auto_rows": null,
            "grid_column": null,
            "grid_gap": null,
            "grid_row": null,
            "grid_template_areas": null,
            "grid_template_columns": null,
            "grid_template_rows": null,
            "height": null,
            "justify_content": null,
            "justify_items": null,
            "left": null,
            "margin": null,
            "max_height": null,
            "max_width": null,
            "min_height": null,
            "min_width": null,
            "object_fit": null,
            "object_position": null,
            "order": null,
            "overflow": null,
            "overflow_x": null,
            "overflow_y": null,
            "padding": null,
            "right": null,
            "top": null,
            "visibility": null,
            "width": null
          }
        },
        "19a06d06bac146feb018de1f8a4bc5e4": {
          "model_module": "@jupyter-widgets/controls",
          "model_name": "ProgressStyleModel",
          "model_module_version": "1.5.0",
          "state": {
            "_model_module": "@jupyter-widgets/controls",
            "_model_module_version": "1.5.0",
            "_model_name": "ProgressStyleModel",
            "_view_count": null,
            "_view_module": "@jupyter-widgets/base",
            "_view_module_version": "1.2.0",
            "_view_name": "StyleView",
            "bar_color": null,
            "description_width": ""
          }
        },
        "3a680916001f43c5b393357e70c5c273": {
          "model_module": "@jupyter-widgets/base",
          "model_name": "LayoutModel",
          "model_module_version": "1.2.0",
          "state": {
            "_model_module": "@jupyter-widgets/base",
            "_model_module_version": "1.2.0",
            "_model_name": "LayoutModel",
            "_view_count": null,
            "_view_module": "@jupyter-widgets/base",
            "_view_module_version": "1.2.0",
            "_view_name": "LayoutView",
            "align_content": null,
            "align_items": null,
            "align_self": null,
            "border": null,
            "bottom": null,
            "display": null,
            "flex": null,
            "flex_flow": null,
            "grid_area": null,
            "grid_auto_columns": null,
            "grid_auto_flow": null,
            "grid_auto_rows": null,
            "grid_column": null,
            "grid_gap": null,
            "grid_row": null,
            "grid_template_areas": null,
            "grid_template_columns": null,
            "grid_template_rows": null,
            "height": null,
            "justify_content": null,
            "justify_items": null,
            "left": null,
            "margin": null,
            "max_height": null,
            "max_width": null,
            "min_height": null,
            "min_width": null,
            "object_fit": null,
            "object_position": null,
            "order": null,
            "overflow": null,
            "overflow_x": null,
            "overflow_y": null,
            "padding": null,
            "right": null,
            "top": null,
            "visibility": null,
            "width": null
          }
        },
        "cf1b4382f9d848afac7ce96dc2447914": {
          "model_module": "@jupyter-widgets/controls",
          "model_name": "DescriptionStyleModel",
          "model_module_version": "1.5.0",
          "state": {
            "_model_module": "@jupyter-widgets/controls",
            "_model_module_version": "1.5.0",
            "_model_name": "DescriptionStyleModel",
            "_view_count": null,
            "_view_module": "@jupyter-widgets/base",
            "_view_module_version": "1.2.0",
            "_view_name": "StyleView",
            "description_width": ""
          }
        },
        "2aa88b37e45a49f2acfec4abfcd15a05": {
          "model_module": "@jupyter-widgets/controls",
          "model_name": "HBoxModel",
          "model_module_version": "1.5.0",
          "state": {
            "_dom_classes": [],
            "_model_module": "@jupyter-widgets/controls",
            "_model_module_version": "1.5.0",
            "_model_name": "HBoxModel",
            "_view_count": null,
            "_view_module": "@jupyter-widgets/controls",
            "_view_module_version": "1.5.0",
            "_view_name": "HBoxView",
            "box_style": "",
            "children": [
              "IPY_MODEL_9960d883c00443ffb604b84c64c29933",
              "IPY_MODEL_2f42aae3734b41d3afea1cc01f95a3bd",
              "IPY_MODEL_b7a2f7b52f124642acdc83f0c8aefd11"
            ],
            "layout": "IPY_MODEL_a77348b4be5a436aaf68baa820c6a88d"
          }
        },
        "9960d883c00443ffb604b84c64c29933": {
          "model_module": "@jupyter-widgets/controls",
          "model_name": "HTMLModel",
          "model_module_version": "1.5.0",
          "state": {
            "_dom_classes": [],
            "_model_module": "@jupyter-widgets/controls",
            "_model_module_version": "1.5.0",
            "_model_name": "HTMLModel",
            "_view_count": null,
            "_view_module": "@jupyter-widgets/controls",
            "_view_module_version": "1.5.0",
            "_view_name": "HTMLView",
            "description": "",
            "description_tooltip": null,
            "layout": "IPY_MODEL_1feb676764a2414f85ebe8fb561f667c",
            "placeholder": "​",
            "style": "IPY_MODEL_407cefce56994a9eb26322909210d2a4",
            "value": "Map: 100%"
          }
        },
        "2f42aae3734b41d3afea1cc01f95a3bd": {
          "model_module": "@jupyter-widgets/controls",
          "model_name": "FloatProgressModel",
          "model_module_version": "1.5.0",
          "state": {
            "_dom_classes": [],
            "_model_module": "@jupyter-widgets/controls",
            "_model_module_version": "1.5.0",
            "_model_name": "FloatProgressModel",
            "_view_count": null,
            "_view_module": "@jupyter-widgets/controls",
            "_view_module_version": "1.5.0",
            "_view_name": "ProgressView",
            "bar_style": "success",
            "description": "",
            "description_tooltip": null,
            "layout": "IPY_MODEL_8426ae5eaf434e23b7ee1ef23bee2884",
            "max": 520,
            "min": 0,
            "orientation": "horizontal",
            "style": "IPY_MODEL_f3e643c2f75e430d9b00982404ceae20",
            "value": 520
          }
        },
        "b7a2f7b52f124642acdc83f0c8aefd11": {
          "model_module": "@jupyter-widgets/controls",
          "model_name": "HTMLModel",
          "model_module_version": "1.5.0",
          "state": {
            "_dom_classes": [],
            "_model_module": "@jupyter-widgets/controls",
            "_model_module_version": "1.5.0",
            "_model_name": "HTMLModel",
            "_view_count": null,
            "_view_module": "@jupyter-widgets/controls",
            "_view_module_version": "1.5.0",
            "_view_name": "HTMLView",
            "description": "",
            "description_tooltip": null,
            "layout": "IPY_MODEL_7f183369e4534a97bf569b9be056fd78",
            "placeholder": "​",
            "style": "IPY_MODEL_1b93fd08e9754e19b1a9d847fa95aa80",
            "value": " 520/520 [00:00&lt;00:00, 1909.77 examples/s]"
          }
        },
        "a77348b4be5a436aaf68baa820c6a88d": {
          "model_module": "@jupyter-widgets/base",
          "model_name": "LayoutModel",
          "model_module_version": "1.2.0",
          "state": {
            "_model_module": "@jupyter-widgets/base",
            "_model_module_version": "1.2.0",
            "_model_name": "LayoutModel",
            "_view_count": null,
            "_view_module": "@jupyter-widgets/base",
            "_view_module_version": "1.2.0",
            "_view_name": "LayoutView",
            "align_content": null,
            "align_items": null,
            "align_self": null,
            "border": null,
            "bottom": null,
            "display": null,
            "flex": null,
            "flex_flow": null,
            "grid_area": null,
            "grid_auto_columns": null,
            "grid_auto_flow": null,
            "grid_auto_rows": null,
            "grid_column": null,
            "grid_gap": null,
            "grid_row": null,
            "grid_template_areas": null,
            "grid_template_columns": null,
            "grid_template_rows": null,
            "height": null,
            "justify_content": null,
            "justify_items": null,
            "left": null,
            "margin": null,
            "max_height": null,
            "max_width": null,
            "min_height": null,
            "min_width": null,
            "object_fit": null,
            "object_position": null,
            "order": null,
            "overflow": null,
            "overflow_x": null,
            "overflow_y": null,
            "padding": null,
            "right": null,
            "top": null,
            "visibility": null,
            "width": null
          }
        },
        "1feb676764a2414f85ebe8fb561f667c": {
          "model_module": "@jupyter-widgets/base",
          "model_name": "LayoutModel",
          "model_module_version": "1.2.0",
          "state": {
            "_model_module": "@jupyter-widgets/base",
            "_model_module_version": "1.2.0",
            "_model_name": "LayoutModel",
            "_view_count": null,
            "_view_module": "@jupyter-widgets/base",
            "_view_module_version": "1.2.0",
            "_view_name": "LayoutView",
            "align_content": null,
            "align_items": null,
            "align_self": null,
            "border": null,
            "bottom": null,
            "display": null,
            "flex": null,
            "flex_flow": null,
            "grid_area": null,
            "grid_auto_columns": null,
            "grid_auto_flow": null,
            "grid_auto_rows": null,
            "grid_column": null,
            "grid_gap": null,
            "grid_row": null,
            "grid_template_areas": null,
            "grid_template_columns": null,
            "grid_template_rows": null,
            "height": null,
            "justify_content": null,
            "justify_items": null,
            "left": null,
            "margin": null,
            "max_height": null,
            "max_width": null,
            "min_height": null,
            "min_width": null,
            "object_fit": null,
            "object_position": null,
            "order": null,
            "overflow": null,
            "overflow_x": null,
            "overflow_y": null,
            "padding": null,
            "right": null,
            "top": null,
            "visibility": null,
            "width": null
          }
        },
        "407cefce56994a9eb26322909210d2a4": {
          "model_module": "@jupyter-widgets/controls",
          "model_name": "DescriptionStyleModel",
          "model_module_version": "1.5.0",
          "state": {
            "_model_module": "@jupyter-widgets/controls",
            "_model_module_version": "1.5.0",
            "_model_name": "DescriptionStyleModel",
            "_view_count": null,
            "_view_module": "@jupyter-widgets/base",
            "_view_module_version": "1.2.0",
            "_view_name": "StyleView",
            "description_width": ""
          }
        },
        "8426ae5eaf434e23b7ee1ef23bee2884": {
          "model_module": "@jupyter-widgets/base",
          "model_name": "LayoutModel",
          "model_module_version": "1.2.0",
          "state": {
            "_model_module": "@jupyter-widgets/base",
            "_model_module_version": "1.2.0",
            "_model_name": "LayoutModel",
            "_view_count": null,
            "_view_module": "@jupyter-widgets/base",
            "_view_module_version": "1.2.0",
            "_view_name": "LayoutView",
            "align_content": null,
            "align_items": null,
            "align_self": null,
            "border": null,
            "bottom": null,
            "display": null,
            "flex": null,
            "flex_flow": null,
            "grid_area": null,
            "grid_auto_columns": null,
            "grid_auto_flow": null,
            "grid_auto_rows": null,
            "grid_column": null,
            "grid_gap": null,
            "grid_row": null,
            "grid_template_areas": null,
            "grid_template_columns": null,
            "grid_template_rows": null,
            "height": null,
            "justify_content": null,
            "justify_items": null,
            "left": null,
            "margin": null,
            "max_height": null,
            "max_width": null,
            "min_height": null,
            "min_width": null,
            "object_fit": null,
            "object_position": null,
            "order": null,
            "overflow": null,
            "overflow_x": null,
            "overflow_y": null,
            "padding": null,
            "right": null,
            "top": null,
            "visibility": null,
            "width": null
          }
        },
        "f3e643c2f75e430d9b00982404ceae20": {
          "model_module": "@jupyter-widgets/controls",
          "model_name": "ProgressStyleModel",
          "model_module_version": "1.5.0",
          "state": {
            "_model_module": "@jupyter-widgets/controls",
            "_model_module_version": "1.5.0",
            "_model_name": "ProgressStyleModel",
            "_view_count": null,
            "_view_module": "@jupyter-widgets/base",
            "_view_module_version": "1.2.0",
            "_view_name": "StyleView",
            "bar_color": null,
            "description_width": ""
          }
        },
        "7f183369e4534a97bf569b9be056fd78": {
          "model_module": "@jupyter-widgets/base",
          "model_name": "LayoutModel",
          "model_module_version": "1.2.0",
          "state": {
            "_model_module": "@jupyter-widgets/base",
            "_model_module_version": "1.2.0",
            "_model_name": "LayoutModel",
            "_view_count": null,
            "_view_module": "@jupyter-widgets/base",
            "_view_module_version": "1.2.0",
            "_view_name": "LayoutView",
            "align_content": null,
            "align_items": null,
            "align_self": null,
            "border": null,
            "bottom": null,
            "display": null,
            "flex": null,
            "flex_flow": null,
            "grid_area": null,
            "grid_auto_columns": null,
            "grid_auto_flow": null,
            "grid_auto_rows": null,
            "grid_column": null,
            "grid_gap": null,
            "grid_row": null,
            "grid_template_areas": null,
            "grid_template_columns": null,
            "grid_template_rows": null,
            "height": null,
            "justify_content": null,
            "justify_items": null,
            "left": null,
            "margin": null,
            "max_height": null,
            "max_width": null,
            "min_height": null,
            "min_width": null,
            "object_fit": null,
            "object_position": null,
            "order": null,
            "overflow": null,
            "overflow_x": null,
            "overflow_y": null,
            "padding": null,
            "right": null,
            "top": null,
            "visibility": null,
            "width": null
          }
        },
        "1b93fd08e9754e19b1a9d847fa95aa80": {
          "model_module": "@jupyter-widgets/controls",
          "model_name": "DescriptionStyleModel",
          "model_module_version": "1.5.0",
          "state": {
            "_model_module": "@jupyter-widgets/controls",
            "_model_module_version": "1.5.0",
            "_model_name": "DescriptionStyleModel",
            "_view_count": null,
            "_view_module": "@jupyter-widgets/base",
            "_view_module_version": "1.2.0",
            "_view_name": "StyleView",
            "description_width": ""
          }
        },
        "d36f1cc99d9b4e1e8fc999d151509e52": {
          "model_module": "@jupyter-widgets/controls",
          "model_name": "HBoxModel",
          "model_module_version": "1.5.0",
          "state": {
            "_dom_classes": [],
            "_model_module": "@jupyter-widgets/controls",
            "_model_module_version": "1.5.0",
            "_model_name": "HBoxModel",
            "_view_count": null,
            "_view_module": "@jupyter-widgets/controls",
            "_view_module_version": "1.5.0",
            "_view_name": "HBoxView",
            "box_style": "",
            "children": [
              "IPY_MODEL_8eac9c8aeba449718e2861b4ef81c576",
              "IPY_MODEL_65392044376e49aba49460cfe7b36f5e",
              "IPY_MODEL_4b0f0602704e4208a0b2fe49264be357"
            ],
            "layout": "IPY_MODEL_61e8b5a40ca04af78963be3cb1226c48"
          }
        },
        "8eac9c8aeba449718e2861b4ef81c576": {
          "model_module": "@jupyter-widgets/controls",
          "model_name": "HTMLModel",
          "model_module_version": "1.5.0",
          "state": {
            "_dom_classes": [],
            "_model_module": "@jupyter-widgets/controls",
            "_model_module_version": "1.5.0",
            "_model_name": "HTMLModel",
            "_view_count": null,
            "_view_module": "@jupyter-widgets/controls",
            "_view_module_version": "1.5.0",
            "_view_name": "HTMLView",
            "description": "",
            "description_tooltip": null,
            "layout": "IPY_MODEL_b09670509bc24fd79ff64c6434dcd33f",
            "placeholder": "​",
            "style": "IPY_MODEL_e70031655cd14b4daf25bafdbb5d3003",
            "value": "Map: 100%"
          }
        },
        "65392044376e49aba49460cfe7b36f5e": {
          "model_module": "@jupyter-widgets/controls",
          "model_name": "FloatProgressModel",
          "model_module_version": "1.5.0",
          "state": {
            "_dom_classes": [],
            "_model_module": "@jupyter-widgets/controls",
            "_model_module_version": "1.5.0",
            "_model_name": "FloatProgressModel",
            "_view_count": null,
            "_view_module": "@jupyter-widgets/controls",
            "_view_module_version": "1.5.0",
            "_view_name": "ProgressView",
            "bar_style": "success",
            "description": "",
            "description_tooltip": null,
            "layout": "IPY_MODEL_25faa7f8d3f049e7bcc4c519d2382a27",
            "max": 2507,
            "min": 0,
            "orientation": "horizontal",
            "style": "IPY_MODEL_d196a7592c384b3e830aef8d9ebf546c",
            "value": 2507
          }
        },
        "4b0f0602704e4208a0b2fe49264be357": {
          "model_module": "@jupyter-widgets/controls",
          "model_name": "HTMLModel",
          "model_module_version": "1.5.0",
          "state": {
            "_dom_classes": [],
            "_model_module": "@jupyter-widgets/controls",
            "_model_module_version": "1.5.0",
            "_model_name": "HTMLModel",
            "_view_count": null,
            "_view_module": "@jupyter-widgets/controls",
            "_view_module_version": "1.5.0",
            "_view_name": "HTMLView",
            "description": "",
            "description_tooltip": null,
            "layout": "IPY_MODEL_1a8bf7073dc4497fafba9de978f0db31",
            "placeholder": "​",
            "style": "IPY_MODEL_64654ed270e444f8976338db0342b0e3",
            "value": " 2507/2507 [00:01&lt;00:00, 2472.18 examples/s]"
          }
        },
        "61e8b5a40ca04af78963be3cb1226c48": {
          "model_module": "@jupyter-widgets/base",
          "model_name": "LayoutModel",
          "model_module_version": "1.2.0",
          "state": {
            "_model_module": "@jupyter-widgets/base",
            "_model_module_version": "1.2.0",
            "_model_name": "LayoutModel",
            "_view_count": null,
            "_view_module": "@jupyter-widgets/base",
            "_view_module_version": "1.2.0",
            "_view_name": "LayoutView",
            "align_content": null,
            "align_items": null,
            "align_self": null,
            "border": null,
            "bottom": null,
            "display": null,
            "flex": null,
            "flex_flow": null,
            "grid_area": null,
            "grid_auto_columns": null,
            "grid_auto_flow": null,
            "grid_auto_rows": null,
            "grid_column": null,
            "grid_gap": null,
            "grid_row": null,
            "grid_template_areas": null,
            "grid_template_columns": null,
            "grid_template_rows": null,
            "height": null,
            "justify_content": null,
            "justify_items": null,
            "left": null,
            "margin": null,
            "max_height": null,
            "max_width": null,
            "min_height": null,
            "min_width": null,
            "object_fit": null,
            "object_position": null,
            "order": null,
            "overflow": null,
            "overflow_x": null,
            "overflow_y": null,
            "padding": null,
            "right": null,
            "top": null,
            "visibility": null,
            "width": null
          }
        },
        "b09670509bc24fd79ff64c6434dcd33f": {
          "model_module": "@jupyter-widgets/base",
          "model_name": "LayoutModel",
          "model_module_version": "1.2.0",
          "state": {
            "_model_module": "@jupyter-widgets/base",
            "_model_module_version": "1.2.0",
            "_model_name": "LayoutModel",
            "_view_count": null,
            "_view_module": "@jupyter-widgets/base",
            "_view_module_version": "1.2.0",
            "_view_name": "LayoutView",
            "align_content": null,
            "align_items": null,
            "align_self": null,
            "border": null,
            "bottom": null,
            "display": null,
            "flex": null,
            "flex_flow": null,
            "grid_area": null,
            "grid_auto_columns": null,
            "grid_auto_flow": null,
            "grid_auto_rows": null,
            "grid_column": null,
            "grid_gap": null,
            "grid_row": null,
            "grid_template_areas": null,
            "grid_template_columns": null,
            "grid_template_rows": null,
            "height": null,
            "justify_content": null,
            "justify_items": null,
            "left": null,
            "margin": null,
            "max_height": null,
            "max_width": null,
            "min_height": null,
            "min_width": null,
            "object_fit": null,
            "object_position": null,
            "order": null,
            "overflow": null,
            "overflow_x": null,
            "overflow_y": null,
            "padding": null,
            "right": null,
            "top": null,
            "visibility": null,
            "width": null
          }
        },
        "e70031655cd14b4daf25bafdbb5d3003": {
          "model_module": "@jupyter-widgets/controls",
          "model_name": "DescriptionStyleModel",
          "model_module_version": "1.5.0",
          "state": {
            "_model_module": "@jupyter-widgets/controls",
            "_model_module_version": "1.5.0",
            "_model_name": "DescriptionStyleModel",
            "_view_count": null,
            "_view_module": "@jupyter-widgets/base",
            "_view_module_version": "1.2.0",
            "_view_name": "StyleView",
            "description_width": ""
          }
        },
        "25faa7f8d3f049e7bcc4c519d2382a27": {
          "model_module": "@jupyter-widgets/base",
          "model_name": "LayoutModel",
          "model_module_version": "1.2.0",
          "state": {
            "_model_module": "@jupyter-widgets/base",
            "_model_module_version": "1.2.0",
            "_model_name": "LayoutModel",
            "_view_count": null,
            "_view_module": "@jupyter-widgets/base",
            "_view_module_version": "1.2.0",
            "_view_name": "LayoutView",
            "align_content": null,
            "align_items": null,
            "align_self": null,
            "border": null,
            "bottom": null,
            "display": null,
            "flex": null,
            "flex_flow": null,
            "grid_area": null,
            "grid_auto_columns": null,
            "grid_auto_flow": null,
            "grid_auto_rows": null,
            "grid_column": null,
            "grid_gap": null,
            "grid_row": null,
            "grid_template_areas": null,
            "grid_template_columns": null,
            "grid_template_rows": null,
            "height": null,
            "justify_content": null,
            "justify_items": null,
            "left": null,
            "margin": null,
            "max_height": null,
            "max_width": null,
            "min_height": null,
            "min_width": null,
            "object_fit": null,
            "object_position": null,
            "order": null,
            "overflow": null,
            "overflow_x": null,
            "overflow_y": null,
            "padding": null,
            "right": null,
            "top": null,
            "visibility": null,
            "width": null
          }
        },
        "d196a7592c384b3e830aef8d9ebf546c": {
          "model_module": "@jupyter-widgets/controls",
          "model_name": "ProgressStyleModel",
          "model_module_version": "1.5.0",
          "state": {
            "_model_module": "@jupyter-widgets/controls",
            "_model_module_version": "1.5.0",
            "_model_name": "ProgressStyleModel",
            "_view_count": null,
            "_view_module": "@jupyter-widgets/base",
            "_view_module_version": "1.2.0",
            "_view_name": "StyleView",
            "bar_color": null,
            "description_width": ""
          }
        },
        "1a8bf7073dc4497fafba9de978f0db31": {
          "model_module": "@jupyter-widgets/base",
          "model_name": "LayoutModel",
          "model_module_version": "1.2.0",
          "state": {
            "_model_module": "@jupyter-widgets/base",
            "_model_module_version": "1.2.0",
            "_model_name": "LayoutModel",
            "_view_count": null,
            "_view_module": "@jupyter-widgets/base",
            "_view_module_version": "1.2.0",
            "_view_name": "LayoutView",
            "align_content": null,
            "align_items": null,
            "align_self": null,
            "border": null,
            "bottom": null,
            "display": null,
            "flex": null,
            "flex_flow": null,
            "grid_area": null,
            "grid_auto_columns": null,
            "grid_auto_flow": null,
            "grid_auto_rows": null,
            "grid_column": null,
            "grid_gap": null,
            "grid_row": null,
            "grid_template_areas": null,
            "grid_template_columns": null,
            "grid_template_rows": null,
            "height": null,
            "justify_content": null,
            "justify_items": null,
            "left": null,
            "margin": null,
            "max_height": null,
            "max_width": null,
            "min_height": null,
            "min_width": null,
            "object_fit": null,
            "object_position": null,
            "order": null,
            "overflow": null,
            "overflow_x": null,
            "overflow_y": null,
            "padding": null,
            "right": null,
            "top": null,
            "visibility": null,
            "width": null
          }
        },
        "64654ed270e444f8976338db0342b0e3": {
          "model_module": "@jupyter-widgets/controls",
          "model_name": "DescriptionStyleModel",
          "model_module_version": "1.5.0",
          "state": {
            "_model_module": "@jupyter-widgets/controls",
            "_model_module_version": "1.5.0",
            "_model_name": "DescriptionStyleModel",
            "_view_count": null,
            "_view_module": "@jupyter-widgets/base",
            "_view_module_version": "1.2.0",
            "_view_name": "StyleView",
            "description_width": ""
          }
        },
        "54832dd6d9e2492f98cbc1e1117f71c7": {
          "model_module": "@jupyter-widgets/controls",
          "model_name": "HBoxModel",
          "model_module_version": "1.5.0",
          "state": {
            "_dom_classes": [],
            "_model_module": "@jupyter-widgets/controls",
            "_model_module_version": "1.5.0",
            "_model_name": "HBoxModel",
            "_view_count": null,
            "_view_module": "@jupyter-widgets/controls",
            "_view_module_version": "1.5.0",
            "_view_name": "HBoxView",
            "box_style": "",
            "children": [
              "IPY_MODEL_af92a33b8a2d459f837c5d7d6c5be3bd",
              "IPY_MODEL_e372abf788d84dcca8fd381ca056ff43",
              "IPY_MODEL_6cfa77e499b84fde8d22df1ad4c5f6f6"
            ],
            "layout": "IPY_MODEL_5d51accd057343978f51e320546dac2d"
          }
        },
        "af92a33b8a2d459f837c5d7d6c5be3bd": {
          "model_module": "@jupyter-widgets/controls",
          "model_name": "HTMLModel",
          "model_module_version": "1.5.0",
          "state": {
            "_dom_classes": [],
            "_model_module": "@jupyter-widgets/controls",
            "_model_module_version": "1.5.0",
            "_model_name": "HTMLModel",
            "_view_count": null,
            "_view_module": "@jupyter-widgets/controls",
            "_view_module_version": "1.5.0",
            "_view_name": "HTMLView",
            "description": "",
            "description_tooltip": null,
            "layout": "IPY_MODEL_e148d99e3d3642db8c5581cb48192dfb",
            "placeholder": "​",
            "style": "IPY_MODEL_09794c41637a4f338e7e8e3a25d611d5",
            "value": "tf_model.h5: 100%"
          }
        },
        "e372abf788d84dcca8fd381ca056ff43": {
          "model_module": "@jupyter-widgets/controls",
          "model_name": "FloatProgressModel",
          "model_module_version": "1.5.0",
          "state": {
            "_dom_classes": [],
            "_model_module": "@jupyter-widgets/controls",
            "_model_module_version": "1.5.0",
            "_model_name": "FloatProgressModel",
            "_view_count": null,
            "_view_module": "@jupyter-widgets/controls",
            "_view_module_version": "1.5.0",
            "_view_name": "ProgressView",
            "bar_style": "success",
            "description": "",
            "description_tooltip": null,
            "layout": "IPY_MODEL_4655ef5821444a01a26528b1b639bb29",
            "max": 306307744,
            "min": 0,
            "orientation": "horizontal",
            "style": "IPY_MODEL_bcdb4ffb28ca4b829a10b96f1392355b",
            "value": 306307744
          }
        },
        "6cfa77e499b84fde8d22df1ad4c5f6f6": {
          "model_module": "@jupyter-widgets/controls",
          "model_name": "HTMLModel",
          "model_module_version": "1.5.0",
          "state": {
            "_dom_classes": [],
            "_model_module": "@jupyter-widgets/controls",
            "_model_module_version": "1.5.0",
            "_model_name": "HTMLModel",
            "_view_count": null,
            "_view_module": "@jupyter-widgets/controls",
            "_view_module_version": "1.5.0",
            "_view_name": "HTMLView",
            "description": "",
            "description_tooltip": null,
            "layout": "IPY_MODEL_ece9606bff6e4ca49af81219753d436a",
            "placeholder": "​",
            "style": "IPY_MODEL_dac9d39586c24a6ab0811f26b43a26a0",
            "value": " 306M/306M [00:01&lt;00:00, 224MB/s]"
          }
        },
        "5d51accd057343978f51e320546dac2d": {
          "model_module": "@jupyter-widgets/base",
          "model_name": "LayoutModel",
          "model_module_version": "1.2.0",
          "state": {
            "_model_module": "@jupyter-widgets/base",
            "_model_module_version": "1.2.0",
            "_model_name": "LayoutModel",
            "_view_count": null,
            "_view_module": "@jupyter-widgets/base",
            "_view_module_version": "1.2.0",
            "_view_name": "LayoutView",
            "align_content": null,
            "align_items": null,
            "align_self": null,
            "border": null,
            "bottom": null,
            "display": null,
            "flex": null,
            "flex_flow": null,
            "grid_area": null,
            "grid_auto_columns": null,
            "grid_auto_flow": null,
            "grid_auto_rows": null,
            "grid_column": null,
            "grid_gap": null,
            "grid_row": null,
            "grid_template_areas": null,
            "grid_template_columns": null,
            "grid_template_rows": null,
            "height": null,
            "justify_content": null,
            "justify_items": null,
            "left": null,
            "margin": null,
            "max_height": null,
            "max_width": null,
            "min_height": null,
            "min_width": null,
            "object_fit": null,
            "object_position": null,
            "order": null,
            "overflow": null,
            "overflow_x": null,
            "overflow_y": null,
            "padding": null,
            "right": null,
            "top": null,
            "visibility": null,
            "width": null
          }
        },
        "e148d99e3d3642db8c5581cb48192dfb": {
          "model_module": "@jupyter-widgets/base",
          "model_name": "LayoutModel",
          "model_module_version": "1.2.0",
          "state": {
            "_model_module": "@jupyter-widgets/base",
            "_model_module_version": "1.2.0",
            "_model_name": "LayoutModel",
            "_view_count": null,
            "_view_module": "@jupyter-widgets/base",
            "_view_module_version": "1.2.0",
            "_view_name": "LayoutView",
            "align_content": null,
            "align_items": null,
            "align_self": null,
            "border": null,
            "bottom": null,
            "display": null,
            "flex": null,
            "flex_flow": null,
            "grid_area": null,
            "grid_auto_columns": null,
            "grid_auto_flow": null,
            "grid_auto_rows": null,
            "grid_column": null,
            "grid_gap": null,
            "grid_row": null,
            "grid_template_areas": null,
            "grid_template_columns": null,
            "grid_template_rows": null,
            "height": null,
            "justify_content": null,
            "justify_items": null,
            "left": null,
            "margin": null,
            "max_height": null,
            "max_width": null,
            "min_height": null,
            "min_width": null,
            "object_fit": null,
            "object_position": null,
            "order": null,
            "overflow": null,
            "overflow_x": null,
            "overflow_y": null,
            "padding": null,
            "right": null,
            "top": null,
            "visibility": null,
            "width": null
          }
        },
        "09794c41637a4f338e7e8e3a25d611d5": {
          "model_module": "@jupyter-widgets/controls",
          "model_name": "DescriptionStyleModel",
          "model_module_version": "1.5.0",
          "state": {
            "_model_module": "@jupyter-widgets/controls",
            "_model_module_version": "1.5.0",
            "_model_name": "DescriptionStyleModel",
            "_view_count": null,
            "_view_module": "@jupyter-widgets/base",
            "_view_module_version": "1.2.0",
            "_view_name": "StyleView",
            "description_width": ""
          }
        },
        "4655ef5821444a01a26528b1b639bb29": {
          "model_module": "@jupyter-widgets/base",
          "model_name": "LayoutModel",
          "model_module_version": "1.2.0",
          "state": {
            "_model_module": "@jupyter-widgets/base",
            "_model_module_version": "1.2.0",
            "_model_name": "LayoutModel",
            "_view_count": null,
            "_view_module": "@jupyter-widgets/base",
            "_view_module_version": "1.2.0",
            "_view_name": "LayoutView",
            "align_content": null,
            "align_items": null,
            "align_self": null,
            "border": null,
            "bottom": null,
            "display": null,
            "flex": null,
            "flex_flow": null,
            "grid_area": null,
            "grid_auto_columns": null,
            "grid_auto_flow": null,
            "grid_auto_rows": null,
            "grid_column": null,
            "grid_gap": null,
            "grid_row": null,
            "grid_template_areas": null,
            "grid_template_columns": null,
            "grid_template_rows": null,
            "height": null,
            "justify_content": null,
            "justify_items": null,
            "left": null,
            "margin": null,
            "max_height": null,
            "max_width": null,
            "min_height": null,
            "min_width": null,
            "object_fit": null,
            "object_position": null,
            "order": null,
            "overflow": null,
            "overflow_x": null,
            "overflow_y": null,
            "padding": null,
            "right": null,
            "top": null,
            "visibility": null,
            "width": null
          }
        },
        "bcdb4ffb28ca4b829a10b96f1392355b": {
          "model_module": "@jupyter-widgets/controls",
          "model_name": "ProgressStyleModel",
          "model_module_version": "1.5.0",
          "state": {
            "_model_module": "@jupyter-widgets/controls",
            "_model_module_version": "1.5.0",
            "_model_name": "ProgressStyleModel",
            "_view_count": null,
            "_view_module": "@jupyter-widgets/base",
            "_view_module_version": "1.2.0",
            "_view_name": "StyleView",
            "bar_color": null,
            "description_width": ""
          }
        },
        "ece9606bff6e4ca49af81219753d436a": {
          "model_module": "@jupyter-widgets/base",
          "model_name": "LayoutModel",
          "model_module_version": "1.2.0",
          "state": {
            "_model_module": "@jupyter-widgets/base",
            "_model_module_version": "1.2.0",
            "_model_name": "LayoutModel",
            "_view_count": null,
            "_view_module": "@jupyter-widgets/base",
            "_view_module_version": "1.2.0",
            "_view_name": "LayoutView",
            "align_content": null,
            "align_items": null,
            "align_self": null,
            "border": null,
            "bottom": null,
            "display": null,
            "flex": null,
            "flex_flow": null,
            "grid_area": null,
            "grid_auto_columns": null,
            "grid_auto_flow": null,
            "grid_auto_rows": null,
            "grid_column": null,
            "grid_gap": null,
            "grid_row": null,
            "grid_template_areas": null,
            "grid_template_columns": null,
            "grid_template_rows": null,
            "height": null,
            "justify_content": null,
            "justify_items": null,
            "left": null,
            "margin": null,
            "max_height": null,
            "max_width": null,
            "min_height": null,
            "min_width": null,
            "object_fit": null,
            "object_position": null,
            "order": null,
            "overflow": null,
            "overflow_x": null,
            "overflow_y": null,
            "padding": null,
            "right": null,
            "top": null,
            "visibility": null,
            "width": null
          }
        },
        "dac9d39586c24a6ab0811f26b43a26a0": {
          "model_module": "@jupyter-widgets/controls",
          "model_name": "DescriptionStyleModel",
          "model_module_version": "1.5.0",
          "state": {
            "_model_module": "@jupyter-widgets/controls",
            "_model_module_version": "1.5.0",
            "_model_name": "DescriptionStyleModel",
            "_view_count": null,
            "_view_module": "@jupyter-widgets/base",
            "_view_module_version": "1.2.0",
            "_view_name": "StyleView",
            "description_width": ""
          }
        },
        "e0c56dab6b2b4d5fa74db03532292cca": {
          "model_module": "@jupyter-widgets/controls",
          "model_name": "HBoxModel",
          "model_module_version": "1.5.0",
          "state": {
            "_dom_classes": [],
            "_model_module": "@jupyter-widgets/controls",
            "_model_module_version": "1.5.0",
            "_model_name": "HBoxModel",
            "_view_count": null,
            "_view_module": "@jupyter-widgets/controls",
            "_view_module_version": "1.5.0",
            "_view_name": "HBoxView",
            "box_style": "",
            "children": [
              "IPY_MODEL_ea8596e67a8a40818938035ea74e2454",
              "IPY_MODEL_35dbe5e04ee64e24930f5f198d30e226",
              "IPY_MODEL_28f9041189ba4a49ba1e7a199fd202c8"
            ],
            "layout": "IPY_MODEL_90c8516af1794626ab77301182c8deb9"
          }
        },
        "ea8596e67a8a40818938035ea74e2454": {
          "model_module": "@jupyter-widgets/controls",
          "model_name": "HTMLModel",
          "model_module_version": "1.5.0",
          "state": {
            "_dom_classes": [],
            "_model_module": "@jupyter-widgets/controls",
            "_model_module_version": "1.5.0",
            "_model_name": "HTMLModel",
            "_view_count": null,
            "_view_module": "@jupyter-widgets/controls",
            "_view_module_version": "1.5.0",
            "_view_name": "HTMLView",
            "description": "",
            "description_tooltip": null,
            "layout": "IPY_MODEL_1592aab6b0c0467182df7552788e4021",
            "placeholder": "​",
            "style": "IPY_MODEL_2d231c217d5c471ebe627ede96c5b654",
            "value": "generation_config.json: 100%"
          }
        },
        "35dbe5e04ee64e24930f5f198d30e226": {
          "model_module": "@jupyter-widgets/controls",
          "model_name": "FloatProgressModel",
          "model_module_version": "1.5.0",
          "state": {
            "_dom_classes": [],
            "_model_module": "@jupyter-widgets/controls",
            "_model_module_version": "1.5.0",
            "_model_name": "FloatProgressModel",
            "_view_count": null,
            "_view_module": "@jupyter-widgets/controls",
            "_view_module_version": "1.5.0",
            "_view_name": "ProgressView",
            "bar_style": "success",
            "description": "",
            "description_tooltip": null,
            "layout": "IPY_MODEL_c3e06a929e3640779893216dcd177172",
            "max": 293,
            "min": 0,
            "orientation": "horizontal",
            "style": "IPY_MODEL_536fc26f4e704da08586a5923ded96da",
            "value": 293
          }
        },
        "28f9041189ba4a49ba1e7a199fd202c8": {
          "model_module": "@jupyter-widgets/controls",
          "model_name": "HTMLModel",
          "model_module_version": "1.5.0",
          "state": {
            "_dom_classes": [],
            "_model_module": "@jupyter-widgets/controls",
            "_model_module_version": "1.5.0",
            "_model_name": "HTMLModel",
            "_view_count": null,
            "_view_module": "@jupyter-widgets/controls",
            "_view_module_version": "1.5.0",
            "_view_name": "HTMLView",
            "description": "",
            "description_tooltip": null,
            "layout": "IPY_MODEL_728c282a1af7430f8289fbaf7919b152",
            "placeholder": "​",
            "style": "IPY_MODEL_2c9be68f0ea042979a2dc7fd24b55f87",
            "value": " 293/293 [00:00&lt;00:00, 13.5kB/s]"
          }
        },
        "90c8516af1794626ab77301182c8deb9": {
          "model_module": "@jupyter-widgets/base",
          "model_name": "LayoutModel",
          "model_module_version": "1.2.0",
          "state": {
            "_model_module": "@jupyter-widgets/base",
            "_model_module_version": "1.2.0",
            "_model_name": "LayoutModel",
            "_view_count": null,
            "_view_module": "@jupyter-widgets/base",
            "_view_module_version": "1.2.0",
            "_view_name": "LayoutView",
            "align_content": null,
            "align_items": null,
            "align_self": null,
            "border": null,
            "bottom": null,
            "display": null,
            "flex": null,
            "flex_flow": null,
            "grid_area": null,
            "grid_auto_columns": null,
            "grid_auto_flow": null,
            "grid_auto_rows": null,
            "grid_column": null,
            "grid_gap": null,
            "grid_row": null,
            "grid_template_areas": null,
            "grid_template_columns": null,
            "grid_template_rows": null,
            "height": null,
            "justify_content": null,
            "justify_items": null,
            "left": null,
            "margin": null,
            "max_height": null,
            "max_width": null,
            "min_height": null,
            "min_width": null,
            "object_fit": null,
            "object_position": null,
            "order": null,
            "overflow": null,
            "overflow_x": null,
            "overflow_y": null,
            "padding": null,
            "right": null,
            "top": null,
            "visibility": null,
            "width": null
          }
        },
        "1592aab6b0c0467182df7552788e4021": {
          "model_module": "@jupyter-widgets/base",
          "model_name": "LayoutModel",
          "model_module_version": "1.2.0",
          "state": {
            "_model_module": "@jupyter-widgets/base",
            "_model_module_version": "1.2.0",
            "_model_name": "LayoutModel",
            "_view_count": null,
            "_view_module": "@jupyter-widgets/base",
            "_view_module_version": "1.2.0",
            "_view_name": "LayoutView",
            "align_content": null,
            "align_items": null,
            "align_self": null,
            "border": null,
            "bottom": null,
            "display": null,
            "flex": null,
            "flex_flow": null,
            "grid_area": null,
            "grid_auto_columns": null,
            "grid_auto_flow": null,
            "grid_auto_rows": null,
            "grid_column": null,
            "grid_gap": null,
            "grid_row": null,
            "grid_template_areas": null,
            "grid_template_columns": null,
            "grid_template_rows": null,
            "height": null,
            "justify_content": null,
            "justify_items": null,
            "left": null,
            "margin": null,
            "max_height": null,
            "max_width": null,
            "min_height": null,
            "min_width": null,
            "object_fit": null,
            "object_position": null,
            "order": null,
            "overflow": null,
            "overflow_x": null,
            "overflow_y": null,
            "padding": null,
            "right": null,
            "top": null,
            "visibility": null,
            "width": null
          }
        },
        "2d231c217d5c471ebe627ede96c5b654": {
          "model_module": "@jupyter-widgets/controls",
          "model_name": "DescriptionStyleModel",
          "model_module_version": "1.5.0",
          "state": {
            "_model_module": "@jupyter-widgets/controls",
            "_model_module_version": "1.5.0",
            "_model_name": "DescriptionStyleModel",
            "_view_count": null,
            "_view_module": "@jupyter-widgets/base",
            "_view_module_version": "1.2.0",
            "_view_name": "StyleView",
            "description_width": ""
          }
        },
        "c3e06a929e3640779893216dcd177172": {
          "model_module": "@jupyter-widgets/base",
          "model_name": "LayoutModel",
          "model_module_version": "1.2.0",
          "state": {
            "_model_module": "@jupyter-widgets/base",
            "_model_module_version": "1.2.0",
            "_model_name": "LayoutModel",
            "_view_count": null,
            "_view_module": "@jupyter-widgets/base",
            "_view_module_version": "1.2.0",
            "_view_name": "LayoutView",
            "align_content": null,
            "align_items": null,
            "align_self": null,
            "border": null,
            "bottom": null,
            "display": null,
            "flex": null,
            "flex_flow": null,
            "grid_area": null,
            "grid_auto_columns": null,
            "grid_auto_flow": null,
            "grid_auto_rows": null,
            "grid_column": null,
            "grid_gap": null,
            "grid_row": null,
            "grid_template_areas": null,
            "grid_template_columns": null,
            "grid_template_rows": null,
            "height": null,
            "justify_content": null,
            "justify_items": null,
            "left": null,
            "margin": null,
            "max_height": null,
            "max_width": null,
            "min_height": null,
            "min_width": null,
            "object_fit": null,
            "object_position": null,
            "order": null,
            "overflow": null,
            "overflow_x": null,
            "overflow_y": null,
            "padding": null,
            "right": null,
            "top": null,
            "visibility": null,
            "width": null
          }
        },
        "536fc26f4e704da08586a5923ded96da": {
          "model_module": "@jupyter-widgets/controls",
          "model_name": "ProgressStyleModel",
          "model_module_version": "1.5.0",
          "state": {
            "_model_module": "@jupyter-widgets/controls",
            "_model_module_version": "1.5.0",
            "_model_name": "ProgressStyleModel",
            "_view_count": null,
            "_view_module": "@jupyter-widgets/base",
            "_view_module_version": "1.2.0",
            "_view_name": "StyleView",
            "bar_color": null,
            "description_width": ""
          }
        },
        "728c282a1af7430f8289fbaf7919b152": {
          "model_module": "@jupyter-widgets/base",
          "model_name": "LayoutModel",
          "model_module_version": "1.2.0",
          "state": {
            "_model_module": "@jupyter-widgets/base",
            "_model_module_version": "1.2.0",
            "_model_name": "LayoutModel",
            "_view_count": null,
            "_view_module": "@jupyter-widgets/base",
            "_view_module_version": "1.2.0",
            "_view_name": "LayoutView",
            "align_content": null,
            "align_items": null,
            "align_self": null,
            "border": null,
            "bottom": null,
            "display": null,
            "flex": null,
            "flex_flow": null,
            "grid_area": null,
            "grid_auto_columns": null,
            "grid_auto_flow": null,
            "grid_auto_rows": null,
            "grid_column": null,
            "grid_gap": null,
            "grid_row": null,
            "grid_template_areas": null,
            "grid_template_columns": null,
            "grid_template_rows": null,
            "height": null,
            "justify_content": null,
            "justify_items": null,
            "left": null,
            "margin": null,
            "max_height": null,
            "max_width": null,
            "min_height": null,
            "min_width": null,
            "object_fit": null,
            "object_position": null,
            "order": null,
            "overflow": null,
            "overflow_x": null,
            "overflow_y": null,
            "padding": null,
            "right": null,
            "top": null,
            "visibility": null,
            "width": null
          }
        },
        "2c9be68f0ea042979a2dc7fd24b55f87": {
          "model_module": "@jupyter-widgets/controls",
          "model_name": "DescriptionStyleModel",
          "model_module_version": "1.5.0",
          "state": {
            "_model_module": "@jupyter-widgets/controls",
            "_model_module_version": "1.5.0",
            "_model_name": "DescriptionStyleModel",
            "_view_count": null,
            "_view_module": "@jupyter-widgets/base",
            "_view_module_version": "1.2.0",
            "_view_name": "StyleView",
            "description_width": ""
          }
        }
      }
    }
  },
  "cells": [
    {
      "cell_type": "code",
      "execution_count": 2,
      "metadata": {
        "colab": {
          "base_uri": "https://localhost:8080/"
        },
        "id": "SA-SIEGRpOyy",
        "outputId": "4d993442-8ab8-4d82-f7b3-1f9e23fc0e4c"
      },
      "outputs": [
        {
          "output_type": "stream",
          "name": "stdout",
          "text": [
            "ok\n"
          ]
        }
      ],
      "source": [
        "print('ok')"
      ]
    },
    {
      "cell_type": "code",
      "source": [
        "!nvidia-smi"
      ],
      "metadata": {
        "colab": {
          "base_uri": "https://localhost:8080/"
        },
        "id": "H67aHRwtpYZ1",
        "outputId": "c046ce9a-40e4-48bb-921c-0d1f9d860177"
      },
      "execution_count": 3,
      "outputs": [
        {
          "output_type": "stream",
          "name": "stdout",
          "text": [
            "Sun Feb 25 06:35:01 2024       \n",
            "+---------------------------------------------------------------------------------------+\n",
            "| NVIDIA-SMI 535.104.05             Driver Version: 535.104.05   CUDA Version: 12.2     |\n",
            "|-----------------------------------------+----------------------+----------------------+\n",
            "| GPU  Name                 Persistence-M | Bus-Id        Disp.A | Volatile Uncorr. ECC |\n",
            "| Fan  Temp   Perf          Pwr:Usage/Cap |         Memory-Usage | GPU-Util  Compute M. |\n",
            "|                                         |                      |               MIG M. |\n",
            "|=========================================+======================+======================|\n",
            "|   0  Tesla T4                       Off | 00000000:00:04.0 Off |                    0 |\n",
            "| N/A   37C    P8               9W /  70W |      0MiB / 15360MiB |      0%      Default |\n",
            "|                                         |                      |                  N/A |\n",
            "+-----------------------------------------+----------------------+----------------------+\n",
            "                                                                                         \n",
            "+---------------------------------------------------------------------------------------+\n",
            "| Processes:                                                                            |\n",
            "|  GPU   GI   CI        PID   Type   Process name                            GPU Memory |\n",
            "|        ID   ID                                                             Usage      |\n",
            "|=======================================================================================|\n",
            "|  No running processes found                                                           |\n",
            "+---------------------------------------------------------------------------------------+\n"
          ]
        }
      ]
    },
    {
      "cell_type": "code",
      "source": [
        "!pip install transformers[sentencepiece] datasets sacrebleu rouge_score py7zr -q"
      ],
      "metadata": {
        "id": "0-FJqfWbpY1m"
      },
      "execution_count": 4,
      "outputs": []
    },
    {
      "cell_type": "code",
      "source": [
        "# accelerate is a library for easy GPU/TPU training with PyTorch and TensorFlow.\n",
        "# transformers library provides state-of-the-art pre-trained models for natural language processing tasks\n",
        "!pip install --upgrade accelerate\n",
        "!pip uninstall -y transformers accelerate\n",
        "!pip install transformers accelerate"
      ],
      "metadata": {
        "colab": {
          "base_uri": "https://localhost:8080/"
        },
        "id": "sDeJ17FNphR_",
        "outputId": "2dc9d686-aa58-4d99-a4e5-e0abf41c491a"
      },
      "execution_count": 5,
      "outputs": [
        {
          "output_type": "stream",
          "name": "stdout",
          "text": [
            "Requirement already satisfied: accelerate in /usr/local/lib/python3.10/dist-packages (0.27.2)\n",
            "Requirement already satisfied: numpy>=1.17 in /usr/local/lib/python3.10/dist-packages (from accelerate) (1.25.2)\n",
            "Requirement already satisfied: packaging>=20.0 in /usr/local/lib/python3.10/dist-packages (from accelerate) (23.2)\n",
            "Requirement already satisfied: psutil in /usr/local/lib/python3.10/dist-packages (from accelerate) (5.9.5)\n",
            "Requirement already satisfied: pyyaml in /usr/local/lib/python3.10/dist-packages (from accelerate) (6.0.1)\n",
            "Requirement already satisfied: torch>=1.10.0 in /usr/local/lib/python3.10/dist-packages (from accelerate) (2.1.0+cu121)\n",
            "Requirement already satisfied: huggingface-hub in /usr/local/lib/python3.10/dist-packages (from accelerate) (0.20.3)\n",
            "Requirement already satisfied: safetensors>=0.3.1 in /usr/local/lib/python3.10/dist-packages (from accelerate) (0.4.2)\n",
            "Requirement already satisfied: filelock in /usr/local/lib/python3.10/dist-packages (from torch>=1.10.0->accelerate) (3.13.1)\n",
            "Requirement already satisfied: typing-extensions in /usr/local/lib/python3.10/dist-packages (from torch>=1.10.0->accelerate) (4.9.0)\n",
            "Requirement already satisfied: sympy in /usr/local/lib/python3.10/dist-packages (from torch>=1.10.0->accelerate) (1.12)\n",
            "Requirement already satisfied: networkx in /usr/local/lib/python3.10/dist-packages (from torch>=1.10.0->accelerate) (3.2.1)\n",
            "Requirement already satisfied: jinja2 in /usr/local/lib/python3.10/dist-packages (from torch>=1.10.0->accelerate) (3.1.3)\n",
            "Requirement already satisfied: fsspec in /usr/local/lib/python3.10/dist-packages (from torch>=1.10.0->accelerate) (2023.6.0)\n",
            "Requirement already satisfied: triton==2.1.0 in /usr/local/lib/python3.10/dist-packages (from torch>=1.10.0->accelerate) (2.1.0)\n",
            "Requirement already satisfied: requests in /usr/local/lib/python3.10/dist-packages (from huggingface-hub->accelerate) (2.31.0)\n",
            "Requirement already satisfied: tqdm>=4.42.1 in /usr/local/lib/python3.10/dist-packages (from huggingface-hub->accelerate) (4.66.2)\n",
            "Requirement already satisfied: MarkupSafe>=2.0 in /usr/local/lib/python3.10/dist-packages (from jinja2->torch>=1.10.0->accelerate) (2.1.5)\n",
            "Requirement already satisfied: charset-normalizer<4,>=2 in /usr/local/lib/python3.10/dist-packages (from requests->huggingface-hub->accelerate) (3.3.2)\n",
            "Requirement already satisfied: idna<4,>=2.5 in /usr/local/lib/python3.10/dist-packages (from requests->huggingface-hub->accelerate) (3.6)\n",
            "Requirement already satisfied: urllib3<3,>=1.21.1 in /usr/local/lib/python3.10/dist-packages (from requests->huggingface-hub->accelerate) (2.0.7)\n",
            "Requirement already satisfied: certifi>=2017.4.17 in /usr/local/lib/python3.10/dist-packages (from requests->huggingface-hub->accelerate) (2024.2.2)\n",
            "Requirement already satisfied: mpmath>=0.19 in /usr/local/lib/python3.10/dist-packages (from sympy->torch>=1.10.0->accelerate) (1.3.0)\n",
            "Found existing installation: transformers 4.38.1\n",
            "Uninstalling transformers-4.38.1:\n",
            "  Successfully uninstalled transformers-4.38.1\n",
            "Found existing installation: accelerate 0.27.2\n",
            "Uninstalling accelerate-0.27.2:\n",
            "  Successfully uninstalled accelerate-0.27.2\n",
            "Collecting transformers\n",
            "  Using cached transformers-4.38.1-py3-none-any.whl (8.5 MB)\n",
            "Collecting accelerate\n",
            "  Using cached accelerate-0.27.2-py3-none-any.whl (279 kB)\n",
            "Requirement already satisfied: filelock in /usr/local/lib/python3.10/dist-packages (from transformers) (3.13.1)\n",
            "Requirement already satisfied: huggingface-hub<1.0,>=0.19.3 in /usr/local/lib/python3.10/dist-packages (from transformers) (0.20.3)\n",
            "Requirement already satisfied: numpy>=1.17 in /usr/local/lib/python3.10/dist-packages (from transformers) (1.25.2)\n",
            "Requirement already satisfied: packaging>=20.0 in /usr/local/lib/python3.10/dist-packages (from transformers) (23.2)\n",
            "Requirement already satisfied: pyyaml>=5.1 in /usr/local/lib/python3.10/dist-packages (from transformers) (6.0.1)\n",
            "Requirement already satisfied: regex!=2019.12.17 in /usr/local/lib/python3.10/dist-packages (from transformers) (2023.12.25)\n",
            "Requirement already satisfied: requests in /usr/local/lib/python3.10/dist-packages (from transformers) (2.31.0)\n",
            "Requirement already satisfied: tokenizers<0.19,>=0.14 in /usr/local/lib/python3.10/dist-packages (from transformers) (0.15.2)\n",
            "Requirement already satisfied: safetensors>=0.4.1 in /usr/local/lib/python3.10/dist-packages (from transformers) (0.4.2)\n",
            "Requirement already satisfied: tqdm>=4.27 in /usr/local/lib/python3.10/dist-packages (from transformers) (4.66.2)\n",
            "Requirement already satisfied: psutil in /usr/local/lib/python3.10/dist-packages (from accelerate) (5.9.5)\n",
            "Requirement already satisfied: torch>=1.10.0 in /usr/local/lib/python3.10/dist-packages (from accelerate) (2.1.0+cu121)\n",
            "Requirement already satisfied: fsspec>=2023.5.0 in /usr/local/lib/python3.10/dist-packages (from huggingface-hub<1.0,>=0.19.3->transformers) (2023.6.0)\n",
            "Requirement already satisfied: typing-extensions>=3.7.4.3 in /usr/local/lib/python3.10/dist-packages (from huggingface-hub<1.0,>=0.19.3->transformers) (4.9.0)\n",
            "Requirement already satisfied: sympy in /usr/local/lib/python3.10/dist-packages (from torch>=1.10.0->accelerate) (1.12)\n",
            "Requirement already satisfied: networkx in /usr/local/lib/python3.10/dist-packages (from torch>=1.10.0->accelerate) (3.2.1)\n",
            "Requirement already satisfied: jinja2 in /usr/local/lib/python3.10/dist-packages (from torch>=1.10.0->accelerate) (3.1.3)\n",
            "Requirement already satisfied: triton==2.1.0 in /usr/local/lib/python3.10/dist-packages (from torch>=1.10.0->accelerate) (2.1.0)\n",
            "Requirement already satisfied: charset-normalizer<4,>=2 in /usr/local/lib/python3.10/dist-packages (from requests->transformers) (3.3.2)\n",
            "Requirement already satisfied: idna<4,>=2.5 in /usr/local/lib/python3.10/dist-packages (from requests->transformers) (3.6)\n",
            "Requirement already satisfied: urllib3<3,>=1.21.1 in /usr/local/lib/python3.10/dist-packages (from requests->transformers) (2.0.7)\n",
            "Requirement already satisfied: certifi>=2017.4.17 in /usr/local/lib/python3.10/dist-packages (from requests->transformers) (2024.2.2)\n",
            "Requirement already satisfied: MarkupSafe>=2.0 in /usr/local/lib/python3.10/dist-packages (from jinja2->torch>=1.10.0->accelerate) (2.1.5)\n",
            "Requirement already satisfied: mpmath>=0.19 in /usr/local/lib/python3.10/dist-packages (from sympy->torch>=1.10.0->accelerate) (1.3.0)\n",
            "Installing collected packages: accelerate, transformers\n",
            "Successfully installed accelerate-0.27.2 transformers-4.38.1\n"
          ]
        }
      ]
    },
    {
      "cell_type": "code",
      "source": [
        "import os\n",
        "import sys\n",
        "import transformers\n",
        "import tensorflow as tf\n",
        "from datasets import load_dataset\n",
        "from transformers import AutoTokenizer\n",
        "from transformers import TFAutoModelForSeq2SeqLM\n",
        "from transformers import DataCollatorForSeq2Seq\n",
        "from transformers import AdamWeightDecay"
      ],
      "metadata": {
        "id": "FfJaN15_ptE1"
      },
      "execution_count": 6,
      "outputs": []
    },
    {
      "cell_type": "markdown",
      "source": [
        "# own translation system\n",
        "# language translation system\n",
        "# from the hugging face we are going to use open source translation model\n",
        "# data set also i wll take from hugging face\n"
      ],
      "metadata": {
        "id": "c1TbpFv-vKHv"
      }
    },
    {
      "cell_type": "markdown",
      "source": [
        "# Transfer learning\n",
        "# FineTuning(for this translaiton system we gonnda perform finetune of pretrain model)\n",
        "# RAG System(will implement it in my future class-> as of now dont focous here)"
      ],
      "metadata": {
        "id": "KxIdQp0nx52c"
      }
    },
    {
      "cell_type": "markdown",
      "source": [
        "Google- T5\n",
        "\n",
        "Facebook- M2M100\n",
        "\n",
        "Helinsinki-NLP\n",
        "\n",
        "Google Cloud Translaiton API\n",
        "\n",
        "Tune AI\n",
        "\n",
        "Amazone Comprehend"
      ],
      "metadata": {
        "id": "4ixxugX2yAEk"
      }
    },
    {
      "cell_type": "code",
      "source": [
        "model=\"Helsinki-NLP/opus-mt-en-hi\""
      ],
      "metadata": {
        "id": "A6Fmw3kFqep5"
      },
      "execution_count": 7,
      "outputs": []
    },
    {
      "cell_type": "code",
      "source": [
        "dataset=load_dataset(\"cfilt/iitb-english-hindi\")"
      ],
      "metadata": {
        "colab": {
          "base_uri": "https://localhost:8080/"
        },
        "id": "zA5NM9vTzplV",
        "outputId": "3c75889e-976e-4983-ea2c-8bd08ebee5f9"
      },
      "execution_count": 8,
      "outputs": [
        {
          "output_type": "stream",
          "name": "stderr",
          "text": [
            "/usr/local/lib/python3.10/dist-packages/huggingface_hub/utils/_token.py:88: UserWarning: \n",
            "The secret `HF_TOKEN` does not exist in your Colab secrets.\n",
            "To authenticate with the Hugging Face Hub, create a token in your settings tab (https://huggingface.co/settings/tokens), set it as secret in your Google Colab and restart your session.\n",
            "You will be able to reuse this secret in all of your notebooks.\n",
            "Please note that authentication is recommended but still optional to access public models or datasets.\n",
            "  warnings.warn(\n"
          ]
        }
      ]
    },
    {
      "cell_type": "code",
      "source": [
        "dataset"
      ],
      "metadata": {
        "colab": {
          "base_uri": "https://localhost:8080/"
        },
        "id": "ZIKyBUp6zsAx",
        "outputId": "e9fefeea-7d52-4c7e-82e7-0a002606a827"
      },
      "execution_count": 9,
      "outputs": [
        {
          "output_type": "execute_result",
          "data": {
            "text/plain": [
              "DatasetDict({\n",
              "    train: Dataset({\n",
              "        features: ['translation'],\n",
              "        num_rows: 1659083\n",
              "    })\n",
              "    validation: Dataset({\n",
              "        features: ['translation'],\n",
              "        num_rows: 520\n",
              "    })\n",
              "    test: Dataset({\n",
              "        features: ['translation'],\n",
              "        num_rows: 2507\n",
              "    })\n",
              "})"
            ]
          },
          "metadata": {},
          "execution_count": 9
        }
      ]
    },
    {
      "cell_type": "code",
      "source": [
        "dataset[\"train\"]"
      ],
      "metadata": {
        "colab": {
          "base_uri": "https://localhost:8080/"
        },
        "id": "4XN1M7Gc444r",
        "outputId": "2d122a50-43bc-4401-b1fa-fcfaf5f00d8a"
      },
      "execution_count": 10,
      "outputs": [
        {
          "output_type": "execute_result",
          "data": {
            "text/plain": [
              "Dataset({\n",
              "    features: ['translation'],\n",
              "    num_rows: 1659083\n",
              "})"
            ]
          },
          "metadata": {},
          "execution_count": 10
        }
      ]
    },
    {
      "cell_type": "code",
      "source": [
        "dataset[\"train\"][0]"
      ],
      "metadata": {
        "colab": {
          "base_uri": "https://localhost:8080/"
        },
        "id": "D25F5rP447wr",
        "outputId": "d5f783d2-60a8-406b-9767-cdb52811e184"
      },
      "execution_count": 11,
      "outputs": [
        {
          "output_type": "execute_result",
          "data": {
            "text/plain": [
              "{'translation': {'en': 'Give your application an accessibility workout',\n",
              "  'hi': 'अपने अनुप्रयोग को पहुंचनीयता व्यायाम का लाभ दें'}}"
            ]
          },
          "metadata": {},
          "execution_count": 11
        }
      ]
    },
    {
      "cell_type": "code",
      "source": [
        "dataset[\"train\"][1]"
      ],
      "metadata": {
        "colab": {
          "base_uri": "https://localhost:8080/"
        },
        "id": "pjcJ8UOV5AVK",
        "outputId": "750e2e27-5051-478e-b355-65103ff94da3"
      },
      "execution_count": 12,
      "outputs": [
        {
          "output_type": "execute_result",
          "data": {
            "text/plain": [
              "{'translation': {'en': 'Accerciser Accessibility Explorer',\n",
              "  'hi': 'एक्सेर्साइसर पहुंचनीयता अन्वेषक'}}"
            ]
          },
          "metadata": {},
          "execution_count": 12
        }
      ]
    },
    {
      "cell_type": "code",
      "source": [
        "dataset[\"validation\"]"
      ],
      "metadata": {
        "colab": {
          "base_uri": "https://localhost:8080/"
        },
        "id": "7DLHuSla5h6F",
        "outputId": "330e33fd-b173-4a3c-f22a-5cc5005d4f41"
      },
      "execution_count": 13,
      "outputs": [
        {
          "output_type": "execute_result",
          "data": {
            "text/plain": [
              "Dataset({\n",
              "    features: ['translation'],\n",
              "    num_rows: 520\n",
              "})"
            ]
          },
          "metadata": {},
          "execution_count": 13
        }
      ]
    },
    {
      "cell_type": "code",
      "source": [
        "dataset[\"validation\"][0]"
      ],
      "metadata": {
        "colab": {
          "base_uri": "https://localhost:8080/"
        },
        "id": "iLDAd5WF5n2e",
        "outputId": "c5fc88d3-2a6b-46d8-d370-08e932d37467"
      },
      "execution_count": 14,
      "outputs": [
        {
          "output_type": "execute_result",
          "data": {
            "text/plain": [
              "{'translation': {'en': 'Students of the Dattatreya city Municipal corporation secondary school demonstrated their imagination power by creating the fictitious fort \"Duttgarh\".',\n",
              "  'hi': \"महानगर पालिका अंतर्गत दत्तात्रय नगर माध्यमिक स्कूल के विद्यार्थियों ने काल्पनिक किला 'दत्तगढ़' बनाकर अपनी कल्पनाशक्ति का परिचय दिया।\"}}"
            ]
          },
          "metadata": {},
          "execution_count": 14
        }
      ]
    },
    {
      "cell_type": "code",
      "source": [
        "dataset[\"test\"]"
      ],
      "metadata": {
        "colab": {
          "base_uri": "https://localhost:8080/"
        },
        "id": "Q5TVmz415pIq",
        "outputId": "c1f78265-9936-4a44-fa1b-7bf5e0052034"
      },
      "execution_count": 15,
      "outputs": [
        {
          "output_type": "execute_result",
          "data": {
            "text/plain": [
              "Dataset({\n",
              "    features: ['translation'],\n",
              "    num_rows: 2507\n",
              "})"
            ]
          },
          "metadata": {},
          "execution_count": 15
        }
      ]
    },
    {
      "cell_type": "code",
      "source": [
        "dataset[\"test\"][0]"
      ],
      "metadata": {
        "colab": {
          "base_uri": "https://localhost:8080/"
        },
        "id": "zNPBr73e5wdX",
        "outputId": "921eac3e-607d-41de-e0f3-b841d43ca211"
      },
      "execution_count": 16,
      "outputs": [
        {
          "output_type": "execute_result",
          "data": {
            "text/plain": [
              "{'translation': {'en': 'A black box in your car?',\n",
              "  'hi': 'आपकी कार में ब्लैक बॉक्स?'}}"
            ]
          },
          "metadata": {},
          "execution_count": 16
        }
      ]
    },
    {
      "cell_type": "code",
      "source": [
        "model"
      ],
      "metadata": {
        "colab": {
          "base_uri": "https://localhost:8080/",
          "height": 35
        },
        "id": "wgk6ccmU7nuY",
        "outputId": "9eea91ae-f8a3-418a-ad89-0669594d8556"
      },
      "execution_count": 17,
      "outputs": [
        {
          "output_type": "execute_result",
          "data": {
            "text/plain": [
              "'Helsinki-NLP/opus-mt-en-hi'"
            ],
            "application/vnd.google.colaboratory.intrinsic+json": {
              "type": "string"
            }
          },
          "metadata": {},
          "execution_count": 17
        }
      ]
    },
    {
      "cell_type": "code",
      "source": [
        "tokenizer = AutoTokenizer.from_pretrained(model)"
      ],
      "metadata": {
        "colab": {
          "base_uri": "https://localhost:8080/"
        },
        "id": "YZzPa9xK5yuD",
        "outputId": "ec1a15cf-87f5-48b1-ac32-4dfbfee8aa65"
      },
      "execution_count": 18,
      "outputs": [
        {
          "output_type": "stream",
          "name": "stderr",
          "text": [
            "/usr/local/lib/python3.10/dist-packages/transformers/models/marian/tokenization_marian.py:197: UserWarning: Recommended: pip install sacremoses.\n",
            "  warnings.warn(\"Recommended: pip install sacremoses.\")\n"
          ]
        }
      ]
    },
    {
      "cell_type": "code",
      "source": [
        "tokenizer(\"there is sunny who is teachine data science\")"
      ],
      "metadata": {
        "colab": {
          "base_uri": "https://localhost:8080/"
        },
        "id": "l7Qktvx-7sbY",
        "outputId": "578c456b-ac5c-495b-de38-1271e4159ff5"
      },
      "execution_count": 19,
      "outputs": [
        {
          "output_type": "execute_result",
          "data": {
            "text/plain": [
              "{'input_ids': [188, 23, 41670, 66, 23, 2144, 6131, 1195, 7373, 0], 'attention_mask': [1, 1, 1, 1, 1, 1, 1, 1, 1, 1]}"
            ]
          },
          "metadata": {},
          "execution_count": 19
        }
      ]
    },
    {
      "cell_type": "code",
      "source": [
        "tokenizer([\"hello this is sunny\", \"this is another sunny\"])"
      ],
      "metadata": {
        "colab": {
          "base_uri": "https://localhost:8080/"
        },
        "id": "Dbe20kZh9PwO",
        "outputId": "15875c92-8bd5-4ca4-cabc-ece7d23a8893"
      },
      "execution_count": 20,
      "outputs": [
        {
          "output_type": "execute_result",
          "data": {
            "text/plain": [
              "{'input_ids': [[39915, 90, 23, 41670, 0], [90, 23, 414, 41670, 0]], 'attention_mask': [[1, 1, 1, 1, 1], [1, 1, 1, 1, 1]]}"
            ]
          },
          "metadata": {},
          "execution_count": 20
        }
      ]
    },
    {
      "cell_type": "code",
      "source": [
        "tokenizer(['चाय पार्टी भौचक्की है।'])"
      ],
      "metadata": {
        "colab": {
          "base_uri": "https://localhost:8080/"
        },
        "id": "qLmX6yiA9SlW",
        "outputId": "c4521078-9885-443c-92e5-67480ce47dd5"
      },
      "execution_count": 21,
      "outputs": [
        {
          "output_type": "execute_result",
          "data": {
            "text/plain": [
              "{'input_ids': [[44, 4228, 260, 1321, 44, 2703, 260, 428, 1185, 2136, 130, 44, 1, 1185, 716, 130, 44, 1, 0]], 'attention_mask': [[1, 1, 1, 1, 1, 1, 1, 1, 1, 1, 1, 1, 1, 1, 1, 1, 1, 1, 1]]}"
            ]
          },
          "metadata": {},
          "execution_count": 21
        }
      ]
    },
    {
      "cell_type": "code",
      "source": [
        "with tokenizer.as_target_tokenizer():\n",
        "  print(tokenizer(['चाय पार्टी भौचक्की है।']))"
      ],
      "metadata": {
        "colab": {
          "base_uri": "https://localhost:8080/"
        },
        "id": "HauipXbY9U6N",
        "outputId": "f21790da-769b-4ef5-e725-7ba2bd8825bd"
      },
      "execution_count": 22,
      "outputs": [
        {
          "output_type": "stream",
          "name": "stdout",
          "text": [
            "{'input_ids': [[15889, 9384, 61313, 130, 5, 40, 0]], 'attention_mask': [[1, 1, 1, 1, 1, 1, 1]]}\n"
          ]
        },
        {
          "output_type": "stream",
          "name": "stderr",
          "text": [
            "/usr/local/lib/python3.10/dist-packages/transformers/tokenization_utils_base.py:3892: UserWarning: `as_target_tokenizer` is deprecated and will be removed in v5 of Transformers. You can tokenize your labels by using the argument `text_target` of the regular `__call__` method (either in the same call as your input texts if you use the same keyword arguments, or in a separate call.\n",
            "  warnings.warn(\n"
          ]
        }
      ]
    },
    {
      "cell_type": "code",
      "source": [
        "dataset"
      ],
      "metadata": {
        "colab": {
          "base_uri": "https://localhost:8080/"
        },
        "id": "VVdN57fu9h1W",
        "outputId": "6d0c1ab9-297e-485a-f395-71b8adc47f1a"
      },
      "execution_count": 23,
      "outputs": [
        {
          "output_type": "execute_result",
          "data": {
            "text/plain": [
              "DatasetDict({\n",
              "    train: Dataset({\n",
              "        features: ['translation'],\n",
              "        num_rows: 1659083\n",
              "    })\n",
              "    validation: Dataset({\n",
              "        features: ['translation'],\n",
              "        num_rows: 520\n",
              "    })\n",
              "    test: Dataset({\n",
              "        features: ['translation'],\n",
              "        num_rows: 2507\n",
              "    })\n",
              "})"
            ]
          },
          "metadata": {},
          "execution_count": 23
        }
      ]
    },
    {
      "cell_type": "code",
      "source": [
        "dataset[\"train\"][\"translation\"]"
      ],
      "metadata": {
        "colab": {
          "base_uri": "https://localhost:8080/"
        },
        "id": "qh5ToWB39XUi",
        "outputId": "f3c000f3-4b47-4b7a-ee44-5fbc65c1c0b2"
      },
      "execution_count": 24,
      "outputs": [
        {
          "output_type": "execute_result",
          "data": {
            "text/plain": [
              "[{'en': 'Give your application an accessibility workout',\n",
              "  'hi': 'अपने अनुप्रयोग को पहुंचनीयता व्यायाम का लाभ दें'},\n",
              " {'en': 'Accerciser Accessibility Explorer',\n",
              "  'hi': 'एक्सेर्साइसर पहुंचनीयता अन्वेषक'},\n",
              " {'en': 'The default plugin layout for the bottom panel',\n",
              "  'hi': 'निचले पटल के लिए डिफोल्ट प्लग-इन खाका'},\n",
              " {'en': 'The default plugin layout for the top panel',\n",
              "  'hi': 'ऊपरी पटल के लिए डिफोल्ट प्लग-इन खाका'},\n",
              " {'en': 'A list of plugins that are disabled by default',\n",
              "  'hi': 'उन प्लग-इनों की सूची जिन्हें डिफोल्ट रूप से निष्क्रिय किया गया है'},\n",
              " {'en': 'Highlight duration', 'hi': 'अवधि को हाइलाइट रकें'},\n",
              " {'en': 'The duration of the highlight box when selecting accessible nodes',\n",
              "  'hi': 'पहुंचनीय आसंधि (नोड) को चुनते समय हाइलाइट बक्से की अवधि'},\n",
              " {'en': 'Highlight border color',\n",
              "  'hi': 'सीमांत (बोर्डर) के रंग को हाइलाइट करें'},\n",
              " {'en': 'The color and opacity of the highlight border.',\n",
              "  'hi': 'हाइलाइट किए गए सीमांत का रंग और अपारदर्शिता। '},\n",
              " {'en': 'Highlight fill color', 'hi': 'भराई के रंग को हाइलाइट करें'},\n",
              " {'en': 'The color and opacity of the highlight fill.',\n",
              "  'hi': 'हाइलाइट किया गया भराई का रंग और पारदर्शिता। '},\n",
              " {'en': 'API Browser', 'hi': 'एपीआई विचरक'},\n",
              " {'en': 'Browse the various methods of the current accessible',\n",
              "  'hi': 'इस समय जिसे प्राप्त किया गया हो, उसकी विभिन्न विधियों (मेथड) में विचरण करें'},\n",
              " {'en': 'Hide private attributes', 'hi': 'निजी गुणों को छिपाएं'},\n",
              " {'en': 'Method', 'hi': 'विधि'},\n",
              " {'en': 'Property', 'hi': 'गुणधर्म'},\n",
              " {'en': 'Value', 'hi': 'मान'},\n",
              " {'en': 'IPython Console', 'hi': 'आईपाइथन कन्सोल'},\n",
              " {'en': 'Interactive console for manipulating currently selected accessible',\n",
              "  'hi': 'इस समय चुने गए एक्सेसेबेल से काम लेने के लिए अंतर्क्रियात्मक कन्सोल'},\n",
              " {'en': 'Event monitor', 'hi': 'घटना मानिटर'},\n",
              " {'en': '_ Monitor Events', 'hi': 'घटनाओं को मानिटर करें (_ M) '},\n",
              " {'en': 'C _ lear Selection', 'hi': 'चुनाव को हटाएं (C _) '},\n",
              " {'en': 'Everything', 'hi': 'सभी'},\n",
              " {'en': 'Selected application', 'hi': 'चुने गए अनुप्रयोग'},\n",
              " {'en': 'Selected accessible', 'hi': 'चुने गए एक्सेसेबेल'},\n",
              " {'en': 'Source', 'hi': 'स्रोत'},\n",
              " {'en': 'Event Monitor', 'hi': 'घटना मानिटर'},\n",
              " {'en': 'Shows events as they occur from selected types and sources',\n",
              "  'hi': 'चुने गए प्रकारों और स्रोतों से घटनाएं जैसे-जैसे घटित होती हैं, उन्हें दर्शाता है'},\n",
              " {'en': 'Highlight last event entry',\n",
              "  'hi': 'अंतिम प्रविष्ट घटना को हाइलाइट करो'},\n",
              " {'en': 'Start / stop event recording', 'hi': 'घटना रेकोर्डिंग शुरू करो/रोको'},\n",
              " {'en': 'Clear event log', 'hi': 'घटना रोजनामचा मिटाओ'},\n",
              " {'en': '(no description)', 'hi': 'कोई विवरण नहीं'},\n",
              " {'en': 'Description', 'hi': 'वर्णन'},\n",
              " {'en': 'Show', 'hi': 'दिखाएं'},\n",
              " {'en': '_ Accessible', 'hi': 'पहुंचनीय'},\n",
              " {'en': 'Perform action', 'hi': 'कार्रवाई संपन्न करें'},\n",
              " {'en': 'Acti _ on', 'hi': 'कार्रवाई (_ o) '},\n",
              " {'en': 'ID', 'hi': 'आईडी'},\n",
              " {'en': 'Toolkit', 'hi': 'औजार बक्सा'},\n",
              " {'en': 'Version', 'hi': 'संस्करण'},\n",
              " {'en': 'Ap _ plication', 'hi': 'अनुप्रयोग'},\n",
              " {'en': 'Col _ lection', 'hi': 'संग्रह'},\n",
              " {'en': '0, 0', 'hi': '0, 0'},\n",
              " {'en': 'Relative position', 'hi': 'सापेक्ष स्थिति'},\n",
              " {'en': 'Size', 'hi': 'आकार'},\n",
              " {'en': 'WIDGET', 'hi': 'विडजेट'},\n",
              " {'en': 'Layer', 'hi': 'स्तर'},\n",
              " {'en': 'MDI - Z - order', 'hi': 'एमडीआई-जेड-क्रम'},\n",
              " {'en': 'Alpha', 'hi': 'अल्फा'},\n",
              " {'en': 'Absolute position', 'hi': 'निरपेक्ष स्थिति'},\n",
              " {'en': 'Co _ mponent', 'hi': 'घटक'},\n",
              " {'en': 'Des _ ktop', 'hi': 'डेस्कटोप'},\n",
              " {'en': 'Locale:', 'hi': 'स्थान-विशिष्टः'},\n",
              " {'en': '_ Document', 'hi': 'प्रलेख'},\n",
              " {'en': 'Hyperlink', 'hi': 'हाइपरकड़ी'},\n",
              " {'en': 'H _ ypertext', 'hi': 'हाइपरपाठ'},\n",
              " {'en': 'Position', 'hi': 'स्थिति'},\n",
              " {'en': 'Description', 'hi': 'वर्णन'},\n",
              " {'en': 'Locale', 'hi': 'स्थान-विशिष्ट'},\n",
              " {'en': '_ Image', 'hi': 'छवि (_ I) '},\n",
              " {'en': 'Lo _ gin Helper', 'hi': 'प्रवेश सहायक'},\n",
              " {'en': 'Select All', 'hi': 'सभी चुनें'},\n",
              " {'en': '_ Selection', 'hi': 'चयन (_ S) '},\n",
              " {'en': 'St _ reamable Content', 'hi': 'प्रवाहित करनेयोग्य विषयवस्तु'},\n",
              " {'en': 'Selected columns', 'hi': 'चुने गए स्तंभ'},\n",
              " {'en': 'Selected rows', 'hi': 'चुनी गई पंक्तियां'},\n",
              " {'en': 'Columns', 'hi': 'स्तंभ'},\n",
              " {'en': 'Rows', 'hi': 'पंक्तियां'},\n",
              " {'en': 'Table Information', 'hi': '& lt; bgt; सारणी सूचनाlt;/bgt; '},\n",
              " {'en': 'name (x, y)', 'hi': 'नाम (x, y) '},\n",
              " {'en': 'Header:', 'hi': 'शीर्षकः'},\n",
              " {'en': 'Extents:', 'hi': 'विस्तारः'},\n",
              " {'en': 'Row', 'hi': 'पंक्ति'},\n",
              " {'en': 'Column', 'hi': 'स्तंभ'},\n",
              " {'en': 'Selected Cell', 'hi': '& lt; bgt; चुनी गई कोशिकाlt;/bgt; '},\n",
              " {'en': '_ Table', 'hi': 'सारणी (_ T) '},\n",
              " {'en': 'Offset', 'hi': 'ओफसेट'},\n",
              " {'en': 'Include defaults', 'hi': 'डिफोल्टों को शामिल करें'},\n",
              " {'en': 'Te _ xt', 'hi': 'पाठ (_ x) '},\n",
              " {'en': 'Current value', 'hi': 'मौजूदा मान'},\n",
              " {'en': 'Minimum increment', 'hi': 'न्यूनतम वृद्धि'},\n",
              " {'en': 'Maximum value', 'hi': 'अधिकतम मान'},\n",
              " {'en': 'Minimum value', 'hi': 'न्यूनतम मान'},\n",
              " {'en': 'Val _ ue', 'hi': 'मान'},\n",
              " {'en': 'Interface Viewer', 'hi': 'अंतराफलक दर्शक'},\n",
              " {'en': 'Allows viewing of various interface properties',\n",
              "  'hi': 'अंतराफलक के विभिन्न गुणों को देखने देता है'},\n",
              " {'en': '(not implemented)', 'hi': '(क्रियान्वित नहीं हुआ है) '},\n",
              " {'en': 'Name', 'hi': 'नाम'},\n",
              " {'en': 'URI', 'hi': 'यूआरआई'},\n",
              " {'en': 'Start', 'hi': 'प्रारंभ'},\n",
              " {'en': 'End', 'hi': 'अंत'},\n",
              " {'en': 'Too many selectable children', 'hi': 'बहुत अधिक चयनीय शिशु हैं'},\n",
              " {'en': 'Quick Select', 'hi': 'तेज चुनाव'},\n",
              " {'en': 'Plugin with various methods of selecting accessibles quickly.',\n",
              "  'hi': 'प्लग-इन जिसमें हैं एक्सेसेबेलों को तेजी से चुनने के लिए कई विधियां'},\n",
              " {'en': 'Inspect last focused accessible',\n",
              "  'hi': 'अंतिम बार फोकस किए गए एक्सेसेबल को जांचें'},\n",
              " {'en': 'Inspect accessible under mouse',\n",
              "  'hi': 'माउस के अधीन जो एक्सेसेबल है, उसे जांचें'},\n",
              " {'en': 'Native', 'hi': 'वतनी'},\n",
              " {'en': 'Dogtail', 'hi': 'श्वानपुच्छ'},\n",
              " {'en': 'LDTP', 'hi': 'एलडीटीपी'},\n",
              " {'en': 'Script Type', 'hi': 'लिपि प्रकार'},\n",
              " {'en': 'Script Recorder', 'hi': 'लिपि रेकोर्डर'},\n",
              " {'en': 'Creates dogtail style scripts',\n",
              "  'hi': 'श्वानपुच्छ शैली की लिपियां निर्मित करता है'},\n",
              " {'en': 'The current script will be lost.',\n",
              "  'hi': 'वर्तमान लिपि (स्क्रिप्ट) खो जाएगी। '},\n",
              " {'en': 'Confirm clear', 'hi': 'मिटाने की पुष्टि करें'},\n",
              " {'en': 'Sche _ ma:', 'hi': 'स्कीमाः'},\n",
              " {'en': 'V _ alidate', 'hi': 'सत्यापन'},\n",
              " {'en': 'Idle', 'hi': 'खाली'},\n",
              " {'en': 'No description', 'hi': 'कोई विवरण नहीं'},\n",
              " {'en': 'AT - SPI Validator', 'hi': 'एटी-एसपीआई सत्यापक'},\n",
              " {'en': 'Validates application accessibility',\n",
              "  'hi': 'अनुप्रयोग की पहुंचनीयता का सत्यापन करता है'},\n",
              " {'en': 'Level', 'hi': 'स्तर'},\n",
              " {'en': 'Role', 'hi': 'भूमिका'},\n",
              " {'en': 'Saving', 'hi': 'सहेज रहे हैं'},\n",
              " {'en': 'Validating', 'hi': 'पुष्टि कर रहे हैं'},\n",
              " {'en': 'EXCEPT', 'hi': 'अपवाद'},\n",
              " {'en': 'ERROR', 'hi': 'त्रुटि'},\n",
              " {'en': 'WARN', 'hi': 'चेतावनी'},\n",
              " {'en': 'INFO', 'hi': 'सूचना'},\n",
              " {'en': 'DEBUG', 'hi': 'दोषमुक्त करें'},\n",
              " {'en': 'Basic', 'hi': 'मूल'},\n",
              " {'en': 'Tests fundamental GUI application accessibility',\n",
              "  'hi': 'मूलभूत जीयूआई अनुप्रयोग पहुंचनीयता का परीक्षण करता है'},\n",
              " {'en': 'actionable% s is not focusable or selectable',\n",
              "  'hi': '% s जिस पर कार्रवाई हो सकती है, वह न तो फोकस करने योग्य है न ही चयनीय'},\n",
              " {'en': 'interactive% s is not actionable',\n",
              "  'hi': 'अंतर्क्रियात्मक% s कार्रवाई करने योग्य नहीं है'},\n",
              " {'en': 'more than one focused widget', 'hi': 'एक से अधिक विडजेट फोकस में है'},\n",
              " {'en': '% s has no text interface', 'hi': '% s का कोई पाठ अंतराफलक नहीं है'},\n",
              " {'en': '% s index in parent does not match child index',\n",
              "  'hi': 'अभिभावक में% s सूची शिशु सूची सेमेल नहीं खाती'},\n",
              " {'en': 'Missing reciprocal for% s relation',\n",
              "  'hi': '% s संबंध के लिए अन्योन्य गायब है'},\n",
              " {'en': '% s missing name or label', 'hi': '% s गायब नाम या सूचक'},\n",
              " {'en': 'focusable% s has table interface, no selection interface',\n",
              "  'hi': 'फोकस योग्य% s में सारणी अंतराफलक है, कोई चयनीय अंतराफलक नहीं हैbutton has focused state without focusable state'},\n",
              " {'en': '% s has% s state without% s state',\n",
              "  'hi': '% s में% s स्थिति है, पर उसके साथ% s स्थिति नहीं है'},\n",
              " {'en': '% s does not belong to a set',\n",
              "  'hi': '% s किसी समुच्चय का सदस्य नहीं है'},\n",
              " {'en': '% (rolename) s index% (num) d does not match row and column',\n",
              "  'hi': '% (rolename) s सूची% (num) d पंक्ति और स्तंभ से मेल नहीं खातेparent indexrow and column index'},\n",
              " {'en': '% (rolename) s parent index% (num1) d does not match row and column index% (num2) d',\n",
              "  'hi': '% (rolename) s अभिभावक सूची% (num1) d पंक्ति और स्तंभ सूची% (num2) d से मेल नहीं खाते'},\n",
              " {'en': '% s has no name or description',\n",
              "  'hi': '% s का कोई नाम या विवरण नहीं'},\n",
              " {'en': '_ Preferences...', 'hi': 'पसंद (_ P)... '},\n",
              " {'en': '_ Contents', 'hi': 'विषय सूची (_ C) '},\n",
              " {'en': 'Accerciser could not see the applications on your desktop. You must enable desktop accessibility to fix this problem. Do you want to enable it now?',\n",
              "  'hi': 'एक्सेरसाइसर आपके डेस्कटोप में मौजूद अनुप्रयोग नहीं देख पाया। इस समस्या के समाधान के लिए आपको डेस्कटोप पहुंचनीयता को सक्रिय करना होगा। क्या आप इसे सक्रिय करना चाहते हैं? '},\n",
              " {'en': 'Note: Changes only take effect after logout.',\n",
              "  'hi': 'टिप्पणीः परिवर्तन सत्रांत (लोगआउट) के बाद ही प्रभाव में आएंगे। '},\n",
              " {'en': 'Children', 'hi': 'शिशु'},\n",
              " {'en': '_ Refresh Registry', 'hi': 'पंजी ताजा करें (_ R) '},\n",
              " {'en': 'Refresh all', 'hi': 'सभी को ताजा करें'},\n",
              " {'en': 'Refresh _ Node', 'hi': 'आसंधि (नोड) को ताजा करें (_ N) '},\n",
              " {'en': \"Refresh selected node 's children\",\n",
              "  'hi': 'चुनी गई आसंधियों (नोड) के शिशुओं को ताजा करें'},\n",
              " {'en': 'Component', 'hi': 'घटक'},\n",
              " {'en': 'Task', 'hi': 'कार्य'},\n",
              " {'en': 'Key', 'hi': 'कुंजी'},\n",
              " {'en': 'Alt', 'hi': 'आल्ट'},\n",
              " {'en': 'Ctrl', 'hi': 'कंट्रोल'},\n",
              " {'en': 'Shift', 'hi': 'शिफ्ट'},\n",
              " {'en': 'Top panel', 'hi': 'ऊपरी पटल'},\n",
              " {'en': 'Bottom panel', 'hi': 'निचला पटल'},\n",
              " {'en': 'accerciser Preferences', 'hi': 'एक्सेर्साइसर पसंद'},\n",
              " {'en': 'Plugins', 'hi': 'प्लगइन्स'},\n",
              " {'en': 'Global Hotkeys', 'hi': 'सार्वत्रिक फटाफट कुंजियां'},\n",
              " {'en': 'Highlighting', 'hi': 'हाइलाइटन'},\n",
              " {'en': 'Highlight duration:', 'hi': 'हाइलाइट अवधिः'},\n",
              " {'en': 'Border color:', 'hi': 'सीमांत रंगः'},\n",
              " {'en': 'The border color of the highlight box',\n",
              "  'hi': 'हाइलाइट बक्से का सीमांत रंग'},\n",
              " {'en': 'Fill color:', 'hi': 'भराई का रंगः'},\n",
              " {'en': 'The fill color of the highlight box',\n",
              "  'hi': 'हाइलाइट बक्से का भराई रंग'},\n",
              " {'en': 'translator - credits',\n",
              "  'hi': 'रविशंकर श्रीवास्तव (raviratlami @yahoo. com) राजेश रंजन (rajeshkajha @yahoo. com) ल. बालसुब्रमण्यम (l. balasubramaniam @gmail. com) '},\n",
              " {'en': 'An interactive Python accessibility explorer',\n",
              "  'hi': 'एक अंतर्क्रियात्मक पाइथन पहुंचनीयता अन्वेषक'},\n",
              " {'en': 'accerciser Copyright © 2006, 2007 IBM Corporation (BSD)',\n",
              "  'hi': 'एक्सेर्साइसर सर्वाधिकार © 2006,2007 आईबीएम निगम (बीएसडी) '},\n",
              " {'en': 'The New BSD License See the COPYING and NOTICE files for details.',\n",
              "  'hi': 'नया बीएसडी लाइसेन्स विवरण के लिए देखिए प्रतिलिपीकरण और सूचना फाइलें'},\n",
              " {'en': 'Web site', 'hi': 'जाल स्थल'},\n",
              " {'en': '_ Add Bookmark...', 'hi': 'पसंद जोड़ें... (_ A) '},\n",
              " {'en': 'Bookmark selected accessible.',\n",
              "  'hi': 'चुने गए एक्सेसेबलों को पुस्तक-चिह्नित करें'},\n",
              " {'en': '_ Edit Bookmarks...', 'hi': 'पुस्तक चिह्न संपादित करें (_ E)... '},\n",
              " {'en': 'Manage bookmarks.', 'hi': 'पुस्तक-चिह्नों को प्रबंधित करें। '},\n",
              " {'en': 'Edit Bookmarks...', 'hi': 'पुस्तक चिह्नों को संपादित करें... '},\n",
              " {'en': 'Title', 'hi': 'शीर्षक'},\n",
              " {'en': 'Application', 'hi': 'अनुप्रयोग'},\n",
              " {'en': 'Path', 'hi': 'पथ'},\n",
              " {'en': 'Add Bookmark...', 'hi': 'पुस्तक-चिह्न जोड़ें... '},\n",
              " {'en': 'Title:', 'hi': 'शीर्षकः'},\n",
              " {'en': 'Application:', 'hi': 'अनुप्रयोगः'},\n",
              " {'en': 'Path:', 'hi': 'पथः'},\n",
              " {'en': 'Plugin Errors', 'hi': 'प्लग-इन त्रुटियां'},\n",
              " {'en': 'View', 'hi': 'दृश्य'},\n",
              " {'en': 'No view', 'hi': 'कोई दृश्य नहीं है'},\n",
              " {'en': '_ Single plugins view', 'hi': 'एकल प्लग-इन दृश्य'},\n",
              " {'en': 'Plugin View', 'hi': 'प्लग-इन दृश्य'},\n",
              " {'en': 'Plugin View (% d)', 'hi': 'प्लग-इन दृश्य (% d) '},\n",
              " {'en': '_ New view...', 'hi': 'नया दृश्य... '},\n",
              " {'en': 'New View...', 'hi': 'नया दृश्य... '},\n",
              " {'en': '_ File', 'hi': 'फाइल (F) '},\n",
              " {'en': '_ Edit', 'hi': 'संपादित करें'},\n",
              " {'en': '_ Bookmarks', 'hi': 'पुस्तक-चिह्न संपादित करें (_ E)... '},\n",
              " {'en': '_ View', 'hi': 'दृश्य _ (V) '},\n",
              " {'en': '_ Help', 'hi': 'मदद'},\n",
              " {'en': 'Full name', 'hi': 'पूरा नाम'},\n",
              " {'en': 'Key binding', 'hi': 'कुंजी बंधन'},\n",
              " {'en': 'Content type', 'hi': 'विषय प्रकार'},\n",
              " {'en': 'Give your application an accessibility workout',\n",
              "  'hi': 'अपने अनुप्रयोग को पहुंचनीयता व्यायाम का लाभ दें'},\n",
              " {'en': 'Accerciser Accessibility Explorer',\n",
              "  'hi': 'एक्सेर्साइसर पहुंचनीयता अन्वेषक'},\n",
              " {'en': 'The default plugin layout for the bottom panel',\n",
              "  'hi': 'निचले पटल के लिए डिफोल्ट प्लग-इन खाका'},\n",
              " {'en': 'The default plugin layout for the top panel',\n",
              "  'hi': 'ऊपरी पटल के लिए डिफोल्ट प्लग-इन खाका'},\n",
              " {'en': 'A list of plugins that are disabled by default',\n",
              "  'hi': 'उन प्लग-इनों की सूची जिन्हें डिफोल्ट रूप से निष्क्रिय किया गया है'},\n",
              " {'en': 'Highlight duration', 'hi': 'अवधि को हाइलाइट रकें'},\n",
              " {'en': 'The duration of the highlight box when selecting accessible nodes',\n",
              "  'hi': 'पहुंचनीय आसंधि (नोड) को चुनते समय हाइलाइट बक्से की अवधि'},\n",
              " {'en': 'Highlight border color',\n",
              "  'hi': 'सीमांत (बोर्डर) के रंग को हाइलाइट करें'},\n",
              " {'en': 'The color and opacity of the highlight border.',\n",
              "  'hi': 'हाइलाइट किए गए सीमांत का रंग और अपारदर्शिता। '},\n",
              " {'en': 'Highlight fill color', 'hi': 'भराई के रंग को हाइलाइट करें'},\n",
              " {'en': 'The color and opacity of the highlight fill.',\n",
              "  'hi': 'हाइलाइट किया गया भराई का रंग और पारदर्शिता। '},\n",
              " {'en': 'API Browser', 'hi': 'एपीआई विचरक'},\n",
              " {'en': 'Browse the various methods of the current accessible',\n",
              "  'hi': 'इस समय जिसे प्राप्त किया गया हो, उसकी विभिन्न विधियों (मेथड) में विचरण करें'},\n",
              " {'en': 'Hide private attributes', 'hi': 'निजी गुणों को छिपाएं'},\n",
              " {'en': 'Method', 'hi': 'विधि'},\n",
              " {'en': 'Property', 'hi': 'गुणधर्म'},\n",
              " {'en': 'Value', 'hi': 'मान'},\n",
              " {'en': 'IPython Console', 'hi': 'आईपाइथन कन्सोल'},\n",
              " {'en': 'Interactive console for manipulating currently selected accessible',\n",
              "  'hi': 'इस समय चुने गए एक्सेसेबेल से काम लेने के लिए अंतर्क्रियात्मक कन्सोल'},\n",
              " {'en': 'Event monitor', 'hi': 'घटना मानिटर'},\n",
              " {'en': '_ Monitor Events', 'hi': 'घटनाओं को मानिटर करें (_ M) '},\n",
              " {'en': 'C _ lear Selection', 'hi': 'चुनाव को हटाएं (C _) '},\n",
              " {'en': 'Everything', 'hi': 'सभी'},\n",
              " {'en': 'Selected application', 'hi': 'चुने गए अनुप्रयोग'},\n",
              " {'en': 'Selected accessible', 'hi': 'चुने गए एक्सेसेबेल'},\n",
              " {'en': 'Source', 'hi': 'स्रोत'},\n",
              " {'en': 'Event Monitor', 'hi': 'घटना मानिटर'},\n",
              " {'en': 'Shows events as they occur from selected types and sources',\n",
              "  'hi': 'चुने गए प्रकारों और स्रोतों से घटनाएं जैसे-जैसे घटित होती हैं, उन्हें दर्शाता है'},\n",
              " {'en': 'Highlight last event entry',\n",
              "  'hi': 'अंतिम प्रविष्ट घटना को हाइलाइट करो'},\n",
              " {'en': 'Start / stop event recording', 'hi': 'घटना रेकोर्डिंग शुरू करो/रोको'},\n",
              " {'en': 'Clear event log', 'hi': 'घटना रोजनामचा मिटाओ'},\n",
              " {'en': '(no description)', 'hi': 'कोई विवरण नहीं'},\n",
              " {'en': 'Description', 'hi': 'वर्णन'},\n",
              " {'en': 'Show', 'hi': 'दिखाएं'},\n",
              " {'en': '_ Accessible', 'hi': 'पहुंचनीय'},\n",
              " {'en': 'Perform action', 'hi': 'कार्रवाई संपन्न करें'},\n",
              " {'en': 'Acti _ on', 'hi': 'कार्रवाई (_ o) '},\n",
              " {'en': 'ID', 'hi': 'आईडी'},\n",
              " {'en': 'Toolkit', 'hi': 'औजार बक्सा'},\n",
              " {'en': 'Version', 'hi': 'संस्करण'},\n",
              " {'en': 'Ap _ plication', 'hi': 'अनुप्रयोग'},\n",
              " {'en': 'Col _ lection', 'hi': 'संग्रह'},\n",
              " {'en': '0, 0', 'hi': '0, 0'},\n",
              " {'en': 'Relative position', 'hi': 'सापेक्ष स्थिति'},\n",
              " {'en': 'Size', 'hi': 'आकार'},\n",
              " {'en': 'WIDGET', 'hi': 'विडजेट'},\n",
              " {'en': 'Layer', 'hi': 'स्तर'},\n",
              " {'en': 'MDI - Z - order', 'hi': 'एमडीआई-जेड-क्रम'},\n",
              " {'en': 'Alpha', 'hi': 'अल्फा'},\n",
              " {'en': 'Absolute position', 'hi': 'निरपेक्ष स्थिति'},\n",
              " {'en': 'Co _ mponent', 'hi': 'घटक'},\n",
              " {'en': 'Des _ ktop', 'hi': 'डेस्कटोप'},\n",
              " {'en': 'Locale:', 'hi': 'स्थान-विशिष्टः'},\n",
              " {'en': '_ Document', 'hi': 'प्रलेख'},\n",
              " {'en': 'Hyperlink', 'hi': 'हाइपरकड़ी'},\n",
              " {'en': 'H _ ypertext', 'hi': 'हाइपरपाठ'},\n",
              " {'en': 'Position', 'hi': 'स्थिति'},\n",
              " {'en': 'Description', 'hi': 'वर्णन'},\n",
              " {'en': 'Locale', 'hi': 'स्थान-विशिष्ट'},\n",
              " {'en': '_ Image', 'hi': 'छवि (_ I) '},\n",
              " {'en': 'Lo _ gin Helper', 'hi': 'प्रवेश सहायक'},\n",
              " {'en': 'Select All', 'hi': 'सभी चुनें'},\n",
              " {'en': '_ Selection', 'hi': 'चयन (_ S) '},\n",
              " {'en': 'St _ reamable Content', 'hi': 'प्रवाहित करनेयोग्य विषयवस्तु'},\n",
              " {'en': 'Selected columns', 'hi': 'चुने गए स्तंभ'},\n",
              " {'en': 'Selected rows', 'hi': 'चुनी गई पंक्तियां'},\n",
              " {'en': 'Columns', 'hi': 'स्तंभ'},\n",
              " {'en': 'Rows', 'hi': 'पंक्तियां'},\n",
              " {'en': 'Table Information', 'hi': '& lt; bgt; सारणी सूचनाlt;/bgt; '},\n",
              " {'en': 'name (x, y)', 'hi': 'नाम (x, y) '},\n",
              " {'en': 'Header:', 'hi': 'शीर्षकः'},\n",
              " {'en': 'Extents:', 'hi': 'विस्तारः'},\n",
              " {'en': 'Row', 'hi': 'पंक्ति'},\n",
              " {'en': 'Column', 'hi': 'स्तंभ'},\n",
              " {'en': 'Selected Cell', 'hi': '& lt; bgt; चुनी गई कोशिकाlt;/bgt; '},\n",
              " {'en': '_ Table', 'hi': 'सारणी (_ T) '},\n",
              " {'en': 'Offset', 'hi': 'ओफसेट'},\n",
              " {'en': 'Include defaults', 'hi': 'डिफोल्टों को शामिल करें'},\n",
              " {'en': 'Te _ xt', 'hi': 'पाठ (_ x) '},\n",
              " {'en': 'Current value', 'hi': 'मौजूदा मान'},\n",
              " {'en': 'Minimum increment', 'hi': 'न्यूनतम वृद्धि'},\n",
              " {'en': 'Maximum value', 'hi': 'अधिकतम मान'},\n",
              " {'en': 'Minimum value', 'hi': 'न्यूनतम मान'},\n",
              " {'en': 'Val _ ue', 'hi': 'मान'},\n",
              " {'en': 'Interface Viewer', 'hi': 'अंतराफलक दर्शक'},\n",
              " {'en': 'Allows viewing of various interface properties',\n",
              "  'hi': 'अंतराफलक के विभिन्न गुणों को देखने देता है'},\n",
              " {'en': '(not implemented)', 'hi': '(क्रियान्वित नहीं हुआ है) '},\n",
              " {'en': 'Name', 'hi': 'नाम'},\n",
              " {'en': 'URI', 'hi': 'यूआरआई'},\n",
              " {'en': 'Start', 'hi': 'प्रारंभ'},\n",
              " {'en': 'End', 'hi': 'अंत'},\n",
              " {'en': 'Too many selectable children', 'hi': 'बहुत अधिक चयनीय शिशु हैं'},\n",
              " {'en': 'Quick Select', 'hi': 'तेज चुनाव'},\n",
              " {'en': 'Plugin with various methods of selecting accessibles quickly.',\n",
              "  'hi': 'प्लग-इन जिसमें हैं एक्सेसेबेलों को तेजी से चुनने के लिए कई विधियां'},\n",
              " {'en': 'Inspect last focused accessible',\n",
              "  'hi': 'अंतिम बार फोकस किए गए एक्सेसेबल को जांचें'},\n",
              " {'en': 'Inspect accessible under mouse',\n",
              "  'hi': 'माउस के अधीन जो एक्सेसेबल है, उसे जांचें'},\n",
              " {'en': 'Native', 'hi': 'वतनी'},\n",
              " {'en': 'Dogtail', 'hi': 'श्वानपुच्छ'},\n",
              " {'en': 'LDTP', 'hi': 'एलडीटीपी'},\n",
              " {'en': 'Script Type', 'hi': 'लिपि प्रकार'},\n",
              " {'en': 'Script Recorder', 'hi': 'लिपि रेकोर्डर'},\n",
              " {'en': 'Creates dogtail style scripts',\n",
              "  'hi': 'श्वानपुच्छ शैली की लिपियां निर्मित करता है'},\n",
              " {'en': 'The current script will be lost.',\n",
              "  'hi': 'वर्तमान लिपि (स्क्रिप्ट) खो जाएगी। '},\n",
              " {'en': 'Confirm clear', 'hi': 'मिटाने की पुष्टि करें'},\n",
              " {'en': 'Sche _ ma:', 'hi': 'स्कीमाः'},\n",
              " {'en': 'V _ alidate', 'hi': 'सत्यापन'},\n",
              " {'en': 'Idle', 'hi': 'खाली'},\n",
              " {'en': 'No description', 'hi': 'कोई विवरण नहीं'},\n",
              " {'en': 'AT - SPI Validator', 'hi': 'एटी-एसपीआई सत्यापक'},\n",
              " {'en': 'Validates application accessibility',\n",
              "  'hi': 'अनुप्रयोग की पहुंचनीयता का सत्यापन करता है'},\n",
              " {'en': 'Level', 'hi': 'स्तर'},\n",
              " {'en': 'Role', 'hi': 'भूमिका'},\n",
              " {'en': 'Saving', 'hi': 'सहेज रहे हैं'},\n",
              " {'en': 'Validating', 'hi': 'पुष्टि कर रहे हैं'},\n",
              " {'en': 'EXCEPT', 'hi': 'अपवाद'},\n",
              " {'en': 'ERROR', 'hi': 'त्रुटि'},\n",
              " {'en': 'WARN', 'hi': 'चेतावनी'},\n",
              " {'en': 'INFO', 'hi': 'सूचना'},\n",
              " {'en': 'DEBUG', 'hi': 'दोषमुक्त करें'},\n",
              " {'en': 'Basic', 'hi': 'मूल'},\n",
              " {'en': 'Tests fundamental GUI application accessibility',\n",
              "  'hi': 'मूलभूत जीयूआई अनुप्रयोग पहुंचनीयता का परीक्षण करता है'},\n",
              " {'en': 'actionable% s is not focusable or selectable',\n",
              "  'hi': '% s जिस पर कार्रवाई हो सकती है, वह न तो फोकस करने योग्य है न ही चयनीय'},\n",
              " {'en': 'interactive% s is not actionable',\n",
              "  'hi': 'अंतर्क्रियात्मक% s कार्रवाई करने योग्य नहीं है'},\n",
              " {'en': 'more than one focused widget', 'hi': 'एक से अधिक विडजेट फोकस में है'},\n",
              " {'en': '% s has no text interface', 'hi': '% s का कोई पाठ अंतराफलक नहीं है'},\n",
              " {'en': '% s index in parent does not match child index',\n",
              "  'hi': 'अभिभावक में% s सूची शिशु सूची सेमेल नहीं खाती'},\n",
              " {'en': 'Missing reciprocal for% s relation',\n",
              "  'hi': '% s संबंध के लिए अन्योन्य गायब है'},\n",
              " {'en': '% s missing name or label', 'hi': '% s गायब नाम या सूचक'},\n",
              " {'en': 'focusable% s has table interface, no selection interface',\n",
              "  'hi': 'फोकस योग्य% s में सारणी अंतराफलक है, कोई चयनीय अंतराफलक नहीं हैbutton has focused state without focusable state'},\n",
              " {'en': '% s has% s state without% s state',\n",
              "  'hi': '% s में% s स्थिति है, पर उसके साथ% s स्थिति नहीं है'},\n",
              " {'en': '% s does not belong to a set',\n",
              "  'hi': '% s किसी समुच्चय का सदस्य नहीं है'},\n",
              " {'en': '% (rolename) s index% (num) d does not match row and column',\n",
              "  'hi': '% (rolename) s सूची% (num) d पंक्ति और स्तंभ से मेल नहीं खातेparent indexrow and column index'},\n",
              " {'en': '% (rolename) s parent index% (num1) d does not match row and column index% (num2) d',\n",
              "  'hi': '% (rolename) s अभिभावक सूची% (num1) d पंक्ति और स्तंभ सूची% (num2) d से मेल नहीं खाते'},\n",
              " {'en': '% s has no name or description',\n",
              "  'hi': '% s का कोई नाम या विवरण नहीं'},\n",
              " {'en': '_ Preferences...', 'hi': 'पसंद (_ P)... '},\n",
              " {'en': '_ Contents', 'hi': 'विषय सूची (_ C) '},\n",
              " {'en': 'Accerciser could not see the applications on your desktop. You must enable desktop accessibility to fix this problem. Do you want to enable it now?',\n",
              "  'hi': 'एक्सेरसाइसर आपके डेस्कटोप में मौजूद अनुप्रयोग नहीं देख पाया। इस समस्या के समाधान के लिए आपको डेस्कटोप पहुंचनीयता को सक्रिय करना होगा। क्या आप इसे सक्रिय करना चाहते हैं? '},\n",
              " {'en': 'Note: Changes only take effect after logout.',\n",
              "  'hi': 'टिप्पणीः परिवर्तन सत्रांत (लोगआउट) के बाद ही प्रभाव में आएंगे। '},\n",
              " {'en': 'Children', 'hi': 'शिशु'},\n",
              " {'en': '_ Refresh Registry', 'hi': 'पंजी ताजा करें (_ R) '},\n",
              " {'en': 'Refresh all', 'hi': 'सभी को ताजा करें'},\n",
              " {'en': 'Refresh _ Node', 'hi': 'आसंधि (नोड) को ताजा करें (_ N) '},\n",
              " {'en': \"Refresh selected node 's children\",\n",
              "  'hi': 'चुनी गई आसंधियों (नोड) के शिशुओं को ताजा करें'},\n",
              " {'en': 'Component', 'hi': 'घटक'},\n",
              " {'en': 'Task', 'hi': 'कार्य'},\n",
              " {'en': 'Key', 'hi': 'कुंजी'},\n",
              " {'en': 'Alt', 'hi': 'आल्ट'},\n",
              " {'en': 'Ctrl', 'hi': 'कंट्रोल'},\n",
              " {'en': 'Shift', 'hi': 'शिफ्ट'},\n",
              " {'en': 'Top panel', 'hi': 'ऊपरी पटल'},\n",
              " {'en': 'Bottom panel', 'hi': 'निचला पटल'},\n",
              " {'en': 'accerciser Preferences', 'hi': 'एक्सेर्साइसर पसंद'},\n",
              " {'en': 'Plugins', 'hi': 'प्लगइन्स'},\n",
              " {'en': 'Global Hotkeys', 'hi': 'सार्वत्रिक फटाफट कुंजियां'},\n",
              " {'en': 'Highlighting', 'hi': 'हाइलाइटन'},\n",
              " {'en': 'Highlight duration:', 'hi': 'हाइलाइट अवधिः'},\n",
              " {'en': 'Border color:', 'hi': 'सीमांत रंगः'},\n",
              " {'en': 'The border color of the highlight box',\n",
              "  'hi': 'हाइलाइट बक्से का सीमांत रंग'},\n",
              " {'en': 'Fill color:', 'hi': 'भराई का रंगः'},\n",
              " {'en': 'The fill color of the highlight box',\n",
              "  'hi': 'हाइलाइट बक्से का भराई रंग'},\n",
              " {'en': 'translator - credits',\n",
              "  'hi': 'रविशंकर श्रीवास्तव (raviratlami @yahoo. com) राजेश रंजन (rajeshkajha @yahoo. com) ल. बालसुब्रमण्यम (l. balasubramaniam @gmail. com) '},\n",
              " {'en': 'An interactive Python accessibility explorer',\n",
              "  'hi': 'एक अंतर्क्रियात्मक पाइथन पहुंचनीयता अन्वेषक'},\n",
              " {'en': 'accerciser Copyright © 2006, 2007 IBM Corporation (BSD)',\n",
              "  'hi': 'एक्सेर्साइसर सर्वाधिकार © 2006,2007 आईबीएम निगम (बीएसडी) '},\n",
              " {'en': 'The New BSD License See the COPYING and NOTICE files for details.',\n",
              "  'hi': 'नया बीएसडी लाइसेन्स विवरण के लिए देखिए प्रतिलिपीकरण और सूचना फाइलें'},\n",
              " {'en': 'Web site', 'hi': 'जाल स्थल'},\n",
              " {'en': '_ Add Bookmark...', 'hi': 'पसंद जोड़ें... (_ A) '},\n",
              " {'en': 'Bookmark selected accessible.',\n",
              "  'hi': 'चुने गए एक्सेसेबलों को पुस्तक-चिह्नित करें'},\n",
              " {'en': '_ Edit Bookmarks...', 'hi': 'पुस्तक चिह्न संपादित करें (_ E)... '},\n",
              " {'en': 'Manage bookmarks.', 'hi': 'पुस्तक-चिह्नों को प्रबंधित करें। '},\n",
              " {'en': 'Edit Bookmarks...', 'hi': 'पुस्तक चिह्नों को संपादित करें... '},\n",
              " {'en': 'Title', 'hi': 'शीर्षक'},\n",
              " {'en': 'Application', 'hi': 'अनुप्रयोग'},\n",
              " {'en': 'Path', 'hi': 'पथ'},\n",
              " {'en': 'Add Bookmark...', 'hi': 'पुस्तक-चिह्न जोड़ें... '},\n",
              " {'en': 'Title:', 'hi': 'शीर्षकः'},\n",
              " {'en': 'Application:', 'hi': 'अनुप्रयोगः'},\n",
              " {'en': 'Path:', 'hi': 'पथः'},\n",
              " {'en': 'Plugin Errors', 'hi': 'प्लग-इन त्रुटियां'},\n",
              " {'en': 'View', 'hi': 'दृश्य'},\n",
              " {'en': 'No view', 'hi': 'कोई दृश्य नहीं है'},\n",
              " {'en': '_ Single plugins view', 'hi': 'एकल प्लग-इन दृश्य'},\n",
              " {'en': 'Plugin View', 'hi': 'प्लग-इन दृश्य'},\n",
              " {'en': 'Plugin View (% d)', 'hi': 'प्लग-इन दृश्य (% d) '},\n",
              " {'en': '_ New view...', 'hi': 'नया दृश्य... '},\n",
              " {'en': 'New View...', 'hi': 'नया दृश्य... '},\n",
              " {'en': '_ File', 'hi': 'फाइल (F) '},\n",
              " {'en': '_ Edit', 'hi': 'संपादित करें'},\n",
              " {'en': '_ Bookmarks', 'hi': 'पुस्तक-चिह्न संपादित करें (_ E)... '},\n",
              " {'en': '_ View', 'hi': 'दृश्य _ (V) '},\n",
              " {'en': '_ Help', 'hi': 'मदद'},\n",
              " {'en': 'Full name', 'hi': 'पूरा नाम'},\n",
              " {'en': 'Key binding', 'hi': 'कुंजी बंधन'},\n",
              " {'en': 'Content type', 'hi': 'विषय प्रकार'},\n",
              " {'en': 'Accerciser', 'hi': 'एक्सेर्साइसर'},\n",
              " {'en': 'Give your application an accessibility workout',\n",
              "  'hi': 'अपने अनुप्रयोग को पहुंचनीयता व्यायाम का लाभ दें'},\n",
              " {'en': 'Accerciser Accessibility Explorer',\n",
              "  'hi': 'एक्सेर्साइसर पहुंचनीयता अन्वेषक'},\n",
              " {'en': 'A list of plugins that are disabled by default',\n",
              "  'hi': 'उन प्लग-इनों की सूची जिन्हें डिफोल्ट रूप से निष्क्रिय किया गया है'},\n",
              " {'en': 'A list of plugins that are disabled by default.',\n",
              "  'hi': 'उन प्लग-इनों की सूची जिन्हें डिफोल्ट रूप से निष्क्रिय किया गया है'},\n",
              " {'en': 'Highlight duration', 'hi': 'अवधि को हाइलाइट रकें'},\n",
              " {'en': 'The duration of the highlight box when selecting accessible nodes.',\n",
              "  'hi': 'पहुंचनीय आसंधि नोड को चुनते समय हाइलाइट बक्से की अवधि. '},\n",
              " {'en': 'Highlight fill color', 'hi': 'भराई के रंग को हाइलाइट करें'},\n",
              " {'en': 'The color and opacity of the highlight fill.',\n",
              "  'hi': 'हाइलाइट किया गया भराई का रंग और पारदर्शिता। '},\n",
              " {'en': 'Highlight border color',\n",
              "  'hi': 'सीमांत (बोर्डर) के रंग को हाइलाइट करें'},\n",
              " {'en': 'The color and opacity of the highlight border.',\n",
              "  'hi': 'हाइलाइट किए गए सीमांत का रंग और अपारदर्शिता। '},\n",
              " {'en': 'The layout for the bottom panel', 'hi': 'नीचे के पैनल के लिए लेआउट'},\n",
              " {'en': 'The layout for the bottom panel pluginview.',\n",
              "  'hi': 'नीचे पैनल pluginview के लिए लेआउट. '},\n",
              " {'en': 'The layout for the top panel', 'hi': 'ऊपरी पटल के लिए खाका'},\n",
              " {'en': 'The layout for the top panel pluginview.',\n",
              "  'hi': 'शीर्ष पैनल pluginview के लिए लेआउट. '},\n",
              " {'en': 'Single layout view', 'hi': 'एकल लेआउट दृश्य'},\n",
              " {'en': 'Available new pluginviews', 'hi': 'नई pluginviews उपलब्ध है'},\n",
              " {'en': 'The default plugin layout for the top panel.',\n",
              "  'hi': 'ऊपरी पटल के लिए डिफोल्ट प्लग-इन खाका. '},\n",
              " {'en': 'API Browser', 'hi': 'एपीआई विचरक'},\n",
              " {'en': 'Browse the various methods of the current accessible',\n",
              "  'hi': 'इस समय जिसे प्राप्त किया गया हो, उसकी विभिन्न विधियों (मेथड) में विचरण करें'},\n",
              " {'en': 'Hide private attributes', 'hi': 'निजी गुणों को छिपाएं'},\n",
              " {'en': 'Method', 'hi': 'विधि'},\n",
              " {'en': 'Property', 'hi': 'गुणधर्म'},\n",
              " {'en': 'Value', 'hi': 'मान'},\n",
              " {'en': 'IPython Console', 'hi': 'आईपाइथन कन्सोल'},\n",
              " {'en': 'Interactive console for manipulating currently selected accessible',\n",
              "  'hi': 'इस समय चुने गए एक्सेसेबेल से काम लेने के लिए अंतर्क्रियात्मक कन्सोल'},\n",
              " {'en': 'Event monitor', 'hi': 'घटना मानिटर'},\n",
              " {'en': '_ Monitor Events', 'hi': 'घटनाओं को मानिटर करें (_ M) '},\n",
              " {'en': 'C _ lear Selection', 'hi': 'चुनाव को हटाएं (C _) '},\n",
              " {'en': 'Everything', 'hi': 'सभी'},\n",
              " {'en': 'Selected application', 'hi': 'चुने गए अनुप्रयोग'},\n",
              " {'en': 'Selected accessible', 'hi': 'चुने गए एक्सेसेबेल'},\n",
              " {'en': 'Source', 'hi': 'स्रोत'},\n",
              " {'en': 'Event Monitor', 'hi': 'घटना मानिटर'},\n",
              " {'en': 'Shows events as they occur from selected types and sources',\n",
              "  'hi': 'चुने गए प्रकारों और स्रोतों से घटनाएं जैसे-जैसे घटित होती हैं, उन्हें दर्शाता है'},\n",
              " {'en': 'Highlight last event entry',\n",
              "  'hi': 'अंतिम प्रविष्ट घटना को हाइलाइट करो'},\n",
              " {'en': 'Start / stop event recording', 'hi': 'घटना रेकोर्डिंग शुरू करो/रोको'},\n",
              " {'en': 'Clear event log', 'hi': 'घटना रोजनामचा मिटाओ'},\n",
              " {'en': 'Child count', 'hi': 'बाल गणना'},\n",
              " {'en': 'Description', 'hi': 'वर्णन'},\n",
              " {'en': 'States', 'hi': 'राज्य'},\n",
              " {'en': 'Attributes', 'hi': 'गुणधर्म'},\n",
              " {'en': 'Show', 'hi': 'दिखाएं'},\n",
              " {'en': 'Relations', 'hi': 'संबंध'},\n",
              " {'en': '_ Accessible', 'hi': 'पहुंचनीय'},\n",
              " {'en': 'Perform action', 'hi': 'कार्रवाई संपन्न करें'},\n",
              " {'en': 'Acti _ on', 'hi': 'कार्रवाई (_ o) '},\n",
              " {'en': 'ID', 'hi': 'आईडी'},\n",
              " {'en': 'Toolkit', 'hi': 'औजार बक्सा'},\n",
              " {'en': 'Version', 'hi': 'संस्करण'},\n",
              " {'en': 'Ap _ plication', 'hi': 'अनुप्रयोग'},\n",
              " {'en': 'Col _ lection', 'hi': 'संग्रह'},\n",
              " {'en': '0, 0', 'hi': '0, 0'},\n",
              " {'en': 'Relative position', 'hi': 'सापेक्ष स्थिति'},\n",
              " {'en': 'Size', 'hi': 'आकार'},\n",
              " {'en': 'WIDGET', 'hi': 'विडजेट'},\n",
              " {'en': 'Layer', 'hi': 'स्तर'},\n",
              " {'en': 'MDI - Z - order', 'hi': 'एमडीआई-जेड-क्रम'},\n",
              " {'en': 'Alpha', 'hi': 'अल्फा'},\n",
              " {'en': 'Absolute position', 'hi': 'निरपेक्ष स्थिति'},\n",
              " {'en': 'Co _ mponent', 'hi': 'घटक'},\n",
              " {'en': 'Des _ ktop', 'hi': 'डेस्कटोप'},\n",
              " {'en': 'Locale:', 'hi': 'स्थान-विशिष्टः'},\n",
              " {'en': '_ Document', 'hi': 'प्रलेख'},\n",
              " {'en': 'Hyperlink', 'hi': 'हाइपरकड़ी'},\n",
              " {'en': 'H _ ypertext', 'hi': 'हाइपरपाठ'},\n",
              " {'en': 'Position', 'hi': 'स्थिति'},\n",
              " {'en': 'Locale', 'hi': 'स्थान-विशिष्ट'},\n",
              " {'en': '_ Image', 'hi': 'छवि (_ I) '},\n",
              " {'en': 'Lo _ gin Helper', 'hi': 'प्रवेश सहायक'},\n",
              " {'en': 'Select All', 'hi': 'सभी चुनें'},\n",
              " {'en': '_ Selection', 'hi': 'चयन (_ S) '},\n",
              " {'en': 'St _ reamable Content', 'hi': 'प्रवाहित करनेयोग्य विषयवस्तु'},\n",
              " {'en': 'Caption:', 'hi': 'शीर्षकः'},\n",
              " {'en': 'Summary:', 'hi': 'सारांशः'},\n",
              " {'en': 'Selected columns', 'hi': 'चुने गए स्तंभ'},\n",
              " {'en': 'Selected rows', 'hi': 'चुनी गई पंक्तियां'},\n",
              " {'en': 'Columns', 'hi': 'स्तंभ'},\n",
              " {'en': 'Rows', 'hi': 'पंक्तियां'},\n",
              " {'en': 'Table Information', 'hi': 'सारणी सूचना'},\n",
              " {'en': 'name (x, y)', 'hi': 'नाम (x, y) '},\n",
              " {'en': 'Header:', 'hi': 'शीर्षकः'},\n",
              " {'en': 'Extents:', 'hi': 'विस्तारः'},\n",
              " {'en': 'Row', 'hi': 'पंक्ति'},\n",
              " {'en': 'Column', 'hi': 'स्तंभ'},\n",
              " {'en': 'Selected Cell', 'hi': 'चुनी गई कोशिका'},\n",
              " {'en': '_ Table', 'hi': 'सारणी (_ T) '},\n",
              " {'en': 'Offset', 'hi': 'ओफसेट'},\n",
              " {'en': 'Include defaults', 'hi': 'डिफोल्टों को शामिल करें'},\n",
              " {'en': 'Start: 0', 'hi': 'प्रारंभ'},\n",
              " {'en': 'End: 0', 'hi': 'अंतः 0'},\n",
              " {'en': 'Te _ xt', 'hi': 'पाठ (_ x) '},\n",
              " {'en': 'Current value', 'hi': 'मौजूदा मान'},\n",
              " {'en': 'Minimum increment', 'hi': 'न्यूनतम वृद्धि'},\n",
              " {'en': 'Maximum value', 'hi': 'अधिकतम मान'},\n",
              " {'en': 'Minimum value', 'hi': 'न्यूनतम मान'},\n",
              " {'en': 'Val _ ue', 'hi': 'मान'},\n",
              " {'en': 'unknown', 'hi': 'अज्ञात'},\n",
              " {'en': 'Interface Viewer', 'hi': 'अंतराफलक दर्शक'},\n",
              " {'en': 'Allows viewing of various interface properties',\n",
              "  'hi': 'अंतराफलक के विभिन्न गुणों को देखने देता है'},\n",
              " {'en': '(not implemented)', 'hi': '(क्रियान्वित नहीं हुआ है) '},\n",
              " {'en': 'Name', 'hi': 'नाम'},\n",
              " {'en': 'URI', 'hi': 'यूआरआई'},\n",
              " {'en': 'Start', 'hi': 'प्रारंभ'},\n",
              " {'en': 'End', 'hi': 'अंत'},\n",
              " {'en': 'Too many selectable children', 'hi': 'बहुत अधिक चयनीय शिशु हैं'},\n",
              " {'en': '(Editable)', 'hi': '(संशोधनीय) Start'},\n",
              " {'en': 'Start:% d', 'hi': 'प्रारंभEnd'},\n",
              " {'en': 'Quick Select', 'hi': 'तेज चुनाव'},\n",
              " {'en': 'Plugin with various methods of selecting accessibles quickly.',\n",
              "  'hi': 'प्लग-इन जिसमें हैं एक्सेसेबेलों को तेजी से चुनने के लिए कई विधियां'},\n",
              " {'en': 'Inspect last focused accessible',\n",
              "  'hi': 'अंतिम बार फोकस किए गए एक्सेसेबल को जांचें'},\n",
              " {'en': 'Inspect accessible under mouse',\n",
              "  'hi': 'माउस के अधीन जो एक्सेसेबल है, उसे जांचें'},\n",
              " {'en': 'Sche _ ma:', 'hi': 'स्कीमाः'},\n",
              " {'en': 'V _ alidate', 'hi': 'सत्यापन'},\n",
              " {'en': 'Idle', 'hi': 'खाली'},\n",
              " {'en': 'No description', 'hi': 'कोई विवरण नहीं'},\n",
              " {'en': 'AT - SPI Validator', 'hi': 'एटी-एसपीआई सत्यापक'},\n",
              " {'en': 'Validates application accessibility',\n",
              "  'hi': 'अनुप्रयोग की पहुंचनीयता का सत्यापन करता है'},\n",
              " {'en': 'Level', 'hi': 'स्तर'},\n",
              " {'en': 'Role', 'hi': 'भूमिका'},\n",
              " {'en': 'Saving', 'hi': 'सहेज रहे हैं'},\n",
              " {'en': 'Validating', 'hi': 'पुष्टि कर रहे हैं'},\n",
              " {'en': 'EXCEPT', 'hi': 'अपवाद'},\n",
              " {'en': 'ERROR', 'hi': 'त्रुटि'},\n",
              " {'en': 'WARN', 'hi': 'चेतावनी'},\n",
              " {'en': 'INFO', 'hi': 'सूचना'},\n",
              " {'en': 'DEBUG', 'hi': 'दोषमुक्त करें'},\n",
              " {'en': 'Basic', 'hi': 'मूल'},\n",
              " {'en': 'Tests fundamental GUI application accessibility',\n",
              "  'hi': 'मूलभूत जीयूआई अनुप्रयोग पहुंचनीयता का परीक्षण करता है'},\n",
              " {'en': 'actionable% s is not focusable or selectable',\n",
              "  'hi': '% s जिस पर कार्रवाई हो सकती है, वह न तो फोकस करने योग्य है न ही चयनीय'},\n",
              " {'en': 'interactive% s is not actionable',\n",
              "  'hi': 'अंतर्क्रियात्मक% s कार्रवाई करने योग्य नहीं है'},\n",
              " {'en': 'more than one focused widget', 'hi': 'एक से अधिक विडजेट फोकस में है'},\n",
              " {'en': '% s has no text interface', 'hi': '% s का कोई पाठ अंतराफलक नहीं है'},\n",
              " {'en': '% s index in parent does not match child index',\n",
              "  'hi': 'अभिभावक में% s सूची शिशु सूची सेमेल नहीं खाती'},\n",
              " {'en': 'Missing reciprocal for% s relation',\n",
              "  'hi': '% s संबंध के लिए अन्योन्य गायब है'},\n",
              " {'en': '% s missing name or label', 'hi': '% s गायब नाम या सूचक'},\n",
              " {'en': 'focusable% s has a table interface, but not a selection interface',\n",
              "  'hi': 'फोकस योग्य% s में सारणी अंतराफलक है, लेकिन कोई चयनीय अंतराफलक नहीं हैbutton has focused state without focusable state'},\n",
              " {'en': '% s has% s state without% s state',\n",
              "  'hi': '% s में% s स्थिति है, पर उसके साथ% s स्थिति नहीं है'},\n",
              " {'en': '% s does not belong to a set',\n",
              "  'hi': '% s किसी समुच्चय का सदस्य नहीं है'},\n",
              " {'en': '% (rolename) s index% (num) d does not match row and column',\n",
              "  'hi': '% (rolename) s सूची% (num) d पंक्ति और स्तंभ से मेल नहीं खातेparent indexrow and column index'},\n",
              " {'en': '% (rolename) s parent index% (num1) d does not match row and column index% (num2) d',\n",
              "  'hi': '% (rolename) s अभिभावक सूची% (num1) d पंक्ति और स्तंभ सूची% (num2) d से मेल नहीं खाते'},\n",
              " {'en': '% s has no name or description',\n",
              "  'hi': '% s का कोई नाम या विवरण नहीं'},\n",
              " {'en': '_ Preferences...', 'hi': 'पसंद (_ P)... '},\n",
              " {'en': '_ Contents', 'hi': 'विषय सूची (_ C) '},\n",
              " {'en': '< dead >', 'hi': '<dead> '},\n",
              " {'en': 'Children', 'hi': 'शिशु'},\n",
              " {'en': '_ Hide / Show Applications without children',\n",
              "  'hi': 'बच्चों के बिना अनुप्रयोग छिपाएँ/दिखाएँ (_ H) '},\n",
              " {'en': '_ Refresh Registry', 'hi': 'पंजी ताजा करें (_ R) '},\n",
              " {'en': 'Refresh all', 'hi': 'सभी को ताजा करें'},\n",
              " {'en': 'Refresh _ Node', 'hi': 'आसंधि (नोड) को ताजा करें (_ N) '},\n",
              " {'en': \"Refresh selected node 's children\",\n",
              "  'hi': 'चुनी गई आसंधियों (नोड) के शिशुओं को ताजा करें'},\n",
              " {'en': 'Component', 'hi': 'घटक'},\n",
              " {'en': 'Task', 'hi': 'कार्य'},\n",
              " {'en': 'Key', 'hi': 'कुंजी'},\n",
              " {'en': 'Alt', 'hi': 'आल्ट'},\n",
              " {'en': 'Ctrl', 'hi': 'कंट्रोल'},\n",
              " {'en': 'Shift', 'hi': 'शिफ्ट'},\n",
              " {'en': 'Top panel', 'hi': 'ऊपरी पटल'},\n",
              " {'en': 'Bottom panel', 'hi': 'निचला पटल'},\n",
              " {'en': 'accerciser Preferences', 'hi': 'एक्सेर्साइसर पसंद'},\n",
              " {'en': 'Plugins', 'hi': 'प्लगइन्स'},\n",
              " {'en': 'Global Hotkeys', 'hi': 'सार्वत्रिक फटाफट कुंजियां'},\n",
              " {'en': 'Highlighting', 'hi': 'हाइलाइटन'},\n",
              " {'en': 'Highlight duration:', 'hi': 'हाइलाइट अवधिः'},\n",
              " {'en': 'Border color:', 'hi': 'सीमांत रंगः'},\n",
              " {'en': 'The border color of the highlight box',\n",
              "  'hi': 'हाइलाइट बक्से का सीमांत रंग'},\n",
              " {'en': 'Fill color:', 'hi': 'भराई का रंगः'},\n",
              " {'en': 'The fill color of the highlight box',\n",
              "  'hi': 'हाइलाइट बक्से का भराई रंग'},\n",
              " {'en': 'translator - credits',\n",
              "  'hi': 'रविशंकर श्रीवास्तव (raviratlami @yahoo. com) राजेश रंजन (rajeshkajha @yahoo. com) ल. बालसुब्रमण्यम (l. balasubramaniam @gmail. com) '},\n",
              " {'en': 'An interactive Python accessibility explorer',\n",
              "  'hi': 'एक अंतर्क्रियात्मक पाइथन पहुंचनीयता अन्वेषक'},\n",
              " {'en': 'accerciser Copyright (c) 2006, 2007 IBM Corporation (BSD)',\n",
              "  'hi': 'एक्सेर्साइसर सर्वाधिकार (c) 2006,2007 आईबीएम निगम (बीएसडी) '},\n",
              " {'en': 'The New BSD License See the COPYING and NOTICE files for details.',\n",
              "  'hi': 'नया बीएसडी लाइसेन्स विवरण के लिए देखिए प्रतिलिपीकरण और सूचना फाइलें'},\n",
              " {'en': 'Web site', 'hi': 'जाल स्थल'},\n",
              " {'en': '_ Add Bookmark...', 'hi': 'पसंद जोड़ें... (_ A) '},\n",
              " {'en': 'Bookmark selected accessible.',\n",
              "  'hi': 'चुने गए एक्सेसेबलों को पुस्तक-चिह्नित करें'},\n",
              " {'en': '_ Edit Bookmarks...', 'hi': 'पुस्तक चिह्न संपादित करें (_ E)... '},\n",
              " {'en': 'Manage bookmarks.', 'hi': 'पुस्तक-चिह्नों को प्रबंधित करें। '},\n",
              " {'en': 'Edit Bookmarks...', 'hi': 'पुस्तक चिह्नों को संपादित करें... '},\n",
              " {'en': 'Title', 'hi': 'शीर्षक'},\n",
              " {'en': 'Application', 'hi': 'अनुप्रयोग'},\n",
              " {'en': 'Path', 'hi': 'पथ'},\n",
              " {'en': 'Add Bookmark...', 'hi': 'पुस्तक-चिह्न जोड़ें... '},\n",
              " {'en': 'Title:', 'hi': 'शीर्षकः'},\n",
              " {'en': 'Application:', 'hi': 'अनुप्रयोगः'},\n",
              " {'en': 'Path:', 'hi': 'पथः'},\n",
              " {'en': 'Plugin Errors', 'hi': 'प्लग-इन त्रुटियांviewport'},\n",
              " {'en': 'View', 'hi': 'दृश्य'},\n",
              " {'en': 'No view', 'hi': 'कोई दृश्य नहीं है'},\n",
              " {'en': '_ Single plugins view', 'hi': 'एकल प्लग-इन दृश्य'},\n",
              " {'en': 'Plugin View', 'hi': 'प्लग-इन दृश्य'},\n",
              " {'en': 'Plugin View (% d)', 'hi': 'प्लग-इन दृश्य (% d) '},\n",
              " {'en': '_ New view...', 'hi': 'नया दृश्य... '},\n",
              " {'en': 'New View...', 'hi': 'नया दृश्य... '},\n",
              " {'en': '_ File', 'hi': 'फाइल (F) '},\n",
              " {'en': '_ Edit', 'hi': 'संपादित करेंmenu'},\n",
              " {'en': '_ Bookmarks', 'hi': 'पसंद (_ B) menu'},\n",
              " {'en': '_ View', 'hi': 'दृश्य _ (V) '},\n",
              " {'en': '_ Help', 'hi': 'मदद'},\n",
              " {'en': '(no description)', 'hi': '(कोई विवरण नहीं) '},\n",
              " {'en': 'Accerciser could not see the applications on your desktop. You must enable desktop accessibility to fix this problem. Do you want to enable it now?',\n",
              "  'hi': 'एक्सेरसाइसर आपके डेस्कटोप में मौजूद अनुप्रयोग नहीं देख पाया। इस समस्या के समाधान के लिए आपको डेस्कटोप पहुंचनीयता को सक्रिय करना होगा। क्या आप इसे सक्रिय करना चाहते हैं? '},\n",
              " {'en': 'Note: Changes only take effect after logout.',\n",
              "  'hi': 'टिप्पणीः परिवर्तन सत्रांत (लोगआउट) के बाद ही प्रभाव में आएंगे। '},\n",
              " {'en': '_ New view...', 'hi': 'नया दृश्य... (_ N) '},\n",
              " {'en': 'Give your application an accessibility workout',\n",
              "  'hi': 'अपने अनुप्रयोग को पहुंचनीयता व्यायाम का लाभ दें'},\n",
              " {'en': 'Accerciser Accessibility Explorer',\n",
              "  'hi': 'एक्सेर्साइसर पहुंचनीयता अन्वेषक'},\n",
              " {'en': 'A list of plugins that are disabled by default',\n",
              "  'hi': 'उन प्लग-इनों की सूची जिन्हें डिफोल्ट रूप से निष्क्रिय किया गया है'},\n",
              " {'en': 'A list of plugins that are disabled by default.',\n",
              "  'hi': 'उन प्लग-इनों की सूची जिन्हें डिफोल्ट रूप से निष्क्रिय किया गया है'},\n",
              " {'en': 'Highlight duration', 'hi': 'अवधि को हाइलाइट रकें'},\n",
              " {'en': 'The duration of the highlight box when selecting accessible nodes.',\n",
              "  'hi': 'पहुंचनीय आसंधि (नोड) को चुनते समय हाइलाइट बक्से की अवधि'},\n",
              " {'en': 'Highlight fill color', 'hi': 'भराई के रंग को हाइलाइट करें'},\n",
              " {'en': 'The color and opacity of the highlight fill.',\n",
              "  'hi': 'हाइलाइट किया गया भराई का रंग और पारदर्शिता। '},\n",
              " {'en': 'Highlight border color',\n",
              "  'hi': 'सीमांत (बोर्डर) के रंग को हाइलाइट करें'},\n",
              " {'en': 'The color and opacity of the highlight border.',\n",
              "  'hi': 'हाइलाइट किए गए सीमांत का रंग और अपारदर्शिता। '},\n",
              " {'en': 'The layout for the bottom panel',\n",
              "  'hi': 'निचले पटल के लिए डिफोल्ट प्लग-इन खाका'},\n",
              " {'en': 'The layout for the bottom panel pluginview.',\n",
              "  'hi': 'निचले पटल के लिए डिफोल्ट प्लग-इन खाका'},\n",
              " {'en': 'The layout for the top panel',\n",
              "  'hi': 'ऊपरी पटल के लिए डिफोल्ट प्लग-इन खाका'},\n",
              " {'en': 'The layout for the top panel pluginview.',\n",
              "  'hi': 'ऊपरी पटल के लिए डिफोल्ट प्लग-इन खाका'},\n",
              " {'en': 'Single layout view', 'hi': 'एकल प्लग-इन दृश्य'},\n",
              " {'en': 'Available new pluginviews', 'hi': 'एकल प्लग-इन दृश्य'},\n",
              " {'en': 'The default plugin layout for the top panel.',\n",
              "  'hi': 'ऊपरी पटल के लिए डिफोल्ट प्लग-इन खाका'},\n",
              " {'en': 'API Browser', 'hi': 'एपीआई विचरक'},\n",
              " {'en': 'Browse the various methods of the current accessible',\n",
              "  'hi': 'इस समय जिसे प्राप्त किया गया हो, उसकी विभिन्न विधियों (मेथड) में विचरण करें'},\n",
              " {'en': 'Hide private attributes', 'hi': 'निजी गुणों को छिपाएं'},\n",
              " {'en': 'Method', 'hi': 'विधि'},\n",
              " {'en': 'Property', 'hi': 'गुणधर्म'},\n",
              " {'en': 'Value', 'hi': 'मान'},\n",
              " {'en': 'IPython Console', 'hi': 'आईपाइथन कन्सोल'},\n",
              " {'en': 'Interactive console for manipulating currently selected accessible',\n",
              "  'hi': 'इस समय चुने गए एक्सेसेबेल से काम लेने के लिए अंतर्क्रियात्मक कन्सोल'},\n",
              " {'en': 'Event monitor', 'hi': 'घटना मानिटर'},\n",
              " {'en': '_ Monitor Events', 'hi': 'घटनाओं को मानिटर करें (_ M) '},\n",
              " {'en': 'C _ lear Selection', 'hi': 'चुनाव को हटाएं (C _) '},\n",
              " {'en': 'Everything', 'hi': 'सभी'},\n",
              " {'en': 'Selected application', 'hi': 'चुने गए अनुप्रयोग'},\n",
              " {'en': 'Selected accessible', 'hi': 'चुने गए एक्सेसेबेल'},\n",
              " {'en': 'Source', 'hi': 'स्रोत'},\n",
              " {'en': 'Event Monitor', 'hi': 'घटना मानिटर'},\n",
              " {'en': 'Shows events as they occur from selected types and sources',\n",
              "  'hi': 'चुने गए प्रकारों और स्रोतों से घटनाएं जैसे-जैसे घटित होती हैं, उन्हें दर्शाता है'},\n",
              " {'en': 'Highlight last event entry',\n",
              "  'hi': 'अंतिम प्रविष्ट घटना को हाइलाइट करो'},\n",
              " {'en': 'Start / stop event recording', 'hi': 'घटना रेकोर्डिंग शुरू करो/रोको'},\n",
              " {'en': 'Clear event log', 'hi': 'घटना रोजनामचा मिटाओ'},\n",
              " {'en': '(no description)', 'hi': 'कोई विवरण नहीं'},\n",
              " {'en': 'Description', 'hi': 'वर्णन'},\n",
              " {'en': 'Show', 'hi': 'दिखाएं'},\n",
              " {'en': '_ Accessible', 'hi': 'पहुंचनीय'},\n",
              " {'en': 'Perform action', 'hi': 'कार्रवाई संपन्न करें'},\n",
              " {'en': 'Acti _ on', 'hi': 'कार्रवाई (_ o) '},\n",
              " {'en': 'ID', 'hi': 'आईडी'},\n",
              " {'en': 'Toolkit', 'hi': 'औजार बक्सा'},\n",
              " {'en': 'Version', 'hi': 'संस्करण'},\n",
              " {'en': 'Ap _ plication', 'hi': 'अनुप्रयोग'},\n",
              " {'en': 'Col _ lection', 'hi': 'संग्रह'},\n",
              " {'en': '0, 0', 'hi': '0, 0'},\n",
              " {'en': 'Relative position', 'hi': 'सापेक्ष स्थिति'},\n",
              " {'en': 'Size', 'hi': 'आकार'},\n",
              " {'en': 'WIDGET', 'hi': 'विडजेट'},\n",
              " {'en': 'Layer', 'hi': 'स्तर'},\n",
              " {'en': 'MDI - Z - order', 'hi': 'एमडीआई-जेड-क्रम'},\n",
              " {'en': 'Alpha', 'hi': 'अल्फा'},\n",
              " {'en': 'Absolute position', 'hi': 'निरपेक्ष स्थिति'},\n",
              " {'en': 'Co _ mponent', 'hi': 'घटक'},\n",
              " {'en': 'Des _ ktop', 'hi': 'डेस्कटोप'},\n",
              " {'en': 'Locale:', 'hi': 'स्थान-विशिष्टः'},\n",
              " {'en': '_ Document', 'hi': 'प्रलेख'},\n",
              " {'en': 'Hyperlink', 'hi': 'हाइपरकड़ी'},\n",
              " {'en': 'H _ ypertext', 'hi': 'हाइपरपाठ'},\n",
              " {'en': 'Position', 'hi': 'स्थिति'},\n",
              " {'en': 'Description', 'hi': 'वर्णन'},\n",
              " {'en': 'Locale', 'hi': 'स्थान-विशिष्ट'},\n",
              " {'en': '_ Image', 'hi': 'छवि (_ I) '},\n",
              " {'en': 'Lo _ gin Helper', 'hi': 'प्रवेश सहायक'},\n",
              " {'en': 'Select All', 'hi': 'सभी चुनें'},\n",
              " {'en': '_ Selection', 'hi': 'चयन (_ S) '},\n",
              " {'en': 'St _ reamable Content', 'hi': 'प्रवाहित करनेयोग्य विषयवस्तु'},\n",
              " {'en': 'Selected columns', 'hi': 'चुने गए स्तंभ'},\n",
              " {'en': 'Selected rows', 'hi': 'चुनी गई पंक्तियां'},\n",
              " {'en': 'Columns', 'hi': 'स्तंभ'},\n",
              " {'en': 'Rows', 'hi': 'पंक्तियां'},\n",
              " {'en': 'Table Information', 'hi': '& lt; bgt; सारणी सूचनाlt;/bgt; '},\n",
              " {'en': 'name (x, y)', 'hi': 'नाम (x, y) '},\n",
              " {'en': 'Header:', 'hi': 'शीर्षकः'},\n",
              " {'en': 'Extents:', 'hi': 'विस्तारः'},\n",
              " {'en': 'Row', 'hi': 'पंक्ति'},\n",
              " {'en': 'Column', 'hi': 'स्तंभ'},\n",
              " {'en': 'Selected Cell', 'hi': '& lt; bgt; चुनी गई कोशिकाlt;/bgt; '},\n",
              " {'en': '_ Table', 'hi': 'सारणी (_ T) '},\n",
              " {'en': 'Offset', 'hi': 'ओफसेट'},\n",
              " {'en': 'Include defaults', 'hi': 'डिफोल्टों को शामिल करें'},\n",
              " {'en': 'Te _ xt', 'hi': 'पाठ (_ x) '},\n",
              " {'en': 'Current value', 'hi': 'मौजूदा मान'},\n",
              " {'en': 'Minimum increment', 'hi': 'न्यूनतम वृद्धि'},\n",
              " {'en': 'Maximum value', 'hi': 'अधिकतम मान'},\n",
              " {'en': 'Minimum value', 'hi': 'न्यूनतम मान'},\n",
              " {'en': 'Val _ ue', 'hi': 'मान'},\n",
              " {'en': 'Interface Viewer', 'hi': 'अंतराफलक दर्शक'},\n",
              " {'en': 'Allows viewing of various interface properties',\n",
              "  'hi': 'अंतराफलक के विभिन्न गुणों को देखने देता है'},\n",
              " {'en': '(not implemented)', 'hi': '(क्रियान्वित नहीं हुआ है) '},\n",
              " {'en': 'Name', 'hi': 'नाम'},\n",
              " {'en': 'URI', 'hi': 'यूआरआई'},\n",
              " {'en': 'Start', 'hi': 'प्रारंभ'},\n",
              " {'en': 'End', 'hi': 'अंत'},\n",
              " {'en': 'Too many selectable children', 'hi': 'बहुत अधिक चयनीय शिशु हैं'},\n",
              " {'en': 'Quick Select', 'hi': 'तेज चुनाव'},\n",
              " {'en': 'Plugin with various methods of selecting accessibles quickly.',\n",
              "  'hi': 'प्लग-इन जिसमें हैं एक्सेसेबेलों को तेजी से चुनने के लिए कई विधियां'},\n",
              " {'en': 'Inspect last focused accessible',\n",
              "  'hi': 'अंतिम बार फोकस किए गए एक्सेसेबल को जांचें'},\n",
              " {'en': 'Inspect accessible under mouse',\n",
              "  'hi': 'माउस के अधीन जो एक्सेसेबल है, उसे जांचें'},\n",
              " {'en': 'Sche _ ma:', 'hi': 'स्कीमाः'},\n",
              " {'en': 'V _ alidate', 'hi': 'सत्यापन'},\n",
              " {'en': 'Idle', 'hi': 'खाली'},\n",
              " {'en': 'No description', 'hi': 'कोई विवरण नहीं'},\n",
              " {'en': 'AT - SPI Validator', 'hi': 'एटी-एसपीआई सत्यापक'},\n",
              " {'en': 'Validates application accessibility',\n",
              "  'hi': 'अनुप्रयोग की पहुंचनीयता का सत्यापन करता है'},\n",
              " {'en': 'Level', 'hi': 'स्तर'},\n",
              " {'en': 'Role', 'hi': 'भूमिका'},\n",
              " {'en': 'Saving', 'hi': 'सहेज रहे हैं'},\n",
              " {'en': 'Validating', 'hi': 'पुष्टि कर रहे हैं'},\n",
              " {'en': 'EXCEPT', 'hi': 'अपवाद'},\n",
              " {'en': 'ERROR', 'hi': 'त्रुटि'},\n",
              " {'en': 'WARN', 'hi': 'चेतावनी'},\n",
              " {'en': 'INFO', 'hi': 'सूचना'},\n",
              " {'en': 'DEBUG', 'hi': 'दोषमुक्त करें'},\n",
              " {'en': 'Basic', 'hi': 'मूल'},\n",
              " {'en': 'Tests fundamental GUI application accessibility',\n",
              "  'hi': 'मूलभूत जीयूआई अनुप्रयोग पहुंचनीयता का परीक्षण करता है'},\n",
              " {'en': 'actionable% s is not focusable or selectable',\n",
              "  'hi': '% s जिस पर कार्रवाई हो सकती है, वह न तो फोकस करने योग्य है न ही चयनीय'},\n",
              " {'en': 'interactive% s is not actionable',\n",
              "  'hi': 'अंतर्क्रियात्मक% s कार्रवाई करने योग्य नहीं है'},\n",
              " {'en': 'more than one focused widget', 'hi': 'एक से अधिक विडजेट फोकस में है'},\n",
              " {'en': '% s has no text interface', 'hi': '% s का कोई पाठ अंतराफलक नहीं है'},\n",
              " {'en': '% s index in parent does not match child index',\n",
              "  'hi': 'अभिभावक में% s सूची शिशु सूची सेमेल नहीं खाती'},\n",
              " {'en': 'Missing reciprocal for% s relation',\n",
              "  'hi': '% s संबंध के लिए अन्योन्य गायब है'},\n",
              " {'en': '% s missing name or label', 'hi': '% s गायब नाम या सूचक'},\n",
              " {'en': 'focusable% s has a table interface, but not a selection interface',\n",
              "  'hi': 'फोकस योग्य% s में सारणी अंतराफलक है, कोई चयनीय अंतराफलक नहीं हैbutton has focused state without focusable state'},\n",
              " {'en': '% s has% s state without% s state',\n",
              "  'hi': '% s में% s स्थिति है, पर उसके साथ% s स्थिति नहीं है'},\n",
              " {'en': '% s does not belong to a set',\n",
              "  'hi': '% s किसी समुच्चय का सदस्य नहीं है'},\n",
              " {'en': '% (rolename) s index% (num) d does not match row and column',\n",
              "  'hi': '% (rolename) s सूची% (num) d पंक्ति और स्तंभ से मेल नहीं खातेparent indexrow and column index'},\n",
              " {'en': '% (rolename) s parent index% (num1) d does not match row and column index% (num2) d',\n",
              "  'hi': '% (rolename) s अभिभावक सूची% (num1) d पंक्ति और स्तंभ सूची% (num2) d से मेल नहीं खाते'},\n",
              " {'en': '% s has no name or description',\n",
              "  'hi': '% s का कोई नाम या विवरण नहीं'},\n",
              " {'en': '_ Preferences...', 'hi': 'पसंद (_ P)... '},\n",
              " {'en': '_ Contents', 'hi': 'विषय सूची (_ C) '},\n",
              " {'en': 'Accerciser could not see the applications on your desktop. You must enable desktop accessibility to fix this problem. Do you want to enable it now?',\n",
              "  'hi': 'एक्सेरसाइसर आपके डेस्कटोप में मौजूद अनुप्रयोग नहीं देख पाया। इस समस्या के समाधान के लिए आपको डेस्कटोप पहुंचनीयता को सक्रिय करना होगा। क्या आप इसे सक्रिय करना चाहते हैं? '},\n",
              " {'en': 'Note: Changes only take effect after logout.',\n",
              "  'hi': 'टिप्पणीः परिवर्तन सत्रांत (लोगआउट) के बाद ही प्रभाव में आएंगे। '},\n",
              " {'en': 'Children', 'hi': 'शिशु'},\n",
              " {'en': '_ Refresh Registry', 'hi': 'पंजी ताजा करें (_ R) '},\n",
              " {'en': 'Refresh all', 'hi': 'सभी को ताजा करें'},\n",
              " {'en': 'Refresh _ Node', 'hi': 'आसंधि (नोड) को ताजा करें (_ N) '},\n",
              " {'en': \"Refresh selected node 's children\",\n",
              "  'hi': 'चुनी गई आसंधियों (नोड) के शिशुओं को ताजा करें'},\n",
              " {'en': 'Component', 'hi': 'घटक'},\n",
              " {'en': 'Task', 'hi': 'कार्य'},\n",
              " {'en': 'Key', 'hi': 'कुंजी'},\n",
              " {'en': 'Alt', 'hi': 'आल्ट'},\n",
              " {'en': 'Ctrl', 'hi': 'कंट्रोल'},\n",
              " {'en': 'Shift', 'hi': 'शिफ्ट'},\n",
              " {'en': 'Top panel', 'hi': 'ऊपरी पटल'},\n",
              " {'en': 'Bottom panel', 'hi': 'निचला पटल'},\n",
              " {'en': 'accerciser Preferences', 'hi': 'एक्सेर्साइसर पसंद'},\n",
              " {'en': 'Plugins', 'hi': 'प्लगइन्स'},\n",
              " {'en': 'Global Hotkeys', 'hi': 'सार्वत्रिक फटाफट कुंजियां'},\n",
              " {'en': 'Highlighting', 'hi': 'हाइलाइटन'},\n",
              " {'en': 'Highlight duration:', 'hi': 'हाइलाइट अवधिः'},\n",
              " {'en': 'Border color:', 'hi': 'सीमांत रंगः'},\n",
              " {'en': 'The border color of the highlight box',\n",
              "  'hi': 'हाइलाइट बक्से का सीमांत रंग'},\n",
              " {'en': 'Fill color:', 'hi': 'भराई का रंगः'},\n",
              " {'en': 'The fill color of the highlight box',\n",
              "  'hi': 'हाइलाइट बक्से का भराई रंग'},\n",
              " {'en': 'translator - credits',\n",
              "  'hi': 'रविशंकर श्रीवास्तव (raviratlami @yahoo. com) राजेश रंजन (rajeshkajha @yahoo. com) ल. बालसुब्रमण्यम (l. balasubramaniam @gmail. com) '},\n",
              " {'en': 'An interactive Python accessibility explorer',\n",
              "  'hi': 'एक अंतर्क्रियात्मक पाइथन पहुंचनीयता अन्वेषक'},\n",
              " {'en': 'accerciser Copyright (c) 2006, 2007 IBM Corporation (BSD)',\n",
              "  'hi': 'एक्सेर्साइसर सर्वाधिकार © 2006,2007 आईबीएम निगम (बीएसडी) '},\n",
              " {'en': 'The New BSD License See the COPYING and NOTICE files for details.',\n",
              "  'hi': 'नया बीएसडी लाइसेन्स विवरण के लिए देखिए प्रतिलिपीकरण और सूचना फाइलें'},\n",
              " {'en': 'Web site', 'hi': 'जाल स्थल'},\n",
              " {'en': '_ Add Bookmark...', 'hi': 'पसंद जोड़ें... (_ A) '},\n",
              " {'en': 'Bookmark selected accessible.',\n",
              "  'hi': 'चुने गए एक्सेसेबलों को पुस्तक-चिह्नित करें'},\n",
              " {'en': '_ Edit Bookmarks...', 'hi': 'पुस्तक चिह्न संपादित करें (_ E)... '},\n",
              " {'en': 'Manage bookmarks.', 'hi': 'पुस्तक-चिह्नों को प्रबंधित करें। '},\n",
              " {'en': 'Edit Bookmarks...', 'hi': 'पुस्तक चिह्नों को संपादित करें... '},\n",
              " {'en': 'Title', 'hi': 'शीर्षक'},\n",
              " {'en': 'Application', 'hi': 'अनुप्रयोग'},\n",
              " {'en': 'Path', 'hi': 'पथ'},\n",
              " {'en': 'Add Bookmark...', 'hi': 'पुस्तक-चिह्न जोड़ें... '},\n",
              " {'en': 'Title:', 'hi': 'शीर्षकः'},\n",
              " {'en': 'Application:', 'hi': 'अनुप्रयोगः'},\n",
              " {'en': 'Path:', 'hi': 'पथः'},\n",
              " {'en': 'Plugin Errors', 'hi': 'प्लग-इन त्रुटियां'},\n",
              " {'en': 'View', 'hi': 'दृश्य'},\n",
              " {'en': 'No view', 'hi': 'कोई दृश्य नहीं है'},\n",
              " {'en': '_ Single plugins view', 'hi': 'एकल प्लग-इन दृश्य'},\n",
              " {'en': 'Plugin View', 'hi': 'प्लग-इन दृश्य'},\n",
              " {'en': 'Plugin View (% d)', 'hi': 'प्लग-इन दृश्य (% d) '},\n",
              " {'en': '_ New view...', 'hi': 'नया दृश्य... '},\n",
              " {'en': 'New View...', 'hi': 'नया दृश्य... '},\n",
              " {'en': '_ File', 'hi': 'फाइल (F) '},\n",
              " {'en': '_ Edit', 'hi': 'संपादित करें'},\n",
              " {'en': '_ Bookmarks', 'hi': 'पुस्तक-चिह्न संपादित करें (_ E)... '},\n",
              " {'en': '_ View', 'hi': 'दृश्य _ (V) '},\n",
              " {'en': '_ Help', 'hi': 'मदद'},\n",
              " {'en': 'Accerciser', 'hi': 'एक्सेर्साइसर'},\n",
              " {'en': 'Give your application an accessibility workout',\n",
              "  'hi': 'अपने अनुप्रयोग को पहुंचनीयता व्यायाम का लाभ दें'},\n",
              " {'en': 'Accerciser Accessibility Explorer',\n",
              "  'hi': 'एक्सेर्साइसर पहुंचनीयता अन्वेषक'},\n",
              " {'en': 'A list of plugins that are disabled by default',\n",
              "  'hi': 'उन प्लग-इनों की सूची जिन्हें डिफोल्ट रूप से निष्क्रिय किया गया है'},\n",
              " {'en': 'A list of plugins that are disabled by default.',\n",
              "  'hi': 'उन प्लग-इनों की सूची जिन्हें डिफोल्ट रूप से निष्क्रिय किया गया है'},\n",
              " {'en': 'Highlight duration', 'hi': 'अवधि को हाइलाइट रकें'},\n",
              " {'en': 'The duration of the highlight box when selecting accessible nodes.',\n",
              "  'hi': 'पहुंचनीय आसंधि नोड को चुनते समय हाइलाइट बक्से की अवधि. '},\n",
              " {'en': 'Highlight fill color', 'hi': 'भराई के रंग को हाइलाइट करें'},\n",
              " {'en': 'The color and opacity of the highlight fill.',\n",
              "  'hi': 'हाइलाइट किया गया भराई का रंग और पारदर्शिता। '},\n",
              " {'en': 'Highlight border color',\n",
              "  'hi': 'सीमांत (बोर्डर) के रंग को हाइलाइट करें'},\n",
              " {'en': 'The color and opacity of the highlight border.',\n",
              "  'hi': 'हाइलाइट किए गए सीमांत का रंग और अपारदर्शिता। '},\n",
              " {'en': 'Horizontal split', 'hi': 'क्षैतिज विभाजन'},\n",
              " {'en': 'Position of the horizontal split of the main window.',\n",
              "  'hi': 'मुख्य विंडो की क्षैतिज विभाजन की स्थिति. '},\n",
              " {'en': 'Vertical split', 'hi': 'अनुलंब विभाजित'},\n",
              " {'en': 'Position of the vertical split of the main window.',\n",
              "  'hi': 'मुख्य विंडो की अनुलंब विभाजित की स्थिति. '},\n",
              " {'en': 'Default window height', 'hi': 'तयशुदा विंडो ऊंचाई'},\n",
              " {'en': 'The window height value.', 'hi': 'विंडो की ऊंचाई का मान. '},\n",
              " {'en': 'Default window width', 'hi': 'तयशुदा विंडो चौड़ाई'},\n",
              " {'en': 'The window width value.', 'hi': 'विंडो चौड़ाई मान. '},\n",
              " {'en': 'The layout for the bottom panel', 'hi': 'नीचे के पैनल के लिए लेआउट'},\n",
              " {'en': 'The layout for the bottom panel pluginview.',\n",
              "  'hi': 'नीचे पैनल pluginview के लिए लेआउट. '},\n",
              " {'en': 'The layout for the top panel', 'hi': 'ऊपरी पटल के लिए खाका'},\n",
              " {'en': 'The layout for the top panel pluginview.',\n",
              "  'hi': 'शीर्ष पैनल pluginview के लिए लेआउट. '},\n",
              " {'en': 'Single layout view', 'hi': 'एकल लेआउट दृश्य'},\n",
              " {'en': 'View plugins in a single layout.',\n",
              "  'hi': 'एक ही खाका में प्लगिन देखें. '},\n",
              " {'en': 'Available new pluginviews', 'hi': 'नई pluginviews उपलब्ध है'},\n",
              " {'en': 'This list contains all the new available pluginviews',\n",
              "  'hi': 'इस सूची में सभी नई उपलब्ध pluginviews शामिल हैं'},\n",
              " {'en': 'The pluginview layout', 'hi': 'pluginview लेआउट'},\n",
              " {'en': 'The default plugin layout for the top panel.',\n",
              "  'hi': 'ऊपरी पटल के लिए डिफोल्ट प्लग-इन खाका. '},\n",
              " {'en': 'Window height', 'hi': 'विंडो की ऊँचाई'},\n",
              " {'en': 'Window height value.', 'hi': 'विंडो की ऊंचाई का मान. '},\n",
              " {'en': 'Window width', 'hi': 'विंडो की चौड़ाई'},\n",
              " {'en': 'Window width value.', 'hi': 'विंडो चौड़ाई मान. '},\n",
              " {'en': 'Hotkey combination', 'hi': 'hotkey संयोजन'},\n",
              " {'en': 'Hotkey combination for related action.',\n",
              "  'hi': 'संबंधित कार्रवाई के लिए hotkey संयोजन. '},\n",
              " {'en': 'API Browser', 'hi': 'एपीआई विचरक'},\n",
              " {'en': 'Browse the various methods of the current accessible',\n",
              "  'hi': 'इस समय जिसे प्राप्त किया गया हो, उसकी विभिन्न विधियों (मेथड) में विचरण करें'},\n",
              " {'en': 'Hide private attributes', 'hi': 'निजी गुणों को छिपाएं'},\n",
              " {'en': 'Method', 'hi': 'विधि'},\n",
              " {'en': 'Property', 'hi': 'गुणधर्म'},\n",
              " {'en': 'Value', 'hi': 'मान'},\n",
              " {'en': 'IPython Console', 'hi': 'आईपाइथन कन्सोल'},\n",
              " {'en': 'Interactive console for manipulating currently selected accessible',\n",
              "  'hi': 'इस समय चुने गए एक्सेसेबेल से काम लेने के लिए अंतर्क्रियात्मक कन्सोल'},\n",
              " {'en': 'Event monitor', 'hi': 'घटना मानिटर'},\n",
              " {'en': '_ Monitor Events', 'hi': 'घटनाओं को मानिटर करें (_ M) '},\n",
              " {'en': 'C _ lear Selection', 'hi': 'चुनाव को हटाएं (C _) '},\n",
              " {'en': 'Everything', 'hi': 'सभी'},\n",
              " {'en': 'Selected application', 'hi': 'चुने गए अनुप्रयोग'},\n",
              " {'en': 'Selected accessible', 'hi': 'चुने गए एक्सेसेबेल'},\n",
              " {'en': 'Source', 'hi': 'स्रोत'},\n",
              " {'en': 'Event Monitor', 'hi': 'घटना मानिटर'},\n",
              " {'en': 'Shows events as they occur from selected types and sources',\n",
              "  'hi': 'चुने गए प्रकारों और स्रोतों से घटनाएं जैसे-जैसे घटित होती हैं, उन्हें दर्शाता है'},\n",
              " {'en': 'Highlight last event entry',\n",
              "  'hi': 'अंतिम प्रविष्ट घटना को हाइलाइट करो'},\n",
              " {'en': 'Start / stop event recording', 'hi': 'घटना रेकोर्डिंग शुरू करो/रोको'},\n",
              " {'en': 'Clear event log', 'hi': 'घटना रोजनामचा मिटाओ'},\n",
              " {'en': 'Child count', 'hi': 'बाल गणना'},\n",
              " {'en': '(no description)', 'hi': '(कोई विवरण नहीं) '},\n",
              " {'en': 'Description', 'hi': 'वर्णन'},\n",
              " {'en': 'States', 'hi': 'राज्य'},\n",
              " {'en': 'Show', 'hi': 'दिखाएं'},\n",
              " {'en': 'Relations', 'hi': 'संबंध'},\n",
              " {'en': 'Attributes', 'hi': 'गुणधर्म'},\n",
              " {'en': '_ Accessible', 'hi': 'पहुंचनीय'},\n",
              " {'en': 'Perform action', 'hi': 'कार्रवाई संपन्न करें'},\n",
              " {'en': 'Acti _ on', 'hi': 'कार्रवाई (_ o) '},\n",
              " {'en': 'ID', 'hi': 'आईडी'},\n",
              " {'en': 'Toolkit', 'hi': 'औजार बक्सा'},\n",
              " {'en': 'Version', 'hi': 'संस्करण'},\n",
              " {'en': 'Ap _ plication', 'hi': 'अनुप्रयोग'},\n",
              " {'en': 'Col _ lection', 'hi': 'संग्रह'},\n",
              " {'en': '0, 0', 'hi': '0, 0'},\n",
              " {'en': 'Relative position', 'hi': 'सापेक्ष स्थिति'},\n",
              " {'en': 'Size', 'hi': 'आकार'},\n",
              " {'en': 'WIDGET', 'hi': 'विडजेट'},\n",
              " {'en': 'Layer', 'hi': 'स्तर'},\n",
              " {'en': 'MDI - Z - order', 'hi': 'एमडीआई-जेड-क्रम'},\n",
              " {'en': 'Alpha', 'hi': 'अल्फा'},\n",
              " {'en': 'Absolute position', 'hi': 'निरपेक्ष स्थिति'},\n",
              " {'en': 'Co _ mponent', 'hi': 'घटक'},\n",
              " {'en': 'Des _ ktop', 'hi': 'डेस्कटोप'},\n",
              " {'en': 'Locale:', 'hi': 'स्थान-विशिष्टः'},\n",
              " {'en': '_ Document', 'hi': 'प्रलेख'},\n",
              " {'en': 'Hyperlink', 'hi': 'हाइपरकड़ी'},\n",
              " {'en': 'H _ ypertext', 'hi': 'हाइपरपाठ'},\n",
              " {'en': 'Position', 'hi': 'स्थिति'},\n",
              " {'en': 'Description', 'hi': 'वर्णन'},\n",
              " {'en': 'Locale', 'hi': 'स्थान-विशिष्ट'},\n",
              " {'en': '_ Image', 'hi': 'छवि (_ I) '},\n",
              " {'en': 'Lo _ gin Helper', 'hi': 'प्रवेश सहायक'},\n",
              " {'en': 'Select All', 'hi': 'सभी चुनें'},\n",
              " {'en': '_ Selection', 'hi': 'चयन (_ S) '},\n",
              " {'en': 'St _ reamable Content', 'hi': 'प्रवाहित करनेयोग्य विषयवस्तु'},\n",
              " {'en': 'Caption:', 'hi': 'शीर्षकः'},\n",
              " {'en': 'Summary:', 'hi': 'सारांशः'},\n",
              " {'en': 'Selected columns', 'hi': 'चुने गए स्तंभ'},\n",
              " {'en': 'Selected rows', 'hi': 'चुनी गई पंक्तियां'},\n",
              " {'en': 'Columns', 'hi': 'स्तंभ'},\n",
              " {'en': 'Rows', 'hi': 'पंक्तियां'},\n",
              " {'en': 'Table Information', 'hi': 'सारणी सूचना'},\n",
              " {'en': 'name (x, y)', 'hi': 'नाम (x, y) '},\n",
              " {'en': 'Header:', 'hi': 'शीर्षकः'},\n",
              " {'en': 'Extents:', 'hi': 'विस्तारः'},\n",
              " {'en': 'Row', 'hi': 'पंक्ति'},\n",
              " {'en': 'Column', 'hi': 'स्तंभ'},\n",
              " {'en': 'Selected Cell', 'hi': 'चुनी गई कोशिका'},\n",
              " {'en': '_ Table', 'hi': 'सारणी (_ T) '},\n",
              " {'en': 'Text', 'hi': 'पाठ'},\n",
              " {'en': 'Offset', 'hi': 'ओफसेट'},\n",
              " {'en': 'Include defaults', 'hi': 'डिफोल्टों को शामिल करें'},\n",
              " {'en': 'Start: 0', 'hi': 'प्रारंभः 0'},\n",
              " {'en': 'End: 0', 'hi': 'अंतः 0'},\n",
              " {'en': 'Te _ xt', 'hi': 'पाठ (_ x) '},\n",
              " {'en': 'Current value', 'hi': 'मौजूदा मान'},\n",
              " {'en': 'Minimum increment', 'hi': 'न्यूनतम वृद्धि'},\n",
              " {'en': 'Maximum value', 'hi': 'अधिकतम मान'},\n",
              " {'en': 'Minimum value', 'hi': 'न्यूनतम मान'},\n",
              " {'en': 'Val _ ue', 'hi': 'मान'},\n",
              " {'en': 'unknown', 'hi': 'अज्ञात'},\n",
              " {'en': 'Interface Viewer', 'hi': 'अंतराफलक दर्शक'},\n",
              " {'en': 'Allows viewing of various interface properties',\n",
              "  'hi': 'अंतराफलक के विभिन्न गुणों को देखने देता है'},\n",
              " {'en': '(not implemented)', 'hi': '(क्रियान्वित नहीं हुआ है) '},\n",
              " {'en': 'Name', 'hi': 'नाम'},\n",
              " {'en': 'URI', 'hi': 'यूआरआई'},\n",
              " {'en': 'Start', 'hi': 'प्रारंभ'},\n",
              " {'en': 'End', 'hi': 'अंत'},\n",
              " {'en': 'Too many selectable children', 'hi': 'बहुत अधिक चयनीय शिशु हैं'},\n",
              " {'en': '(Editable)', 'hi': '(संशोधनीय) '},\n",
              " {'en': 'Quick Select', 'hi': 'तेज चुनाव'},\n",
              " {'en': 'Plugin with various methods of selecting accessibles quickly.',\n",
              "  'hi': 'प्लग-इन जिसमें हैं एक्सेसेबेलों को तेजी से चुनने के लिए कई विधियां'},\n",
              " {'en': 'Inspect last focused accessible',\n",
              "  'hi': 'अंतिम बार फोकस किए गए एक्सेसेबल को जांचें'},\n",
              " {'en': 'Inspect accessible under mouse',\n",
              "  'hi': 'माउस के अधीन जो एक्सेसेबल है, उसे जांचें'},\n",
              " {'en': 'Sche _ ma:', 'hi': 'स्कीमाः'},\n",
              " {'en': 'V _ alidate', 'hi': 'सत्यापन'},\n",
              " {'en': 'Idle', 'hi': 'खाली'},\n",
              " {'en': 'No description', 'hi': 'कोई विवरण नहीं'},\n",
              " {'en': 'AT - SPI Validator', 'hi': 'एटी-एसपीआई सत्यापक'},\n",
              " {'en': 'Validates application accessibility',\n",
              "  'hi': 'अनुप्रयोग की पहुंचनीयता का सत्यापन करता है'},\n",
              " {'en': 'Level', 'hi': 'स्तर'},\n",
              " {'en': 'Role', 'hi': 'भूमिका'},\n",
              " {'en': 'Saving', 'hi': 'सहेज रहे हैं'},\n",
              " {'en': 'Validating', 'hi': 'पुष्टि कर रहे हैं'},\n",
              " {'en': 'EXCEPT', 'hi': 'अपवाद'},\n",
              " {'en': 'ERROR', 'hi': 'त्रुटि'},\n",
              " {'en': 'WARN', 'hi': 'चेतावनी'},\n",
              " {'en': 'INFO', 'hi': 'सूचना'},\n",
              " {'en': 'DEBUG', 'hi': 'दोषमुक्त करें'},\n",
              " {'en': 'Basic', 'hi': 'मूल'},\n",
              " {'en': 'Tests fundamental GUI application accessibility',\n",
              "  'hi': 'मूलभूत जीयूआई अनुप्रयोग पहुंचनीयता का परीक्षण करता है'},\n",
              " {'en': 'actionable% s is not focusable or selectable',\n",
              "  'hi': '% s जिस पर कार्रवाई हो सकती है, वह न तो फोकस करने योग्य है न ही चयनीय'},\n",
              " {'en': 'interactive% s is not actionable',\n",
              "  'hi': 'अंतर्क्रियात्मक% s कार्रवाई करने योग्य नहीं है'},\n",
              " {'en': 'more than one focused widget', 'hi': 'एक से अधिक विडजेट फोकस में है'},\n",
              " {'en': '% s has no text interface', 'hi': '% s का कोई पाठ अंतराफलक नहीं है'},\n",
              " {'en': '% s index in parent does not match child index',\n",
              "  'hi': 'अभिभावक में% s सूची शिशु सूची सेमेल नहीं खाती'},\n",
              " {'en': 'Missing reciprocal for% s relation',\n",
              "  'hi': '% s संबंध के लिए अन्योन्य गायब है'},\n",
              " {'en': '% s missing name or label', 'hi': '% s गायब नाम या सूचक'},\n",
              " {'en': 'focusable% s has a table interface, but not a selection interface',\n",
              "  'hi': 'फोकस योग्य% s में सारणी अंतराफलक है, लेकिन कोई चयनीय अंतराफलक नहीं हैbutton has focused state without focusable state'},\n",
              " {'en': '% s has% s state without% s state',\n",
              "  'hi': '% s में% s स्थिति है, पर उसके साथ% s स्थिति नहीं है'},\n",
              " {'en': '% s does not belong to a set',\n",
              "  'hi': '% s किसी समुच्चय का सदस्य नहीं है'},\n",
              " {'en': '% (rolename) s index% (num) d does not match row and column',\n",
              "  'hi': '% (rolename) s सूची% (num) d पंक्ति और स्तंभ से मेल नहीं खातेparent indexrow and column index'},\n",
              " {'en': '% (rolename) s parent index% (num1) d does not match row and column index% (num2) d',\n",
              "  'hi': '% (rolename) s अभिभावक सूची% (num1) d पंक्ति और स्तंभ सूची% (num2) d से मेल नहीं खाते'},\n",
              " {'en': '% s has no name or description',\n",
              "  'hi': '% s का कोई नाम या विवरण नहीं'},\n",
              " {'en': '_ Preferences...', 'hi': 'पसंद (_ P)... '},\n",
              " {'en': '_ Contents', 'hi': 'विषय सूची (_ C) '},\n",
              " {'en': 'Accerciser could not see the applications on your desktop. You must enable desktop accessibility to fix this problem. Do you want to enable it now?',\n",
              "  'hi': 'एक्सेरसाइसर आपके डेस्कटोप में मौजूद अनुप्रयोग नहीं देख पाया। इस समस्या के समाधान के लिए आपको डेस्कटोप पहुंचनीयता को सक्रिय करना होगा। क्या आप इसे सक्रिय करना चाहते हैं? '},\n",
              " {'en': 'Note: Changes only take effect after logout.',\n",
              "  'hi': 'टिप्पणीः परिवर्तन सत्रांत (लोगआउट) के बाद ही प्रभाव में आएंगे। '},\n",
              " {'en': '< dead >', 'hi': '<dead> '},\n",
              " {'en': 'Children', 'hi': 'शिशु'},\n",
              " {'en': '_ Hide / Show Applications without children',\n",
              "  'hi': 'बच्चों के बिना अनुप्रयोग छिपाएँ/दिखाएँ (_ H) '},\n",
              " {'en': '_ Refresh Registry', 'hi': 'पंजी ताजा करें (_ R) '},\n",
              " {'en': 'Refresh all', 'hi': 'सभी को ताजा करें'},\n",
              " {'en': 'Refresh _ Node', 'hi': 'आसंधि (नोड) को ताजा करें (_ N) '},\n",
              " {'en': \"Refresh selected node 's children\",\n",
              "  'hi': 'चुनी गई आसंधियों (नोड) के शिशुओं को ताजा करें'},\n",
              " {'en': 'Component', 'hi': 'घटक'},\n",
              " {'en': 'Task', 'hi': 'कार्य'},\n",
              " {'en': 'Key', 'hi': 'कुंजी'},\n",
              " {'en': 'Alt', 'hi': 'आल्ट'},\n",
              " {'en': 'Ctrl', 'hi': 'कंट्रोल'},\n",
              " {'en': 'Shift', 'hi': 'शिफ्ट'},\n",
              " {'en': 'Top panel', 'hi': 'ऊपरी पटल'},\n",
              " {'en': 'Bottom panel', 'hi': 'निचला पटल'},\n",
              " {'en': 'accerciser Preferences', 'hi': 'एक्सेर्साइसर पसंद'},\n",
              " {'en': 'Plugins', 'hi': 'प्लगइन्स'},\n",
              " {'en': 'Global Hotkeys', 'hi': 'सार्वत्रिक फटाफट कुंजियां'},\n",
              " {'en': 'Highlighting', 'hi': 'हाइलाइटन'},\n",
              " {'en': 'Highlight duration:', 'hi': 'हाइलाइट अवधिः'},\n",
              " {'en': 'Border color:', 'hi': 'सीमांत रंगः'},\n",
              " {'en': 'The border color of the highlight box',\n",
              "  'hi': 'हाइलाइट बक्से का सीमांत रंग'},\n",
              " {'en': 'Fill color:', 'hi': 'भराई का रंगः'},\n",
              " {'en': 'The fill color of the highlight box',\n",
              "  'hi': 'हाइलाइट बक्से का भराई रंग'},\n",
              " {'en': 'translator - credits',\n",
              "  'hi': 'रविशंकर श्रीवास्तव (raviratlami @yahoo. com) राजेश रंजन (rajeshkajha @yahoo. com) ल. बालसुब्रमण्यम (l. balasubramaniam @gmail. com) '},\n",
              " {'en': 'An interactive Python accessibility explorer',\n",
              "  'hi': 'एक अंतर्क्रियात्मक पाइथन पहुंचनीयता अन्वेषक'},\n",
              " {'en': 'accerciser Copyright (c) 2006, 2007 IBM Corporation (BSD)',\n",
              "  'hi': 'एक्सेर्साइसर सर्वाधिकार (c) 2006,2007 आईबीएम निगम (बीएसडी) '},\n",
              " {'en': 'The New BSD License See the COPYING and NOTICE files for details.',\n",
              "  'hi': 'नया बीएसडी लाइसेन्स विवरण के लिए देखिए प्रतिलिपीकरण और सूचना फाइलें'},\n",
              " {'en': 'Web site', 'hi': 'जाल स्थल'},\n",
              " {'en': '_ Add Bookmark...', 'hi': 'पसंद जोड़ें... (_ A) '},\n",
              " {'en': 'Bookmark selected accessible.',\n",
              "  'hi': 'चुने गए एक्सेसेबलों को पुस्तक-चिह्नित करें'},\n",
              " {'en': '_ Edit Bookmarks...', 'hi': 'पुस्तक चिह्न संपादित करें (_ E)... '},\n",
              " {'en': 'Manage bookmarks.', 'hi': 'पुस्तक-चिह्नों को प्रबंधित करें। '},\n",
              " {'en': 'Edit Bookmarks...', 'hi': 'पुस्तक चिह्नों को संपादित करें... '},\n",
              " {'en': 'Title', 'hi': 'शीर्षक'},\n",
              " {'en': 'Application', 'hi': 'अनुप्रयोग'},\n",
              " {'en': 'Path', 'hi': 'पथ'},\n",
              " {'en': 'Add Bookmark...', 'hi': 'पुस्तक-चिह्न जोड़ें... '},\n",
              " {'en': 'Title:', 'hi': 'शीर्षकः'},\n",
              " {'en': 'Application:', 'hi': 'अनुप्रयोगः'},\n",
              " {'en': 'Path:', 'hi': 'पथः'},\n",
              " {'en': 'Plugin Errors', 'hi': 'प्लग-इन त्रुटियांviewport'},\n",
              " {'en': 'View', 'hi': 'दृश्य'},\n",
              " {'en': 'No view', 'hi': 'कोई दृश्य नहीं है'},\n",
              " {'en': '_ Single plugins view', 'hi': 'एकल प्लग-इन दृश्य'},\n",
              " {'en': 'Plugin View', 'hi': 'प्लग-इन दृश्य'},\n",
              " {'en': 'Plugin View (% d)', 'hi': 'प्लग-इन दृश्य (% d) '},\n",
              " {'en': '_ New view...', 'hi': 'नया दृश्य... (_ N) '},\n",
              " {'en': 'New View...', 'hi': 'नया दृश्य... '},\n",
              " {'en': '_ File', 'hi': 'फाइल (F) '},\n",
              " {'en': '_ Edit', 'hi': 'संपादित करेंmenu'},\n",
              " {'en': '_ Bookmarks', 'hi': 'पसंद (_ B) menu'},\n",
              " {'en': '_ View', 'hi': 'दृश्य _ (V) '},\n",
              " {'en': '_ Help', 'hi': 'मदद'},\n",
              " {'en': 'Accerciser', 'hi': 'एक्सेर्साइसर'},\n",
              " {'en': 'Give your application an accessibility workout',\n",
              "  'hi': 'अपने अनुप्रयोग को पहुंचनीयता व्यायाम का लाभ दें'},\n",
              " {'en': 'Accerciser Accessibility Explorer',\n",
              "  'hi': 'एक्सेर्साइसर पहुंचनीयता अन्वेषक'},\n",
              " {'en': 'A list of plugins that are disabled by default',\n",
              "  'hi': 'उन प्लग-इनों की सूची जिन्हें डिफोल्ट रूप से निष्क्रिय किया गया है'},\n",
              " {'en': 'A list of plugins that are disabled by default.',\n",
              "  'hi': 'उन प्लग-इनों की सूची जिन्हें डिफोल्ट रूप से निष्क्रिय किया गया है'},\n",
              " ...]"
            ]
          },
          "metadata": {},
          "execution_count": 24
        }
      ]
    },
    {
      "cell_type": "code",
      "source": [
        "for ex in  dataset[\"train\"][\"translation\"][0:30]:   # first 31 sentences\n",
        "  print(ex[\"en\"])   # fetching english sentences"
      ],
      "metadata": {
        "colab": {
          "base_uri": "https://localhost:8080/"
        },
        "id": "OiBa4rRr9guQ",
        "outputId": "4b5ff110-f877-4572-b4c8-7a90e09beb62"
      },
      "execution_count": 25,
      "outputs": [
        {
          "output_type": "stream",
          "name": "stdout",
          "text": [
            "Accerciser Accessibility Explorer\n",
            "The default plugin layout for the bottom panel\n",
            "The default plugin layout for the top panel\n",
            "A list of plugins that are disabled by default\n",
            "Highlight duration\n",
            "The duration of the highlight box when selecting accessible nodes\n",
            "Highlight border color\n",
            "The color and opacity of the highlight border.\n",
            "Highlight fill color\n",
            "The color and opacity of the highlight fill.\n",
            "API Browser\n",
            "Browse the various methods of the current accessible\n",
            "Hide private attributes\n",
            "Method\n",
            "Property\n",
            "Value\n",
            "IPython Console\n",
            "Interactive console for manipulating currently selected accessible\n",
            "Event monitor\n",
            "_ Monitor Events\n",
            "C _ lear Selection\n",
            "Everything\n",
            "Selected application\n",
            "Selected accessible\n",
            "Source\n",
            "Event Monitor\n",
            "Shows events as they occur from selected types and sources\n",
            "Highlight last event entry\n",
            "Start / stop event recording\n"
          ]
        }
      ]
    },
    {
      "cell_type": "code",
      "source": [
        "for ex in  dataset[\"train\"][\"translation\"][0:30]:   # first 31 sentences\n",
        "  print(ex[\"hi\"])   # fetching hindi sentences"
      ],
      "metadata": {
        "colab": {
          "base_uri": "https://localhost:8080/"
        },
        "id": "L7CKn7JC92CZ",
        "outputId": "c5b34ef9-f11b-43fd-e748-3deae1770a71"
      },
      "execution_count": 26,
      "outputs": [
        {
          "output_type": "stream",
          "name": "stdout",
          "text": [
            "एक्सेर्साइसर पहुंचनीयता अन्वेषक\n",
            "निचले पटल के लिए डिफोल्ट प्लग-इन खाका\n",
            "ऊपरी पटल के लिए डिफोल्ट प्लग-इन खाका\n",
            "उन प्लग-इनों की सूची जिन्हें डिफोल्ट रूप से निष्क्रिय किया गया है\n",
            "अवधि को हाइलाइट रकें\n",
            "पहुंचनीय आसंधि (नोड) को चुनते समय हाइलाइट बक्से की अवधि\n",
            "सीमांत (बोर्डर) के रंग को हाइलाइट करें\n",
            "हाइलाइट किए गए सीमांत का रंग और अपारदर्शिता। \n",
            "भराई के रंग को हाइलाइट करें\n",
            "हाइलाइट किया गया भराई का रंग और पारदर्शिता। \n",
            "एपीआई विचरक\n",
            "इस समय जिसे प्राप्त किया गया हो, उसकी विभिन्न विधियों (मेथड) में विचरण करें\n",
            "निजी गुणों को छिपाएं\n",
            "विधि\n",
            "गुणधर्म\n",
            "मान\n",
            "आईपाइथन कन्सोल\n",
            "इस समय चुने गए एक्सेसेबेल से काम लेने के लिए अंतर्क्रियात्मक कन्सोल\n",
            "घटना मानिटर\n",
            "घटनाओं को मानिटर करें (_ M) \n",
            "चुनाव को हटाएं (C _) \n",
            "सभी\n",
            "चुने गए अनुप्रयोग\n",
            "चुने गए एक्सेसेबेल\n",
            "स्रोत\n",
            "घटना मानिटर\n",
            "चुने गए प्रकारों और स्रोतों से घटनाएं जैसे-जैसे घटित होती हैं, उन्हें दर्शाता है\n",
            "अंतिम प्रविष्ट घटना को हाइलाइट करो\n",
            "घटना रेकोर्डिंग शुरू करो/रोको\n"
          ]
        }
      ]
    },
    {
      "cell_type": "code",
      "source": [
        "max_input_length = 128\n",
        "max_target_length = 128\n",
        "\n",
        "source_lang=\"en\"\n",
        "target_lang=\"hi\"\n",
        "\n",
        "def process_function(sentence):\n",
        "\n",
        "  inputs= [ex[source_lang] for ex in sentence[\"translation\"]]\n",
        "  targets= [ex[target_lang] for ex in sentence[\"translation\"]]\n",
        "\n",
        "  model_inputs = tokenizer(inputs,max_length=max_input_length,truncation=True)\n",
        "\n",
        "  with tokenizer.as_target_tokenizer():\n",
        "    labels=tokenizer(targets,max_length=max_target_length,truncation=True)\n",
        "\n",
        "\n",
        "  model_inputs[\"labels\"]=labels[\"input_ids\"]\n",
        "  return model_inputs\n"
      ],
      "metadata": {
        "id": "W60FUWFt9o8N"
      },
      "execution_count": 31,
      "outputs": []
    },
    {
      "cell_type": "code",
      "source": [
        "tokenized_data = dataset.map(process_function, batched=True)"
      ],
      "metadata": {
        "colab": {
          "base_uri": "https://localhost:8080/",
          "height": 168,
          "referenced_widgets": [
            "4924e23e452748e3bac5c458945b8752",
            "f447f19986a74468991518012a707813",
            "d052cb03198e4812888f34ced507b98c",
            "20d3f2f223e24ef6a510b7e16f0576ea",
            "7e88bd79d89e485a85bc4c9ab3fa2660",
            "d5853d6eb46d471da54229ce5f1b4add",
            "7acad44c2b4c4fb290baeee38b62ed63",
            "1fa6c48a0091424b8bb18b840c96a65a",
            "19a06d06bac146feb018de1f8a4bc5e4",
            "3a680916001f43c5b393357e70c5c273",
            "cf1b4382f9d848afac7ce96dc2447914",
            "2aa88b37e45a49f2acfec4abfcd15a05",
            "9960d883c00443ffb604b84c64c29933",
            "2f42aae3734b41d3afea1cc01f95a3bd",
            "b7a2f7b52f124642acdc83f0c8aefd11",
            "a77348b4be5a436aaf68baa820c6a88d",
            "1feb676764a2414f85ebe8fb561f667c",
            "407cefce56994a9eb26322909210d2a4",
            "8426ae5eaf434e23b7ee1ef23bee2884",
            "f3e643c2f75e430d9b00982404ceae20",
            "7f183369e4534a97bf569b9be056fd78",
            "1b93fd08e9754e19b1a9d847fa95aa80",
            "d36f1cc99d9b4e1e8fc999d151509e52",
            "8eac9c8aeba449718e2861b4ef81c576",
            "65392044376e49aba49460cfe7b36f5e",
            "4b0f0602704e4208a0b2fe49264be357",
            "61e8b5a40ca04af78963be3cb1226c48",
            "b09670509bc24fd79ff64c6434dcd33f",
            "e70031655cd14b4daf25bafdbb5d3003",
            "25faa7f8d3f049e7bcc4c519d2382a27",
            "d196a7592c384b3e830aef8d9ebf546c",
            "1a8bf7073dc4497fafba9de978f0db31",
            "64654ed270e444f8976338db0342b0e3"
          ]
        },
        "id": "WD66zNHBB6PT",
        "outputId": "65389f5a-cd59-4073-c2b6-5d4559669bbb"
      },
      "execution_count": 32,
      "outputs": [
        {
          "output_type": "display_data",
          "data": {
            "text/plain": [
              "Map:   0%|          | 0/1659083 [00:00<?, ? examples/s]"
            ],
            "application/vnd.jupyter.widget-view+json": {
              "version_major": 2,
              "version_minor": 0,
              "model_id": "4924e23e452748e3bac5c458945b8752"
            }
          },
          "metadata": {}
        },
        {
          "output_type": "stream",
          "name": "stderr",
          "text": [
            "/usr/local/lib/python3.10/dist-packages/transformers/tokenization_utils_base.py:3892: UserWarning: `as_target_tokenizer` is deprecated and will be removed in v5 of Transformers. You can tokenize your labels by using the argument `text_target` of the regular `__call__` method (either in the same call as your input texts if you use the same keyword arguments, or in a separate call.\n",
            "  warnings.warn(\n"
          ]
        },
        {
          "output_type": "display_data",
          "data": {
            "text/plain": [
              "Map:   0%|          | 0/520 [00:00<?, ? examples/s]"
            ],
            "application/vnd.jupyter.widget-view+json": {
              "version_major": 2,
              "version_minor": 0,
              "model_id": "2aa88b37e45a49f2acfec4abfcd15a05"
            }
          },
          "metadata": {}
        },
        {
          "output_type": "display_data",
          "data": {
            "text/plain": [
              "Map:   0%|          | 0/2507 [00:00<?, ? examples/s]"
            ],
            "application/vnd.jupyter.widget-view+json": {
              "version_major": 2,
              "version_minor": 0,
              "model_id": "d36f1cc99d9b4e1e8fc999d151509e52"
            }
          },
          "metadata": {}
        }
      ]
    },
    {
      "cell_type": "code",
      "source": [
        "tokenized_data"
      ],
      "metadata": {
        "colab": {
          "base_uri": "https://localhost:8080/"
        },
        "id": "Bs6QOzqVENWw",
        "outputId": "47f8ea63-b8c5-469e-ca37-4d952e0637c1"
      },
      "execution_count": 33,
      "outputs": [
        {
          "output_type": "execute_result",
          "data": {
            "text/plain": [
              "DatasetDict({\n",
              "    train: Dataset({\n",
              "        features: ['translation', 'input_ids', 'attention_mask', 'labels'],\n",
              "        num_rows: 1659083\n",
              "    })\n",
              "    validation: Dataset({\n",
              "        features: ['translation', 'input_ids', 'attention_mask', 'labels'],\n",
              "        num_rows: 520\n",
              "    })\n",
              "    test: Dataset({\n",
              "        features: ['translation', 'input_ids', 'attention_mask', 'labels'],\n",
              "        num_rows: 2507\n",
              "    })\n",
              "})"
            ]
          },
          "metadata": {},
          "execution_count": 33
        }
      ]
    },
    {
      "cell_type": "code",
      "source": [
        "model"
      ],
      "metadata": {
        "colab": {
          "base_uri": "https://localhost:8080/",
          "height": 35
        },
        "id": "g3jM_rTsIfaL",
        "outputId": "fd1c8b62-b715-4875-b20c-51b4dbae26a9"
      },
      "execution_count": 34,
      "outputs": [
        {
          "output_type": "execute_result",
          "data": {
            "text/plain": [
              "'Helsinki-NLP/opus-mt-en-hi'"
            ],
            "application/vnd.google.colaboratory.intrinsic+json": {
              "type": "string"
            }
          },
          "metadata": {},
          "execution_count": 34
        }
      ]
    },
    {
      "cell_type": "code",
      "source": [
        "# i am loading pre trained model\n",
        "model=TFAutoModelForSeq2SeqLM.from_pretrained(model)"
      ],
      "metadata": {
        "colab": {
          "base_uri": "https://localhost:8080/",
          "height": 170,
          "referenced_widgets": [
            "54832dd6d9e2492f98cbc1e1117f71c7",
            "af92a33b8a2d459f837c5d7d6c5be3bd",
            "e372abf788d84dcca8fd381ca056ff43",
            "6cfa77e499b84fde8d22df1ad4c5f6f6",
            "5d51accd057343978f51e320546dac2d",
            "e148d99e3d3642db8c5581cb48192dfb",
            "09794c41637a4f338e7e8e3a25d611d5",
            "4655ef5821444a01a26528b1b639bb29",
            "bcdb4ffb28ca4b829a10b96f1392355b",
            "ece9606bff6e4ca49af81219753d436a",
            "dac9d39586c24a6ab0811f26b43a26a0",
            "e0c56dab6b2b4d5fa74db03532292cca",
            "ea8596e67a8a40818938035ea74e2454",
            "35dbe5e04ee64e24930f5f198d30e226",
            "28f9041189ba4a49ba1e7a199fd202c8",
            "90c8516af1794626ab77301182c8deb9",
            "1592aab6b0c0467182df7552788e4021",
            "2d231c217d5c471ebe627ede96c5b654",
            "c3e06a929e3640779893216dcd177172",
            "536fc26f4e704da08586a5923ded96da",
            "728c282a1af7430f8289fbaf7919b152",
            "2c9be68f0ea042979a2dc7fd24b55f87"
          ]
        },
        "id": "55VpmDoNIiWL",
        "outputId": "26b912c2-949b-4a4a-abf3-7c66073b5f14"
      },
      "execution_count": 35,
      "outputs": [
        {
          "output_type": "display_data",
          "data": {
            "text/plain": [
              "tf_model.h5:   0%|          | 0.00/306M [00:00<?, ?B/s]"
            ],
            "application/vnd.jupyter.widget-view+json": {
              "version_major": 2,
              "version_minor": 0,
              "model_id": "54832dd6d9e2492f98cbc1e1117f71c7"
            }
          },
          "metadata": {}
        },
        {
          "output_type": "stream",
          "name": "stderr",
          "text": [
            "All model checkpoint layers were used when initializing TFMarianMTModel.\n",
            "\n",
            "All the layers of TFMarianMTModel were initialized from the model checkpoint at Helsinki-NLP/opus-mt-en-hi.\n",
            "If your task is similar to the task the model of the checkpoint was trained on, you can already use TFMarianMTModel for predictions without further training.\n"
          ]
        },
        {
          "output_type": "display_data",
          "data": {
            "text/plain": [
              "generation_config.json:   0%|          | 0.00/293 [00:00<?, ?B/s]"
            ],
            "application/vnd.jupyter.widget-view+json": {
              "version_major": 2,
              "version_minor": 0,
              "model_id": "e0c56dab6b2b4d5fa74db03532292cca"
            }
          },
          "metadata": {}
        }
      ]
    },
    {
      "cell_type": "code",
      "source": [
        "batch_size=32\n",
        "learning_rate=0.001\n",
        "weight_decay=0.01\n",
        "num_train_epochs=1"
      ],
      "metadata": {
        "id": "7-rJ15PeInnq"
      },
      "execution_count": 36,
      "outputs": []
    },
    {
      "cell_type": "code",
      "source": [
        "data_collator=DataCollatorForSeq2Seq(tokenizer, model=model, return_tensors=\"tf\")"
      ],
      "metadata": {
        "id": "BT2uZOBtIrgy"
      },
      "execution_count": 37,
      "outputs": []
    },
    {
      "cell_type": "code",
      "source": [
        "train_dataset=model.prepare_tf_dataset(\n",
        "    tokenized_data[\"test\"],\n",
        "    batch_size=batch_size,\n",
        "    shuffle=True,\n",
        "    collate_fn=data_collator\n",
        "\n",
        ")"
      ],
      "metadata": {
        "id": "rRsWrcRJIvMT"
      },
      "execution_count": 38,
      "outputs": []
    },
    {
      "cell_type": "code",
      "source": [
        "validation_dataset=model.prepare_tf_dataset(\n",
        "    tokenized_data[\"validation\"],\n",
        "    batch_size=batch_size,\n",
        "    shuffle=False,\n",
        "    collate_fn=data_collator,\n",
        "\n",
        ")"
      ],
      "metadata": {
        "id": "H2qFRj4lIzur"
      },
      "execution_count": 39,
      "outputs": []
    },
    {
      "cell_type": "code",
      "source": [
        "optimizer=AdamWeightDecay(learning_rate=learning_rate, weight_decay_rate=weight_decay)"
      ],
      "metadata": {
        "id": "OoBlJ8gjI3m6"
      },
      "execution_count": 40,
      "outputs": []
    },
    {
      "cell_type": "code",
      "source": [
        "model.compile(optimizer=optimizer)"
      ],
      "metadata": {
        "id": "0AiU-sDdI9iD"
      },
      "execution_count": 41,
      "outputs": []
    },
    {
      "cell_type": "code",
      "source": [
        "#this is my finetuing\n",
        "model.fit(train_dataset,validation_data=validation_dataset,epochs=num_train_epochs)"
      ],
      "metadata": {
        "colab": {
          "base_uri": "https://localhost:8080/"
        },
        "id": "yOhZyBdRJBoz",
        "outputId": "886999ee-06b1-473a-d4e8-f4efe42d7a26"
      },
      "execution_count": 42,
      "outputs": [
        {
          "output_type": "stream",
          "name": "stderr",
          "text": [
            "WARNING:tensorflow:AutoGraph could not transform <function infer_framework at 0x7a2b70973910> and will run it as-is.\n",
            "Cause: for/else statement not yet supported\n",
            "To silence this warning, decorate the function with @tf.autograph.experimental.do_not_convert\n"
          ]
        },
        {
          "output_type": "stream",
          "name": "stdout",
          "text": [
            "WARNING: AutoGraph could not transform <function infer_framework at 0x7a2b70973910> and will run it as-is.\n",
            "Cause: for/else statement not yet supported\n",
            "To silence this warning, decorate the function with @tf.autograph.experimental.do_not_convert\n",
            "78/78 [==============================] - 182s 821ms/step - loss: 4.5893 - val_loss: 4.8000\n"
          ]
        },
        {
          "output_type": "execute_result",
          "data": {
            "text/plain": [
              "<tf_keras.src.callbacks.History at 0x7a2acb45a4a0>"
            ]
          },
          "metadata": {},
          "execution_count": 42
        }
      ]
    },
    {
      "cell_type": "code",
      "source": [
        "model.save_pretrained(\"tf_model/\")"
      ],
      "metadata": {
        "colab": {
          "base_uri": "https://localhost:8080/"
        },
        "id": "wioVzSsMJBkC",
        "outputId": "66ac8e15-286c-4c60-8f03-d2bf93ef7ea9"
      },
      "execution_count": 43,
      "outputs": [
        {
          "output_type": "stream",
          "name": "stderr",
          "text": [
            "Some non-default generation parameters are set in the model config. These should go into a GenerationConfig file (https://huggingface.co/docs/transformers/generation_strategies#save-a-custom-decoding-strategy-with-your-model) instead. This warning will be raised to an exception in v4.41.\n",
            "Non-default generation parameters: {'max_length': 512, 'num_beams': 4, 'bad_words_ids': [[61949]], 'forced_eos_token_id': 0}\n"
          ]
        }
      ]
    },
    {
      "cell_type": "markdown",
      "source": [
        "#model inferencing\n",
        "https://huggingface.co/datasets/cfilt/iitb-english-hindi"
      ],
      "metadata": {
        "id": "Gha__ie7JJup"
      }
    },
    {
      "cell_type": "code",
      "source": [
        "input_text=\"i am learning coding. how about your coding\""
      ],
      "metadata": {
        "id": "wPf31vOfJBgi"
      },
      "execution_count": 44,
      "outputs": []
    },
    {
      "cell_type": "code",
      "source": [
        "tokenized=tokenizer([input_text],return_tensors='np')"
      ],
      "metadata": {
        "id": "fK6eryknJBcy"
      },
      "execution_count": 45,
      "outputs": []
    },
    {
      "cell_type": "code",
      "source": [
        "tokenized"
      ],
      "metadata": {
        "colab": {
          "base_uri": "https://localhost:8080/"
        },
        "id": "w_yb7bGAJBUi",
        "outputId": "4ad9b6df-4d90-4d31-c36e-1aff4309f135"
      },
      "execution_count": 46,
      "outputs": [
        {
          "output_type": "execute_result",
          "data": {
            "text/plain": [
              "{'input_ids': array([[5556,  489, 3729, 7308,  232,  137,    3,  287,  195,   85, 7308,\n",
              "         232,  137,    0]]), 'attention_mask': array([[1, 1, 1, 1, 1, 1, 1, 1, 1, 1, 1, 1, 1, 1]])}"
            ]
          },
          "metadata": {},
          "execution_count": 46
        }
      ]
    },
    {
      "cell_type": "code",
      "source": [
        "out=model.generate(**tokenized, max_length=128)"
      ],
      "metadata": {
        "id": "A0LpiN9sJVzq"
      },
      "execution_count": 47,
      "outputs": []
    },
    {
      "cell_type": "code",
      "source": [
        "out[0]"
      ],
      "metadata": {
        "colab": {
          "base_uri": "https://localhost:8080/"
        },
        "id": "vOvP1vGhJVnQ",
        "outputId": "92e74257-a947-4539-bb2f-a604f83b7bf8"
      },
      "execution_count": 48,
      "outputs": [
        {
          "output_type": "execute_result",
          "data": {
            "text/plain": [
              "<tf.Tensor: shape=(24,), dtype=int32, numpy=\n",
              "array([61949,   104,  1811,    57,   153,   254,    40,   522,   697,\n",
              "         123,  1890,     6,   207,    11,  1374,    91,     6,   207,\n",
              "          11,    65,  1374,    78,     0, 61949], dtype=int32)>"
            ]
          },
          "metadata": {},
          "execution_count": 48
        }
      ]
    },
    {
      "cell_type": "code",
      "source": [
        "with tokenizer.as_target_tokenizer():\n",
        "  print(tokenizer.decode(out[0]))\n"
      ],
      "metadata": {
        "colab": {
          "base_uri": "https://localhost:8080/"
        },
        "id": "AGk04DTzJViJ",
        "outputId": "6597ca75-7505-4920-bc70-0c39e52c1198"
      },
      "execution_count": 53,
      "outputs": [
        {
          "output_type": "stream",
          "name": "stdout",
          "text": [
            "<pad> मैं चर्चा कर रहा हूँ। आपके कवरिंग के बारे में विचार करने के बारे में क्या विचार किया</s> <pad>\n"
          ]
        }
      ]
    },
    {
      "cell_type": "code",
      "source": [
        "# hugging:\n",
        "# openai\n",
        "# gemini\n",
        "# langcain\n",
        "# llamaindex\n",
        "# vectordatabase\n",
        "\n",
        "# application\n",
        "# RAG\n",
        "\n",
        "# 1 month\n",
        "\n",
        "\n",
        "# opesource\n",
        "# hugging: gemma llama mistral claude\n",
        "# fietiuning\n",
        "# PEFT\n",
        "# LORA\n",
        "# QLORA\n",
        "# Dissliation\n",
        "# quantization\n",
        "\n",
        "# end to end:\n",
        "# deployement\n",
        "# llmops\n",
        "# mlops\n",
        "# aws,azure\n",
        "\n",
        "# difffion\n",
        "# tools"
      ],
      "metadata": {
        "id": "yAl_O1EvJVae"
      },
      "execution_count": null,
      "outputs": []
    },
    {
      "cell_type": "code",
      "source": [],
      "metadata": {
        "id": "lqGD1u25C8LY"
      },
      "execution_count": null,
      "outputs": []
    }
  ]
}