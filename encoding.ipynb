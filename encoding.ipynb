{
 "cells": [
  {
   "cell_type": "code",
   "execution_count": 1,
   "metadata": {},
   "outputs": [
    {
     "name": "stderr",
     "output_type": "stream",
     "text": [
      "C:\\Users\\pavan\\AppData\\Local\\Temp\\ipykernel_5224\\4080736814.py:1: DeprecationWarning: \n",
      "Pyarrow will become a required dependency of pandas in the next major release of pandas (pandas 3.0),\n",
      "(to allow more performant data types, such as the Arrow string type, and better interoperability with other libraries)\n",
      "but was not found to be installed on your system.\n",
      "If this would cause problems for you,\n",
      "please provide us feedback at https://github.com/pandas-dev/pandas/issues/54466\n",
      "        \n",
      "  import pandas as pd\n"
     ]
    }
   ],
   "source": [
    "import pandas as pd"
   ]
  },
  {
   "cell_type": "code",
   "execution_count": 2,
   "metadata": {},
   "outputs": [],
   "source": [
    "data=pd.DataFrame({\"text\":[\"people watch ineuron\",\"ineuron watch ineuron\",\"people write comment\",\"ineuron write comment\"],\"output\":[1,0,0,1]})"
   ]
  },
  {
   "cell_type": "code",
   "execution_count": 3,
   "metadata": {},
   "outputs": [
    {
     "data": {
      "text/html": [
       "<div>\n",
       "<style scoped>\n",
       "    .dataframe tbody tr th:only-of-type {\n",
       "        vertical-align: middle;\n",
       "    }\n",
       "\n",
       "    .dataframe tbody tr th {\n",
       "        vertical-align: top;\n",
       "    }\n",
       "\n",
       "    .dataframe thead th {\n",
       "        text-align: right;\n",
       "    }\n",
       "</style>\n",
       "<table border=\"1\" class=\"dataframe\">\n",
       "  <thead>\n",
       "    <tr style=\"text-align: right;\">\n",
       "      <th></th>\n",
       "      <th>text</th>\n",
       "      <th>output</th>\n",
       "    </tr>\n",
       "  </thead>\n",
       "  <tbody>\n",
       "    <tr>\n",
       "      <th>0</th>\n",
       "      <td>people watch ineuron</td>\n",
       "      <td>1</td>\n",
       "    </tr>\n",
       "    <tr>\n",
       "      <th>1</th>\n",
       "      <td>ineuron watch ineuron</td>\n",
       "      <td>0</td>\n",
       "    </tr>\n",
       "    <tr>\n",
       "      <th>2</th>\n",
       "      <td>people write comment</td>\n",
       "      <td>0</td>\n",
       "    </tr>\n",
       "    <tr>\n",
       "      <th>3</th>\n",
       "      <td>ineuron write comment</td>\n",
       "      <td>1</td>\n",
       "    </tr>\n",
       "  </tbody>\n",
       "</table>\n",
       "</div>"
      ],
      "text/plain": [
       "                    text  output\n",
       "0   people watch ineuron       1\n",
       "1  ineuron watch ineuron       0\n",
       "2   people write comment       0\n",
       "3  ineuron write comment       1"
      ]
     },
     "execution_count": 3,
     "metadata": {},
     "output_type": "execute_result"
    }
   ],
   "source": [
    "data"
   ]
  },
  {
   "cell_type": "code",
   "execution_count": 8,
   "metadata": {},
   "outputs": [
    {
     "ename": "ImportError",
     "evalue": "cannot import name 'CountVectorizer' from 'sklearn.feature_extraction' (C:\\Users\\pavan\\AppData\\Local\\Packages\\PythonSoftwareFoundation.Python.3.12_qbz5n2kfra8p0\\LocalCache\\local-packages\\Python312\\site-packages\\sklearn\\feature_extraction\\__init__.py)",
     "output_type": "error",
     "traceback": [
      "\u001b[1;31m---------------------------------------------------------------------------\u001b[0m",
      "\u001b[1;31mImportError\u001b[0m                               Traceback (most recent call last)",
      "Cell \u001b[1;32mIn[8], line 1\u001b[0m\n\u001b[1;32m----> 1\u001b[0m \u001b[38;5;28;01mfrom\u001b[39;00m \u001b[38;5;21;01msklearn\u001b[39;00m\u001b[38;5;21;01m.\u001b[39;00m\u001b[38;5;21;01mfeature_extraction\u001b[39;00m \u001b[38;5;28;01mimport\u001b[39;00m CountVectorizer\n",
      "\u001b[1;31mImportError\u001b[0m: cannot import name 'CountVectorizer' from 'sklearn.feature_extraction' (C:\\Users\\pavan\\AppData\\Local\\Packages\\PythonSoftwareFoundation.Python.3.12_qbz5n2kfra8p0\\LocalCache\\local-packages\\Python312\\site-packages\\sklearn\\feature_extraction\\__init__.py)"
     ]
    }
   ],
   "source": [
    "from sklearn.feature_extraction import CountVectorizer"
   ]
  },
  {
   "cell_type": "code",
   "execution_count": 6,
   "metadata": {},
   "outputs": [
    {
     "name": "stdout",
     "output_type": "stream",
     "text": [
      "Defaulting to user installation because normal site-packages is not writeable\n",
      "Collecting scikit-learn\n",
      "  Obtaining dependency information for scikit-learn from https://files.pythonhosted.org/packages/f6/28/b569523552a11b49dc4d33952f43dedb23792fe8ce2f2151d070d615861a/scikit_learn-1.4.0-1-cp312-cp312-win_amd64.whl.metadata\n",
      "  Downloading scikit_learn-1.4.0-1-cp312-cp312-win_amd64.whl.metadata (11 kB)\n",
      "Requirement already satisfied: numpy<2.0,>=1.19.5 in c:\\users\\pavan\\appdata\\local\\packages\\pythonsoftwarefoundation.python.3.12_qbz5n2kfra8p0\\localcache\\local-packages\\python312\\site-packages (from scikit-learn) (1.26.3)\n",
      "Collecting scipy>=1.6.0 (from scikit-learn)\n",
      "  Obtaining dependency information for scipy>=1.6.0 from https://files.pythonhosted.org/packages/f3/31/91a2a3c5eb85d2bfa86d7c98f2df5d77dcdefb3d80ca9f9037ad04393acf/scipy-1.12.0-cp312-cp312-win_amd64.whl.metadata\n",
      "  Downloading scipy-1.12.0-cp312-cp312-win_amd64.whl.metadata (60 kB)\n",
      "     ---------------------------------------- 0.0/60.4 kB ? eta -:--:--\n",
      "     ------ --------------------------------- 10.2/60.4 kB ? eta -:--:--\n",
      "     -------------------------------------- 60.4/60.4 kB 809.7 kB/s eta 0:00:00\n",
      "Requirement already satisfied: joblib>=1.2.0 in c:\\users\\pavan\\appdata\\local\\packages\\pythonsoftwarefoundation.python.3.12_qbz5n2kfra8p0\\localcache\\local-packages\\python312\\site-packages (from scikit-learn) (1.3.2)\n",
      "Collecting threadpoolctl>=2.0.0 (from scikit-learn)\n",
      "  Obtaining dependency information for threadpoolctl>=2.0.0 from https://files.pythonhosted.org/packages/81/12/fd4dea011af9d69e1cad05c75f3f7202cdcbeac9b712eea58ca779a72865/threadpoolctl-3.2.0-py3-none-any.whl.metadata\n",
      "  Downloading threadpoolctl-3.2.0-py3-none-any.whl.metadata (10.0 kB)\n",
      "Downloading scikit_learn-1.4.0-1-cp312-cp312-win_amd64.whl (10.6 MB)\n",
      "   ---------------------------------------- 0.0/10.6 MB ? eta -:--:--\n",
      "   - -------------------------------------- 0.3/10.6 MB 6.5 MB/s eta 0:00:02\n",
      "   --- ------------------------------------ 1.0/10.6 MB 10.9 MB/s eta 0:00:01\n",
      "   ---- ----------------------------------- 1.3/10.6 MB 11.6 MB/s eta 0:00:01\n",
      "   ------- -------------------------------- 2.0/10.6 MB 11.8 MB/s eta 0:00:01\n",
      "   ---------- ----------------------------- 2.8/10.6 MB 12.8 MB/s eta 0:00:01\n",
      "   ------------ --------------------------- 3.4/10.6 MB 12.9 MB/s eta 0:00:01\n",
      "   --------------- ------------------------ 4.1/10.6 MB 13.1 MB/s eta 0:00:01\n",
      "   ----------------- ---------------------- 4.6/10.6 MB 13.4 MB/s eta 0:00:01\n",
      "   -------------------- ------------------- 5.4/10.6 MB 13.3 MB/s eta 0:00:01\n",
      "   ----------------------- ---------------- 6.1/10.6 MB 13.4 MB/s eta 0:00:01\n",
      "   ------------------------- -------------- 6.8/10.6 MB 13.6 MB/s eta 0:00:01\n",
      "   ---------------------------- ----------- 7.5/10.6 MB 13.7 MB/s eta 0:00:01\n",
      "   ------------------------------ --------- 8.1/10.6 MB 14.0 MB/s eta 0:00:01\n",
      "   --------------------------------- ------ 8.8/10.6 MB 14.0 MB/s eta 0:00:01\n",
      "   ---------------------------------- ----- 9.2/10.6 MB 13.6 MB/s eta 0:00:01\n",
      "   ------------------------------------ --- 9.6/10.6 MB 13.4 MB/s eta 0:00:01\n",
      "   ---------------------------------------  10.5/10.6 MB 13.9 MB/s eta 0:00:01\n",
      "   ---------------------------------------- 10.6/10.6 MB 13.1 MB/s eta 0:00:00\n",
      "Downloading scipy-1.12.0-cp312-cp312-win_amd64.whl (45.8 MB)\n",
      "   ---------------------------------------- 0.0/45.8 MB ? eta -:--:--\n",
      "   ---------------------------------------- 0.5/45.8 MB 34.8 MB/s eta 0:00:02\n",
      "   - -------------------------------------- 1.3/45.8 MB 16.4 MB/s eta 0:00:03\n",
      "   - -------------------------------------- 2.0/45.8 MB 16.0 MB/s eta 0:00:03\n",
      "   -- ------------------------------------- 2.5/45.8 MB 14.8 MB/s eta 0:00:03\n",
      "   -- ------------------------------------- 3.3/45.8 MB 14.9 MB/s eta 0:00:03\n",
      "   --- ------------------------------------ 3.8/45.8 MB 15.2 MB/s eta 0:00:03\n",
      "   --- ------------------------------------ 4.5/45.8 MB 15.1 MB/s eta 0:00:03\n",
      "   ---- ----------------------------------- 5.1/45.8 MB 14.8 MB/s eta 0:00:03\n",
      "   ----- ---------------------------------- 5.8/45.8 MB 15.3 MB/s eta 0:00:03\n",
      "   ----- ---------------------------------- 6.3/45.8 MB 14.3 MB/s eta 0:00:03\n",
      "   ------ --------------------------------- 7.0/45.8 MB 14.8 MB/s eta 0:00:03\n",
      "   ------ --------------------------------- 7.6/45.8 MB 14.8 MB/s eta 0:00:03\n",
      "   ------- -------------------------------- 8.2/45.8 MB 14.6 MB/s eta 0:00:03\n",
      "   ------- -------------------------------- 9.1/45.8 MB 14.9 MB/s eta 0:00:03\n",
      "   -------- ------------------------------- 9.6/45.8 MB 14.7 MB/s eta 0:00:03\n",
      "   -------- ------------------------------- 10.1/45.8 MB 14.4 MB/s eta 0:00:03\n",
      "   --------- ------------------------------ 10.5/45.8 MB 13.9 MB/s eta 0:00:03\n",
      "   --------- ------------------------------ 11.0/45.8 MB 14.2 MB/s eta 0:00:03\n",
      "   ---------- ----------------------------- 11.7/45.8 MB 13.9 MB/s eta 0:00:03\n",
      "   ---------- ----------------------------- 12.3/45.8 MB 13.9 MB/s eta 0:00:03\n",
      "   ----------- ---------------------------- 12.9/45.8 MB 13.9 MB/s eta 0:00:03\n",
      "   ----------- ---------------------------- 13.7/45.8 MB 13.9 MB/s eta 0:00:03\n",
      "   ------------ --------------------------- 14.2/45.8 MB 13.9 MB/s eta 0:00:03\n",
      "   ------------ --------------------------- 14.8/45.8 MB 13.9 MB/s eta 0:00:03\n",
      "   ------------- -------------------------- 15.4/45.8 MB 13.6 MB/s eta 0:00:03\n",
      "   ------------- -------------------------- 15.9/45.8 MB 13.6 MB/s eta 0:00:03\n",
      "   -------------- ------------------------- 16.3/45.8 MB 13.4 MB/s eta 0:00:03\n",
      "   -------------- ------------------------- 17.0/45.8 MB 13.9 MB/s eta 0:00:03\n",
      "   --------------- ------------------------ 17.5/45.8 MB 13.9 MB/s eta 0:00:03\n",
      "   --------------- ------------------------ 18.2/45.8 MB 13.6 MB/s eta 0:00:03\n",
      "   ---------------- ----------------------- 18.7/45.8 MB 13.6 MB/s eta 0:00:02\n",
      "   ---------------- ----------------------- 19.4/45.8 MB 13.6 MB/s eta 0:00:02\n",
      "   ----------------- ---------------------- 19.8/45.8 MB 13.4 MB/s eta 0:00:02\n",
      "   ----------------- ---------------------- 20.3/45.8 MB 13.1 MB/s eta 0:00:02\n",
      "   ------------------ --------------------- 21.0/45.8 MB 13.6 MB/s eta 0:00:02\n",
      "   ------------------ --------------------- 21.7/45.8 MB 13.9 MB/s eta 0:00:02\n",
      "   ------------------- -------------------- 22.3/45.8 MB 13.9 MB/s eta 0:00:02\n",
      "   -------------------- ------------------- 22.9/45.8 MB 13.9 MB/s eta 0:00:02\n",
      "   -------------------- ------------------- 23.5/45.8 MB 13.6 MB/s eta 0:00:02\n",
      "   --------------------- ------------------ 24.1/45.8 MB 13.9 MB/s eta 0:00:02\n",
      "   --------------------- ------------------ 24.8/45.8 MB 13.9 MB/s eta 0:00:02\n",
      "   ---------------------- ----------------- 25.4/45.8 MB 13.9 MB/s eta 0:00:02\n",
      "   ---------------------- ----------------- 26.0/45.8 MB 13.9 MB/s eta 0:00:02\n",
      "   ----------------------- ---------------- 26.6/45.8 MB 13.9 MB/s eta 0:00:02\n",
      "   ----------------------- ---------------- 27.3/45.8 MB 13.9 MB/s eta 0:00:02\n",
      "   ------------------------ --------------- 27.6/45.8 MB 13.9 MB/s eta 0:00:02\n",
      "   ------------------------ --------------- 28.3/45.8 MB 13.9 MB/s eta 0:00:02\n",
      "   ------------------------- -------------- 28.9/45.8 MB 13.9 MB/s eta 0:00:02\n",
      "   ------------------------- -------------- 29.8/45.8 MB 14.2 MB/s eta 0:00:02\n",
      "   -------------------------- ------------- 30.3/45.8 MB 14.2 MB/s eta 0:00:02\n",
      "   -------------------------- ------------- 30.9/45.8 MB 13.9 MB/s eta 0:00:02\n",
      "   --------------------------- ------------ 31.6/45.8 MB 14.2 MB/s eta 0:00:02\n",
      "   ---------------------------- ----------- 32.3/45.8 MB 14.2 MB/s eta 0:00:01\n",
      "   ---------------------------- ----------- 33.0/45.8 MB 14.2 MB/s eta 0:00:01\n",
      "   ----------------------------- ---------- 33.6/45.8 MB 14.2 MB/s eta 0:00:01\n",
      "   ----------------------------- ---------- 34.2/45.8 MB 14.2 MB/s eta 0:00:01\n",
      "   ------------------------------ --------- 35.0/45.8 MB 14.2 MB/s eta 0:00:01\n",
      "   ------------------------------ --------- 35.3/45.8 MB 13.9 MB/s eta 0:00:01\n",
      "   ------------------------------- -------- 36.0/45.8 MB 14.2 MB/s eta 0:00:01\n",
      "   ------------------------------- -------- 36.6/45.8 MB 14.2 MB/s eta 0:00:01\n",
      "   -------------------------------- ------- 37.3/45.8 MB 13.9 MB/s eta 0:00:01\n",
      "   -------------------------------- ------- 37.7/45.8 MB 14.2 MB/s eta 0:00:01\n",
      "   --------------------------------- ------ 38.4/45.8 MB 14.2 MB/s eta 0:00:01\n",
      "   ---------------------------------- ----- 39.2/45.8 MB 14.6 MB/s eta 0:00:01\n",
      "   ---------------------------------- ----- 39.7/45.8 MB 13.9 MB/s eta 0:00:01\n",
      "   ----------------------------------- ---- 40.1/45.8 MB 13.9 MB/s eta 0:00:01\n",
      "   ----------------------------------- ---- 41.1/45.8 MB 14.6 MB/s eta 0:00:01\n",
      "   ------------------------------------ --- 41.7/45.8 MB 14.6 MB/s eta 0:00:01\n",
      "   ------------------------------------ --- 42.1/45.8 MB 13.9 MB/s eta 0:00:01\n",
      "   ------------------------------------- -- 42.8/45.8 MB 14.2 MB/s eta 0:00:01\n",
      "   ------------------------------------- -- 43.5/45.8 MB 14.2 MB/s eta 0:00:01\n",
      "   -------------------------------------- - 44.2/45.8 MB 13.9 MB/s eta 0:00:01\n",
      "   ---------------------------------------  44.9/45.8 MB 14.2 MB/s eta 0:00:01\n",
      "   ---------------------------------------  45.4/45.8 MB 14.5 MB/s eta 0:00:01\n",
      "   ---------------------------------------  45.8/45.8 MB 14.9 MB/s eta 0:00:01\n",
      "   ---------------------------------------  45.8/45.8 MB 14.9 MB/s eta 0:00:01\n",
      "   ---------------------------------------  45.8/45.8 MB 14.9 MB/s eta 0:00:01\n",
      "   ---------------------------------------- 45.8/45.8 MB 11.5 MB/s eta 0:00:00\n",
      "Downloading threadpoolctl-3.2.0-py3-none-any.whl (15 kB)\n",
      "Installing collected packages: threadpoolctl, scipy, scikit-learn\n",
      "Successfully installed scikit-learn-1.4.0 scipy-1.12.0 threadpoolctl-3.2.0\n"
     ]
    },
    {
     "name": "stderr",
     "output_type": "stream",
     "text": [
      "\n",
      "[notice] A new release of pip is available: 23.2.1 -> 24.0\n",
      "[notice] To update, run: C:\\Users\\pavan\\AppData\\Local\\Microsoft\\WindowsApps\\PythonSoftwareFoundation.Python.3.12_qbz5n2kfra8p0\\python.exe -m pip install --upgrade pip\n"
     ]
    }
   ],
   "source": [
    "!pip install scikit-learn"
   ]
  },
  {
   "cell_type": "code",
   "execution_count": 10,
   "metadata": {},
   "outputs": [],
   "source": [
    "from sklearn.feature_extraction.text import CountVectorizer"
   ]
  },
  {
   "cell_type": "markdown",
   "metadata": {},
   "source": [
    "Bag of Words"
   ]
  },
  {
   "cell_type": "code",
   "execution_count": 11,
   "metadata": {},
   "outputs": [],
   "source": [
    "Bag_of_Word = CountVectorizer()"
   ]
  },
  {
   "cell_type": "code",
   "execution_count": 12,
   "metadata": {},
   "outputs": [],
   "source": [
    "document_matrix = Bag_of_Word.fit_transform(data[\"text\"])"
   ]
  },
  {
   "cell_type": "code",
   "execution_count": 13,
   "metadata": {},
   "outputs": [
    {
     "data": {
      "text/plain": [
       "<4x5 sparse matrix of type '<class 'numpy.int64'>'\n",
       "\twith 11 stored elements in Compressed Sparse Row format>"
      ]
     },
     "execution_count": 13,
     "metadata": {},
     "output_type": "execute_result"
    }
   ],
   "source": [
    "document_matrix"
   ]
  },
  {
   "cell_type": "code",
   "execution_count": 18,
   "metadata": {},
   "outputs": [
    {
     "data": {
      "text/plain": [
       "{'people': 2, 'watch': 3, 'ineuron': 1, 'write': 4, 'comment': 0}"
      ]
     },
     "execution_count": 18,
     "metadata": {},
     "output_type": "execute_result"
    }
   ],
   "source": [
    "Bag_of_Word.vocabulary_"
   ]
  },
  {
   "cell_type": "code",
   "execution_count": 14,
   "metadata": {},
   "outputs": [
    {
     "data": {
      "text/plain": [
       "array(['comment', 'ineuron', 'people', 'watch', 'write'], dtype=object)"
      ]
     },
     "execution_count": 14,
     "metadata": {},
     "output_type": "execute_result"
    }
   ],
   "source": [
    "Bag_of_Word.get_feature_names_out()"
   ]
  },
  {
   "cell_type": "code",
   "execution_count": 17,
   "metadata": {},
   "outputs": [
    {
     "data": {
      "text/plain": [
       "array([[0, 1, 1, 1, 0]], dtype=int64)"
      ]
     },
     "execution_count": 17,
     "metadata": {},
     "output_type": "execute_result"
    }
   ],
   "source": [
    "document_matrix[0].toarray()"
   ]
  },
  {
   "cell_type": "code",
   "execution_count": 19,
   "metadata": {},
   "outputs": [
    {
     "data": {
      "text/plain": [
       "array([[0, 2, 0, 1, 0]], dtype=int64)"
      ]
     },
     "execution_count": 19,
     "metadata": {},
     "output_type": "execute_result"
    }
   ],
   "source": [
    "document_matrix[1].toarray()"
   ]
  },
  {
   "cell_type": "code",
   "execution_count": 20,
   "metadata": {},
   "outputs": [
    {
     "data": {
      "text/plain": [
       "array([[1, 0, 1, 0, 1]], dtype=int64)"
      ]
     },
     "execution_count": 20,
     "metadata": {},
     "output_type": "execute_result"
    }
   ],
   "source": [
    "document_matrix[2].toarray()"
   ]
  },
  {
   "cell_type": "code",
   "execution_count": 21,
   "metadata": {},
   "outputs": [
    {
     "data": {
      "text/plain": [
       "array([[1, 1, 0, 0, 1]], dtype=int64)"
      ]
     },
     "execution_count": 21,
     "metadata": {},
     "output_type": "execute_result"
    }
   ],
   "source": [
    "document_matrix[3].toarray()"
   ]
  },
  {
   "cell_type": "markdown",
   "metadata": {},
   "source": [
    "N-Gram"
   ]
  },
  {
   "cell_type": "code",
   "execution_count": 23,
   "metadata": {},
   "outputs": [],
   "source": [
    "# bigram\n",
    "bigram = CountVectorizer(ngram_range=(2,2))"
   ]
  },
  {
   "cell_type": "code",
   "execution_count": 25,
   "metadata": {},
   "outputs": [],
   "source": [
    "bigram_vocab = bigram.fit_transform(data[\"text\"])"
   ]
  },
  {
   "cell_type": "code",
   "execution_count": 26,
   "metadata": {},
   "outputs": [
    {
     "data": {
      "text/plain": [
       "{'people watch': 2,\n",
       " 'watch ineuron': 4,\n",
       " 'ineuron watch': 0,\n",
       " 'people write': 3,\n",
       " 'write comment': 5,\n",
       " 'ineuron write': 1}"
      ]
     },
     "execution_count": 26,
     "metadata": {},
     "output_type": "execute_result"
    }
   ],
   "source": [
    "bigram.vocabulary_"
   ]
  },
  {
   "cell_type": "code",
   "execution_count": 29,
   "metadata": {},
   "outputs": [
    {
     "data": {
      "text/plain": [
       "array(['ineuron watch', 'ineuron write', 'people watch', 'people write',\n",
       "       'watch ineuron', 'write comment'], dtype=object)"
      ]
     },
     "execution_count": 29,
     "metadata": {},
     "output_type": "execute_result"
    }
   ],
   "source": [
    "bigram.get_feature_names_out()"
   ]
  },
  {
   "cell_type": "code",
   "execution_count": 32,
   "metadata": {},
   "outputs": [
    {
     "data": {
      "text/plain": [
       "array([[0, 0, 1, 0, 1, 0]], dtype=int64)"
      ]
     },
     "execution_count": 32,
     "metadata": {},
     "output_type": "execute_result"
    }
   ],
   "source": [
    "bigram_vocab[0].toarray()"
   ]
  },
  {
   "cell_type": "code",
   "execution_count": 33,
   "metadata": {},
   "outputs": [
    {
     "data": {
      "text/plain": [
       "array([[1, 0, 0, 0, 1, 0]], dtype=int64)"
      ]
     },
     "execution_count": 33,
     "metadata": {},
     "output_type": "execute_result"
    }
   ],
   "source": [
    "bigram_vocab[1].toarray()"
   ]
  },
  {
   "cell_type": "code",
   "execution_count": 34,
   "metadata": {},
   "outputs": [
    {
     "data": {
      "text/plain": [
       "array([[0, 0, 0, 1, 0, 1]], dtype=int64)"
      ]
     },
     "execution_count": 34,
     "metadata": {},
     "output_type": "execute_result"
    }
   ],
   "source": [
    "bigram_vocab[2].toarray()"
   ]
  },
  {
   "cell_type": "code",
   "execution_count": 35,
   "metadata": {},
   "outputs": [
    {
     "data": {
      "text/plain": [
       "array([[0, 1, 0, 0, 0, 1]], dtype=int64)"
      ]
     },
     "execution_count": 35,
     "metadata": {},
     "output_type": "execute_result"
    }
   ],
   "source": [
    "bigram_vocab[3].toarray()"
   ]
  },
  {
   "cell_type": "code",
   "execution_count": 36,
   "metadata": {},
   "outputs": [],
   "source": [
    "# trigram\n",
    "trigram = CountVectorizer(ngram_range=(3,3))"
   ]
  },
  {
   "cell_type": "code",
   "execution_count": 38,
   "metadata": {},
   "outputs": [],
   "source": [
    "trigram_voacb = trigram.fit_transform(data[\"text\"])"
   ]
  },
  {
   "cell_type": "code",
   "execution_count": 39,
   "metadata": {},
   "outputs": [
    {
     "data": {
      "text/plain": [
       "{'people watch ineuron': 2,\n",
       " 'ineuron watch ineuron': 0,\n",
       " 'people write comment': 3,\n",
       " 'ineuron write comment': 1}"
      ]
     },
     "execution_count": 39,
     "metadata": {},
     "output_type": "execute_result"
    }
   ],
   "source": [
    "trigram.vocabulary_"
   ]
  },
  {
   "cell_type": "code",
   "execution_count": 40,
   "metadata": {},
   "outputs": [
    {
     "data": {
      "text/plain": [
       "array(['ineuron watch ineuron', 'ineuron write comment',\n",
       "       'people watch ineuron', 'people write comment'], dtype=object)"
      ]
     },
     "execution_count": 40,
     "metadata": {},
     "output_type": "execute_result"
    }
   ],
   "source": [
    "trigram.get_feature_names_out()"
   ]
  },
  {
   "cell_type": "code",
   "execution_count": 42,
   "metadata": {},
   "outputs": [
    {
     "data": {
      "text/plain": [
       "array([[0, 0, 1, 0]], dtype=int64)"
      ]
     },
     "execution_count": 42,
     "metadata": {},
     "output_type": "execute_result"
    }
   ],
   "source": [
    "trigram_voacb[0].toarray()"
   ]
  },
  {
   "cell_type": "code",
   "execution_count": 43,
   "metadata": {},
   "outputs": [
    {
     "data": {
      "text/plain": [
       "array([[1, 0, 0, 0]], dtype=int64)"
      ]
     },
     "execution_count": 43,
     "metadata": {},
     "output_type": "execute_result"
    }
   ],
   "source": [
    "trigram_voacb[1].toarray()"
   ]
  },
  {
   "cell_type": "code",
   "execution_count": 44,
   "metadata": {},
   "outputs": [
    {
     "data": {
      "text/plain": [
       "array([[0, 0, 0, 1]], dtype=int64)"
      ]
     },
     "execution_count": 44,
     "metadata": {},
     "output_type": "execute_result"
    }
   ],
   "source": [
    "trigram_voacb[2].toarray()"
   ]
  },
  {
   "cell_type": "code",
   "execution_count": 45,
   "metadata": {},
   "outputs": [
    {
     "data": {
      "text/plain": [
       "array([[0, 1, 0, 0]], dtype=int64)"
      ]
     },
     "execution_count": 45,
     "metadata": {},
     "output_type": "execute_result"
    }
   ],
   "source": [
    "trigram_voacb[3].toarray()"
   ]
  },
  {
   "cell_type": "markdown",
   "metadata": {},
   "source": [
    "mix vocabulary"
   ]
  },
  {
   "cell_type": "code",
   "execution_count": 46,
   "metadata": {},
   "outputs": [],
   "source": [
    "mix = CountVectorizer(ngram_range=(1,2))        # gives both single and bi gram words"
   ]
  },
  {
   "cell_type": "code",
   "execution_count": 47,
   "metadata": {},
   "outputs": [],
   "source": [
    "mix_vocab = mix.fit_transform(data[\"text\"])"
   ]
  },
  {
   "cell_type": "code",
   "execution_count": 48,
   "metadata": {},
   "outputs": [
    {
     "data": {
      "text/plain": [
       "array(['comment', 'ineuron', 'ineuron watch', 'ineuron write', 'people',\n",
       "       'people watch', 'people write', 'watch', 'watch ineuron', 'write',\n",
       "       'write comment'], dtype=object)"
      ]
     },
     "execution_count": 48,
     "metadata": {},
     "output_type": "execute_result"
    }
   ],
   "source": [
    "mix.get_feature_names_out()"
   ]
  },
  {
   "cell_type": "code",
   "execution_count": 49,
   "metadata": {},
   "outputs": [
    {
     "data": {
      "text/plain": [
       "{'people': 4,\n",
       " 'watch': 7,\n",
       " 'ineuron': 1,\n",
       " 'people watch': 5,\n",
       " 'watch ineuron': 8,\n",
       " 'ineuron watch': 2,\n",
       " 'write': 9,\n",
       " 'comment': 0,\n",
       " 'people write': 6,\n",
       " 'write comment': 10,\n",
       " 'ineuron write': 3}"
      ]
     },
     "execution_count": 49,
     "metadata": {},
     "output_type": "execute_result"
    }
   ],
   "source": [
    "mix.vocabulary_"
   ]
  },
  {
   "cell_type": "markdown",
   "metadata": {},
   "source": [
    "TF-IDF(term frequency - inverse document frequency)"
   ]
  },
  {
   "cell_type": "code",
   "execution_count": 50,
   "metadata": {},
   "outputs": [],
   "source": [
    "from sklearn.feature_extraction.text import TfidfVectorizer"
   ]
  },
  {
   "cell_type": "code",
   "execution_count": 51,
   "metadata": {},
   "outputs": [],
   "source": [
    "tf = TfidfVectorizer()"
   ]
  },
  {
   "cell_type": "code",
   "execution_count": 55,
   "metadata": {},
   "outputs": [],
   "source": [
    "tfidf = tf.fit_transform(data[\"text\"]).toarray()"
   ]
  },
  {
   "cell_type": "code",
   "execution_count": 53,
   "metadata": {},
   "outputs": [
    {
     "data": {
      "text/plain": [
       "array(['comment', 'ineuron', 'people', 'watch', 'write'], dtype=object)"
      ]
     },
     "execution_count": 53,
     "metadata": {},
     "output_type": "execute_result"
    }
   ],
   "source": [
    "tf.get_feature_names_out()"
   ]
  },
  {
   "cell_type": "code",
   "execution_count": 54,
   "metadata": {},
   "outputs": [
    {
     "data": {
      "text/plain": [
       "{'people': 2, 'watch': 3, 'ineuron': 1, 'write': 4, 'comment': 0}"
      ]
     },
     "execution_count": 54,
     "metadata": {},
     "output_type": "execute_result"
    }
   ],
   "source": [
    "tf.vocabulary_"
   ]
  },
  {
   "cell_type": "code",
   "execution_count": 57,
   "metadata": {},
   "outputs": [
    {
     "data": {
      "text/plain": [
       "array([[0.        , 0.49681612, 0.61366674, 0.61366674, 0.        ],\n",
       "       [0.        , 0.8508161 , 0.        , 0.52546357, 0.        ],\n",
       "       [0.57735027, 0.        , 0.57735027, 0.        , 0.57735027],\n",
       "       [0.61366674, 0.49681612, 0.        , 0.        , 0.61366674]])"
      ]
     },
     "execution_count": 57,
     "metadata": {},
     "output_type": "execute_result"
    }
   ],
   "source": [
    "tfidf"
   ]
  },
  {
   "cell_type": "code",
   "execution_count": 56,
   "metadata": {},
   "outputs": [
    {
     "data": {
      "text/plain": [
       "array([0.        , 0.49681612, 0.61366674, 0.61366674, 0.        ])"
      ]
     },
     "execution_count": 56,
     "metadata": {},
     "output_type": "execute_result"
    }
   ],
   "source": [
    "tfidf[0]"
   ]
  },
  {
   "cell_type": "code",
   "execution_count": 60,
   "metadata": {},
   "outputs": [
    {
     "data": {
      "text/plain": [
       "array([0.        , 0.8508161 , 0.        , 0.52546357, 0.        ])"
      ]
     },
     "execution_count": 60,
     "metadata": {},
     "output_type": "execute_result"
    }
   ],
   "source": [
    "tfidf[1]"
   ]
  },
  {
   "cell_type": "code",
   "execution_count": 61,
   "metadata": {},
   "outputs": [
    {
     "data": {
      "text/plain": [
       "array([0.57735027, 0.        , 0.57735027, 0.        , 0.57735027])"
      ]
     },
     "execution_count": 61,
     "metadata": {},
     "output_type": "execute_result"
    }
   ],
   "source": [
    "tfidf[2]"
   ]
  },
  {
   "cell_type": "code",
   "execution_count": 62,
   "metadata": {},
   "outputs": [
    {
     "data": {
      "text/plain": [
       "array([0.61366674, 0.49681612, 0.        , 0.        , 0.61366674])"
      ]
     },
     "execution_count": 62,
     "metadata": {},
     "output_type": "execute_result"
    }
   ],
   "source": [
    "tfidf[3]"
   ]
  },
  {
   "cell_type": "code",
   "execution_count": 59,
   "metadata": {},
   "outputs": [
    {
     "data": {
      "text/plain": [
       "array([1.51082562, 1.22314355, 1.51082562, 1.51082562, 1.51082562])"
      ]
     },
     "execution_count": 59,
     "metadata": {},
     "output_type": "execute_result"
    }
   ],
   "source": [
    "tf.idf_"
   ]
  },
  {
   "cell_type": "code",
   "execution_count": null,
   "metadata": {},
   "outputs": [],
   "source": []
  }
 ],
 "metadata": {
  "kernelspec": {
   "display_name": "Python 3",
   "language": "python",
   "name": "python3"
  },
  "language_info": {
   "codemirror_mode": {
    "name": "ipython",
    "version": 3
   },
   "file_extension": ".py",
   "mimetype": "text/x-python",
   "name": "python",
   "nbconvert_exporter": "python",
   "pygments_lexer": "ipython3",
   "version": "3.12.1"
  }
 },
 "nbformat": 4,
 "nbformat_minor": 2
}
